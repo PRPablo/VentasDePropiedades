{
 "cells": [
  {
   "cell_type": "code",
   "execution_count": 1,
   "metadata": {
    "collapsed": true
   },
   "outputs": [],
   "source": [
    "# magic function para hacer que los graficos de matplotlib se renderizen en el notebook.\n",
    "%matplotlib inline\n",
    "\n",
    "import datetime as datetime\n",
    "import pandas as pd\n",
    "import numpy as np\n",
    "import matplotlib.pyplot as plt\n",
    "\n",
    "\n",
    "plt.style.use('default') # haciendo los graficos un poco mas bonitos xD\n",
    "plt.rcParams['figure.figsize'] = (15, 5)"
   ]
  },
  {
   "cell_type": "code",
   "execution_count": 2,
   "metadata": {
    "collapsed": true
   },
   "outputs": [],
   "source": [
    "#leo los csv de properati\n",
    "csv_01_2016 = pd.read_csv('data/properati-AR-2016-01-01-properties-sell.csv', low_memory=False)\n",
    "csv_12_2015 = pd.read_csv('data/properati-AR-2015-12-01-properties-sell.csv', low_memory=False)\n",
    "csv_11_2015 = pd.read_csv('data/properati-AR-2015-11-01-properties-sell.csv', low_memory=False)\n",
    "csv_10_2015 = pd.read_csv('data/properati-AR-2015-10-01-properties-sell.csv', low_memory=False)\n",
    "csv_09_2015 = pd.read_csv('data/properati-AR-2015-09-01-properties-sell.csv', low_memory=False)\n",
    "csv_08_2015 = pd.read_csv('data/properati-AR-2015-08-01-properties-sell.csv', low_memory=False)\n",
    "\n",
    "#filtramos columnas (guardamos las utiles)\n",
    "#nota  'place_with_parent_names' es equivalente a 'state_name'\n",
    "csv_01_2016 = csv_01_2016.loc[:,['created_on','property_type','place_name','place_with_parent_names','lat','lon','price','currency','price_aprox_usd','surface_in_m2','rooms','expenses','properati_url']]\n",
    "csv_12_2015 = csv_12_2015.loc[:,['created_on','property_type','place_name','place_with_parent_names','lat','lon','price','currency','price_aprox_usd','surface_in_m2','rooms','expenses','properati_url']]\n",
    "csv_11_2015 = csv_11_2015.loc[:,['created_on','property_type','place_name','place_with_parent_names','lat','lon','price','currency','price_aprox_usd','surface_in_m2','rooms','expenses','properati_url']]\n",
    "csv_10_2015 = csv_10_2015.loc[:,['created_on','property_type','place_name','place_with_parent_names','lat','lon','price','currency','price_aprox_usd','surface_in_m2','rooms','expenses','properati_url']]\n",
    "csv_09_2015 = csv_09_2015.loc[:,['created_on','property_type','place_name','place_with_parent_names','lat','lon','price','currency','price_aprox_usd','surface_in_m2','rooms','expenses','properati_url']]\n",
    "csv_08_2015 = csv_08_2015.loc[:,['created_on','property_type','place_name','place_with_parent_names','lat','lon','price','currency','price_aprox_usd','surface_in_m2','rooms','expenses','properati_url']]\n",
    "\n",
    "# renombro columnas (columns = {'place_with_parent_names':'state_name','surface_in_m2':'surface_total_in_m2'})\n",
    "csv_01_2016.rename(columns = {'place_with_parent_names':'state_name','surface_in_m2':'surface_total_in_m2'}, inplace=True)\n",
    "csv_12_2015.rename(columns = {'place_with_parent_names':'state_name','surface_in_m2':'surface_total_in_m2'}, inplace=True)\n",
    "csv_11_2015.rename(columns = {'place_with_parent_names':'state_name','surface_in_m2':'surface_total_in_m2'}, inplace=True)\n",
    "csv_10_2015.rename(columns = {'place_with_parent_names':'state_name','surface_in_m2':'surface_total_in_m2'}, inplace=True)\n",
    "csv_09_2015.rename(columns = {'place_with_parent_names':'state_name','surface_in_m2':'surface_total_in_m2'}, inplace=True)\n",
    "csv_08_2015.rename(columns = {'place_with_parent_names':'state_name','surface_in_m2':'surface_total_in_m2'}, inplace=True)\n",
    "\n",
    "#filtro duplicados por fecha\n",
    "sells_12_2015 = csv_01_2016.loc[(csv_01_2016['created_on'] <= '2015-12-31') & (csv_01_2016['created_on'] >='2015-12-01')]\n",
    "sells_11_2015 = csv_12_2015.loc[(csv_12_2015['created_on'] <= '2015-11-31') & (csv_12_2015['created_on'] >='2015-11-01')]\n",
    "sells_10_2015 = csv_11_2015.loc[(csv_11_2015['created_on'] <= '2015-10-31') & (csv_11_2015['created_on'] >='2015-10-01')]\n",
    "sells_09_2015 = csv_10_2015.loc[(csv_10_2015['created_on'] <= '2015-09-31') & (csv_10_2015['created_on'] >='2015-09-01')]\n",
    "sells_08_2015 = csv_09_2015.loc[(csv_09_2015['created_on'] <= '2015-08-31') & (csv_09_2015['created_on'] >='2015-08-01')]\n",
    "sells_07_2015 = csv_08_2015.loc[(csv_08_2015['created_on'] <= '2015-07-31') & (csv_08_2015['created_on'] >='2015-07-01')]\n",
    "\n",
    "#guardo nuevos csv con los datos filtrados\n",
    "sells_12_2015.to_csv('filterdata/sells_12_2015.csv')\n",
    "sells_11_2015.to_csv('filterdata/sells_11_2015.csv')\n",
    "sells_10_2015.to_csv('filterdata/sells_10_2015.csv')\n",
    "sells_09_2015.to_csv('filterdata/sells_09_2015.csv')\n",
    "sells_08_2015.to_csv('filterdata/sells_08_2015.csv')\n",
    "sells_07_2015.to_csv('filterdata/sells_07_2015.csv')\n",
    "\n"
   ]
  },
  {
   "cell_type": "code",
   "execution_count": 3,
   "metadata": {
    "collapsed": true
   },
   "outputs": [],
   "source": [
    "csv_07_2015 = pd.read_csv('data/properati-AR-2015-07-01-properties-sell.csv', low_memory=False)\n",
    "csv_06_2015 = pd.read_csv('data/properati-AR-2015-06-01-properties-sell.csv', low_memory=False)\n",
    "csv_05_2015 = pd.read_csv('data/properati-AR-2015-05-01-properties-sell.csv', low_memory=False)\n",
    "csv_04_2015 = pd.read_csv('data/properati-AR-2015-04-01-properties-sell.csv', low_memory=False)\n",
    "csv_03_2015 = pd.read_csv('data/properati-AR-2015-03-01-properties-sell.csv', low_memory=False)\n",
    "csv_02_2015 = pd.read_csv('data/properati-AR-2015-02-01-properties-sell.csv', low_memory=False)\n",
    " \n",
    "\n",
    "#filtramos columnas (guardamos las utiles)\n",
    "#nota  'place_with_parent_names' es equivalente a 'state_name'\n",
    "csv_07_2015 = csv_07_2015.loc[:,['created_on','property_type','place_name','place_with_parent_names','lat','lon','price','currency','price_aprox_usd','surface_in_m2','rooms','expenses','properati_url']]\n",
    "csv_06_2015 = csv_06_2015.loc[:,['created_on','property_type','place_name','place_with_parent_names','lat','lon','price','currency','price_aprox_usd','surface_in_m2','rooms','expenses','properati_url']]\n",
    "csv_05_2015 = csv_05_2015.loc[:,['created_on','property_type','place_name','place_with_parent_names','lat','lon','price','currency','price_aprox_usd','surface_in_m2','rooms','expenses','properati_url']]\n",
    "csv_04_2015 = csv_04_2015.loc[:,['created_on','property_type','place_name','place_with_parent_names','lat','lon','price','currency','price_aprox_usd','surface_in_m2','rooms','expenses','properati_url']]\n",
    "csv_03_2015 = csv_03_2015.loc[:,['created_on','property_type','place_name','place_with_parent_names','lat','lon','price','currency','price_aprox_usd','surface_in_m2','rooms','expenses','properati_url']]\n",
    "csv_02_2015 = csv_02_2015.loc[:,['created_on','property_type','place_name','place_with_parent_names','lat','lon','price','currency','price_aprox_usd','surface_in_m2','rooms','expenses','properati_url']]\n",
    "\n",
    "# renombro columnas (columns = {'place_with_parent_names':'state_name','surface_in_m2':'surface_total_in_m2'})\n",
    "csv_07_2015.rename(columns = {'place_with_parent_names':'state_name','surface_in_m2':'surface_total_in_m2'}, inplace=True)\n",
    "csv_06_2015.rename(columns = {'place_with_parent_names':'state_name','surface_in_m2':'surface_total_in_m2'}, inplace=True)\n",
    "csv_05_2015.rename(columns = {'place_with_parent_names':'state_name','surface_in_m2':'surface_total_in_m2'}, inplace=True)\n",
    "csv_04_2015.rename(columns = {'place_with_parent_names':'state_name','surface_in_m2':'surface_total_in_m2'}, inplace=True)\n",
    "csv_03_2015.rename(columns = {'place_with_parent_names':'state_name','surface_in_m2':'surface_total_in_m2'}, inplace=True)\n",
    "csv_02_2015.rename(columns = {'place_with_parent_names':'state_name','surface_in_m2':'surface_total_in_m2'}, inplace=True)\n",
    "\n",
    "#filtro duplicados\n",
    "sells_06_2015 = csv_07_2015.loc[(csv_07_2015['created_on'] <= '2015-06-31') & (csv_07_2015['created_on'] >='2015-06-01')]\n",
    "sells_05_2015 = csv_06_2015.loc[(csv_06_2015['created_on'] <= '2015-05-31') & (csv_06_2015['created_on'] >='2015-05-01')]\n",
    "sells_04_2015 = csv_05_2015.loc[(csv_05_2015['created_on'] <= '2015-04-31') & (csv_05_2015['created_on'] >='2015-04-01')]\n",
    "sells_03_2015 = csv_04_2015.loc[(csv_04_2015['created_on'] <= '2015-03-31') & (csv_04_2015['created_on'] >='2015-03-01')]\n",
    "sells_02_2015 = csv_03_2015.loc[(csv_03_2015['created_on'] <= '2015-02-31') & (csv_03_2015['created_on'] >='2015-02-01')]\n",
    "sells_01_2015 = csv_02_2015.loc[(csv_02_2015['created_on'] <= '2015-01-31') & (csv_02_2015['created_on'] >='2015-01-01')]\n",
    "\n",
    "#guardo nuevos csv con los datos filtrados\n",
    "sells_06_2015.to_csv('filterdata/sells_06_2015.csv')\n",
    "sells_05_2015.to_csv('filterdata/sells_05_2015.csv')\n",
    "sells_04_2015.to_csv('filterdata/sells_04_2015.csv')\n",
    "sells_03_2015.to_csv('filterdata/sells_03_2015.csv')\n",
    "sells_02_2015.to_csv('filterdata/sells_02_2015.csv')\n",
    "sells_01_2015.to_csv('filterdata/sells_01_2015.csv')\n",
    "\n"
   ]
  },
  {
   "cell_type": "code",
   "execution_count": 3,
   "metadata": {
    "collapsed": false,
    "scrolled": true
   },
   "outputs": [
    {
     "name": "stdout",
     "output_type": "stream",
     "text": [
      "Index(['created_on', 'property_type', 'place_name', 'place_with_parent_names',\n",
      "       'lat', 'lon', 'price', 'currency', 'price_aprox_usd', 'surface_in_m2',\n",
      "       'rooms', 'expenses', 'properati_url'],\n",
      "      dtype='object')\n",
      "13\n",
      "Index(['created_on', 'property_type', 'place_name', 'place_with_parent_names',\n",
      "       'lat', 'lon', 'price', 'currency', 'price_aprox_usd', 'surface_in_m2',\n",
      "       'rooms', 'expenses', 'properati_url'],\n",
      "      dtype='object')\n",
      "13\n",
      "Index(['created_on', 'property_type', 'place_name', 'place_with_parent_names',\n",
      "       'lat', 'lon', 'price', 'currency', 'price_aprox_usd', 'surface_in_m2',\n",
      "       'rooms', 'expenses', 'properati_url'],\n",
      "      dtype='object')\n",
      "13\n",
      "Index(['created_on', 'property_type', 'place_name', 'place_with_parent_names',\n",
      "       'lat', 'lon', 'price', 'currency', 'price_aprox_usd', 'surface_in_m2',\n",
      "       'rooms', 'expenses', 'properati_url'],\n",
      "      dtype='object')\n",
      "13\n",
      "Index(['created_on', 'property_type', 'place_name', 'place_with_parent_names',\n",
      "       'lat', 'lon', 'price', 'currency', 'price_aprox_usd', 'surface_in_m2',\n",
      "       'rooms', 'expenses', 'properati_url'],\n",
      "      dtype='object')\n",
      "13\n",
      "Index(['created_on', 'property_type', 'place_name', 'place_with_parent_names',\n",
      "       'lat', 'lon', 'price', 'currency', 'price_aprox_usd', 'surface_in_m2',\n",
      "       'rooms', 'expenses', 'properati_url'],\n",
      "      dtype='object')\n",
      "13\n"
     ]
    },
    {
     "ename": "NameError",
     "evalue": "name 'csv_01_2015' is not defined",
     "output_type": "error",
     "traceback": [
      "\u001b[0;31m---------------------------------------------------------------------------\u001b[0m",
      "\u001b[0;31mNameError\u001b[0m                                 Traceback (most recent call last)",
      "\u001b[0;32m<ipython-input-3-6e0044b85126>\u001b[0m in \u001b[0;36m<module>\u001b[0;34m()\u001b[0m\n\u001b[1;32m     14\u001b[0m \u001b[0mprint\u001b[0m\u001b[0;34m(\u001b[0m\u001b[0mcsv_02_2015\u001b[0m\u001b[0;34m.\u001b[0m\u001b[0mkeys\u001b[0m\u001b[0;34m(\u001b[0m\u001b[0;34m)\u001b[0m\u001b[0;34m)\u001b[0m\u001b[0;34m\u001b[0m\u001b[0m\n\u001b[1;32m     15\u001b[0m \u001b[0mprint\u001b[0m\u001b[0;34m(\u001b[0m\u001b[0mcsv_02_2015\u001b[0m\u001b[0;34m.\u001b[0m\u001b[0mkeys\u001b[0m\u001b[0;34m(\u001b[0m\u001b[0;34m)\u001b[0m\u001b[0;34m.\u001b[0m\u001b[0msize\u001b[0m\u001b[0;34m)\u001b[0m\u001b[0;34m\u001b[0m\u001b[0m\n\u001b[0;32m---> 16\u001b[0;31m \u001b[0mprint\u001b[0m\u001b[0;34m(\u001b[0m\u001b[0mcsv_01_2015\u001b[0m\u001b[0;34m.\u001b[0m\u001b[0mkeys\u001b[0m\u001b[0;34m(\u001b[0m\u001b[0;34m)\u001b[0m\u001b[0;34m)\u001b[0m\u001b[0;34m\u001b[0m\u001b[0m\n\u001b[0m\u001b[1;32m     17\u001b[0m \u001b[0mprint\u001b[0m\u001b[0;34m(\u001b[0m\u001b[0mcsv_01_2015\u001b[0m\u001b[0;34m.\u001b[0m\u001b[0mkeys\u001b[0m\u001b[0;34m(\u001b[0m\u001b[0;34m)\u001b[0m\u001b[0;34m.\u001b[0m\u001b[0msize\u001b[0m\u001b[0;34m)\u001b[0m\u001b[0;34m\u001b[0m\u001b[0m\n\u001b[1;32m     18\u001b[0m \u001b[0;34m\u001b[0m\u001b[0m\n",
      "\u001b[0;31mNameError\u001b[0m: name 'csv_01_2015' is not defined"
     ]
    }
   ],
   "source": [
    "#prueba para revisar el nombre de las columnas\n",
    "\n",
    "#state_name es equivalente a place_with_parent_names\n",
    "#2015 no tiene la columna 'surface_total_in_m2'\n",
    "\n",
    "print(csv_07_2015.keys())\n",
    "print(csv_07_2015.keys().size)\n",
    "print(csv_06_2015.keys())\n",
    "print(csv_06_2015.keys().size)\n",
    "print(csv_05_2015.keys())\n",
    "print(csv_05_2015.keys().size)\n",
    "print(csv_04_2015.keys())\n",
    "print(csv_04_2015.keys().size)\n",
    "print(csv_03_2015.keys())\n",
    "print(csv_03_2015.keys().size)\n",
    "print(csv_02_2015.keys())\n",
    "print(csv_02_2015.keys().size)\n",
    "\n",
    "#csv_11_2015_aux = csv_11_2015.loc[:,['created_on','property_type','place_name','place_with_parent_names','lat','lon','price','currency','price_aprox_usd','surface_total_in_m2','rooms','expenses','properati_url']]\n",
    "#csv_11_2015_aux"
   ]
  },
  {
   "cell_type": "code",
   "execution_count": 5,
   "metadata": {
    "collapsed": false
   },
   "outputs": [
    {
     "data": {
      "text/plain": [
       "Index(['created_on', 'property_type', 'place_name', 'state_name', 'lat', 'lon',\n",
       "       'price', 'currency', 'price_aprox_usd', 'surface_total_in_m2', 'rooms',\n",
       "       'expenses', 'properati_url'],\n",
       "      dtype='object')"
      ]
     },
     "execution_count": 5,
     "metadata": {},
     "output_type": "execute_result"
    }
   ],
   "source": [
    "#nota Hago esto para renombrar place_with_parent_names' con 'state_name' !!\n",
    "csv_07_2015\n",
    "csv_07_2015_aux = csv_07_2015.rename(columns = {'place_with_parent_names':'state_name','surface_in_m2':'surface_total_in_m2'})\n",
    "csv_07_2015_aux.keys()\n",
    "\n"
   ]
  }
 ],
 "metadata": {
  "kernelspec": {
   "display_name": "Python 3",
   "language": "python",
   "name": "python3"
  },
  "language_info": {
   "codemirror_mode": {
    "name": "ipython",
    "version": 3
   },
   "file_extension": ".py",
   "mimetype": "text/x-python",
   "name": "python",
   "nbconvert_exporter": "python",
   "pygments_lexer": "ipython3",
   "version": "3.6.0"
  }
 },
 "nbformat": 4,
 "nbformat_minor": 2
}
