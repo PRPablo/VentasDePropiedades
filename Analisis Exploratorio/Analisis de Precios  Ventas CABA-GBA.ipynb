{
 "cells": [
  {
   "cell_type": "code",
   "execution_count": 6,
   "metadata": {
    "collapsed": true
   },
   "outputs": [],
   "source": [
    "# magic function para hacer que los graficos de matplotlib se renderizen en el notebook.\n",
    "%matplotlib inline\n",
    "\n",
    "import datetime as datetime\n",
    "import pandas as pd\n",
    "import numpy as np\n",
    "import matplotlib.pyplot as plt\n",
    "\n",
    "\n",
    "plt.style.use('default') # haciendo los graficos un poco mas bonitos xD\n",
    "plt.rcParams['figure.figsize'] = (15, 5)"
   ]
  },
  {
   "cell_type": "code",
   "execution_count": 8,
   "metadata": {},
   "outputs": [
    {
     "data": {
      "text/html": [
       "<div>\n",
       "<style>\n",
       "    .dataframe thead tr:only-child th {\n",
       "        text-align: right;\n",
       "    }\n",
       "\n",
       "    .dataframe thead th {\n",
       "        text-align: left;\n",
       "    }\n",
       "\n",
       "    .dataframe tbody tr th {\n",
       "        vertical-align: top;\n",
       "    }\n",
       "</style>\n",
       "<table border=\"1\" class=\"dataframe\">\n",
       "  <thead>\n",
       "    <tr style=\"text-align: right;\">\n",
       "      <th></th>\n",
       "      <th>version https://git-lfs.github.com/spec/v1</th>\n",
       "    </tr>\n",
       "  </thead>\n",
       "  <tbody>\n",
       "    <tr>\n",
       "      <th>0</th>\n",
       "      <td>oid sha256:bf0a94807384f9e086680fc5a915e1c590a...</td>\n",
       "    </tr>\n",
       "    <tr>\n",
       "      <th>1</th>\n",
       "      <td>size 101570851</td>\n",
       "    </tr>\n",
       "  </tbody>\n",
       "</table>\n",
       "</div>"
      ],
      "text/plain": [
       "          version https://git-lfs.github.com/spec/v1\n",
       "0  oid sha256:bf0a94807384f9e086680fc5a915e1c590a...\n",
       "1                                     size 101570851"
      ]
     },
     "execution_count": 8,
     "metadata": {},
     "output_type": "execute_result"
    }
   ],
   "source": [
    "sells = pd.read_csv('data/Propiedades-0701.csv')\n",
    "sells#.columns.values"
   ]
  },
  {
   "cell_type": "code",
   "execution_count": 5,
   "metadata": {},
   "outputs": [
    {
     "ename": "IndexError",
     "evalue": "index 2 is out of bounds for axis 1 with size 1",
     "output_type": "error",
     "traceback": [
      "\u001b[0;31m---------------------------------------------------------------------------\u001b[0m",
      "\u001b[0;31mIndexError\u001b[0m                                Traceback (most recent call last)",
      "\u001b[0;32m<ipython-input-5-84a05cce5dff>\u001b[0m in \u001b[0;36m<module>\u001b[0;34m()\u001b[0m\n\u001b[1;32m      1\u001b[0m \u001b[0;31m# con esto borro una columna del dataframe (id, operation, place_with_parents_name, country_name, geonames_id(ver si sirve)\u001b[0m\u001b[0;34m\u001b[0m\u001b[0;34m\u001b[0m\u001b[0m\n\u001b[1;32m      2\u001b[0m \u001b[0;31m# lat-lon, price_aprox_local_currency, price_usd_per_m2, price_per_m2, floor, description, title, image_thumbnail)\u001b[0m\u001b[0;34m\u001b[0m\u001b[0;34m\u001b[0m\u001b[0m\n\u001b[0;32m----> 3\u001b[0;31m \u001b[0msells\u001b[0m \u001b[0;34m=\u001b[0m \u001b[0msells\u001b[0m\u001b[0;34m.\u001b[0m\u001b[0mdrop\u001b[0m\u001b[0;34m(\u001b[0m\u001b[0msells\u001b[0m\u001b[0;34m.\u001b[0m\u001b[0mcolumns\u001b[0m\u001b[0;34m[\u001b[0m\u001b[0;34m[\u001b[0m\u001b[0;36m0\u001b[0m\u001b[0;34m,\u001b[0m \u001b[0;36m2\u001b[0m\u001b[0;34m,\u001b[0m \u001b[0;36m5\u001b[0m\u001b[0;34m,\u001b[0m \u001b[0;36m6\u001b[0m\u001b[0;34m,\u001b[0m \u001b[0;36m8\u001b[0m\u001b[0;34m,\u001b[0m \u001b[0;36m9\u001b[0m\u001b[0;34m,\u001b[0m \u001b[0;36m14\u001b[0m\u001b[0;34m,\u001b[0m \u001b[0;36m19\u001b[0m\u001b[0;34m,\u001b[0m \u001b[0;36m20\u001b[0m\u001b[0;34m,\u001b[0m \u001b[0;36m24\u001b[0m\u001b[0;34m,\u001b[0m \u001b[0;36m25\u001b[0m\u001b[0;34m,\u001b[0m \u001b[0;36m26\u001b[0m\u001b[0;34m]\u001b[0m\u001b[0;34m]\u001b[0m\u001b[0;34m,\u001b[0m \u001b[0maxis\u001b[0m\u001b[0;34m=\u001b[0m\u001b[0;36m1\u001b[0m\u001b[0;34m)\u001b[0m\u001b[0;34m\u001b[0m\u001b[0m\n\u001b[0m\u001b[1;32m      4\u001b[0m \u001b[0;34m\u001b[0m\u001b[0m\n\u001b[1;32m      5\u001b[0m \u001b[0;31m#####!!!! Necesito la columna 18\u001b[0m\u001b[0;34m\u001b[0m\u001b[0;34m\u001b[0m\u001b[0m\n",
      "\u001b[0;32m/usr/local/lib/python2.7/dist-packages/pandas/core/indexes/base.pyc\u001b[0m in \u001b[0;36m__getitem__\u001b[0;34m(self, key)\u001b[0m\n\u001b[1;32m   1698\u001b[0m \u001b[0;34m\u001b[0m\u001b[0m\n\u001b[1;32m   1699\u001b[0m         \u001b[0mkey\u001b[0m \u001b[0;34m=\u001b[0m \u001b[0m_values_from_object\u001b[0m\u001b[0;34m(\u001b[0m\u001b[0mkey\u001b[0m\u001b[0;34m)\u001b[0m\u001b[0;34m\u001b[0m\u001b[0m\n\u001b[0;32m-> 1700\u001b[0;31m         \u001b[0mresult\u001b[0m \u001b[0;34m=\u001b[0m \u001b[0mgetitem\u001b[0m\u001b[0;34m(\u001b[0m\u001b[0mkey\u001b[0m\u001b[0;34m)\u001b[0m\u001b[0;34m\u001b[0m\u001b[0m\n\u001b[0m\u001b[1;32m   1701\u001b[0m         \u001b[0;32mif\u001b[0m \u001b[0;32mnot\u001b[0m \u001b[0mis_scalar\u001b[0m\u001b[0;34m(\u001b[0m\u001b[0mresult\u001b[0m\u001b[0;34m)\u001b[0m\u001b[0;34m:\u001b[0m\u001b[0;34m\u001b[0m\u001b[0m\n\u001b[1;32m   1702\u001b[0m             \u001b[0;32mreturn\u001b[0m \u001b[0mpromote\u001b[0m\u001b[0;34m(\u001b[0m\u001b[0mresult\u001b[0m\u001b[0;34m)\u001b[0m\u001b[0;34m\u001b[0m\u001b[0m\n",
      "\u001b[0;31mIndexError\u001b[0m: index 2 is out of bounds for axis 1 with size 1"
     ]
    }
   ],
   "source": [
    "# con esto borro una columna del dataframe (id, operation, place_with_parents_name, country_name, geonames_id(ver si sirve)\n",
    "# lat-lon, price_aprox_local_currency, price_usd_per_m2, price_per_m2, floor, description, title, image_thumbnail)\n",
    "sells = sells.drop(sells.columns[[0, 2, 5, 6, 8, 9, 14, 19, 20, 24, 25, 26]], axis=1)\n",
    "\n",
    "#####!!!! Necesito la columna 18"
   ]
  },
  {
   "cell_type": "code",
   "execution_count": null,
   "metadata": {
    "collapsed": true
   },
   "outputs": [],
   "source": [
    "sells.columns.values"
   ]
  },
  {
   "cell_type": "code",
   "execution_count": null,
   "metadata": {
    "collapsed": true
   },
   "outputs": [],
   "source": [
    "sells.head(100)"
   ]
  },
  {
   "cell_type": "code",
   "execution_count": null,
   "metadata": {
    "collapsed": true
   },
   "outputs": [],
   "source": [
    "#uso regex para buscar coincidencias por string\n",
    "sells_caba = sells.loc[sells['state_name'].str.contains(r'(Capital Federal|capital federal)')]\n",
    "sells_caba.count()"
   ]
  },
  {
   "cell_type": "code",
   "execution_count": null,
   "metadata": {
    "collapsed": true
   },
   "outputs": [],
   "source": [
    "#filtro barrio Capital Federal de caba\n",
    "sells_caba = sells_caba[sells_caba['place_name']!='Capital Federal']\n",
    "sells_caba.count()"
   ]
  },
  {
   "cell_type": "code",
   "execution_count": null,
   "metadata": {
    "collapsed": true
   },
   "outputs": [],
   "source": [
    "#uso regex para buscar coincidencias por string\n",
    "sells_gba = sells.loc[sells['state_name'].str.contains(r'(G.B.A|Zona Norte|Zona Sur|Zona Este|Zona Oeste)')]\n",
    "sells_gba.count()"
   ]
  },
  {
   "cell_type": "code",
   "execution_count": null,
   "metadata": {
    "collapsed": true
   },
   "outputs": [],
   "source": [
    "sells_caba_price = sells_caba.loc[:,['state_name','place_name','price_aprox_usd']]\n",
    "sells_caba_price.head(10)"
   ]
  },
  {
   "cell_type": "code",
   "execution_count": null,
   "metadata": {
    "collapsed": true
   },
   "outputs": [],
   "source": [
    "sells_caba_group = sells_caba_price.groupby('place_name')\n",
    "sells_caba_group.mean()"
   ]
  },
  {
   "cell_type": "code",
   "execution_count": null,
   "metadata": {
    "collapsed": true
   },
   "outputs": [],
   "source": [
    "#defino cantidad de ventas por barrio\n",
    "sells_caba_group_count = sells_caba_group.count()['state_name']\n",
    "sells_caba_group_count.sort_values(ascending=False)"
   ]
  },
  {
   "cell_type": "code",
   "execution_count": null,
   "metadata": {
    "collapsed": true
   },
   "outputs": [],
   "source": [
    "#como hay min 2 cantidad de ventas y max 1872, filtro por >= 15\n",
    "sells_caba_group = sells_caba_price.groupby('place_name').agg([np.mean,np.size])\n",
    "sells_caba_group = sells_caba_group.loc[sells_caba_group[('price_aprox_usd','size')]>=15,:]   \n",
    "sells_caba_group.head()"
   ]
  },
  {
   "cell_type": "code",
   "execution_count": null,
   "metadata": {
    "collapsed": true
   },
   "outputs": [],
   "source": [
    "#top 10 CABA promedio\n",
    "sells_caba_sort_desc = sells_caba_group.sort_values(('price_aprox_usd','mean'), ascending=False)\n",
    "sells_caba_sort_desc.head(10)"
   ]
  },
  {
   "cell_type": "code",
   "execution_count": null,
   "metadata": {
    "collapsed": true
   },
   "outputs": [],
   "source": [
    "#top 10 CABA promedio\n",
    "plt.figure()\n",
    "plt.ylabel = \"1\"\n",
    "sells_caba_sort_desc[0:10].plot(title = \"Top Barrios Precio Promedio de Ventas Propiedades\",kind='bar',figsize=(14,4))\n"
   ]
  },
  {
   "cell_type": "code",
   "execution_count": null,
   "metadata": {
    "collapsed": true
   },
   "outputs": [],
   "source": [
    "#TOP 10 CABA promedio Ascendente\n",
    "sells_caba_sort_asc = sells_caba_group.sort_values(('price_aprox_usd','mean'), ascending=True)\n",
    "sells_caba_sort_asc.head(10)"
   ]
  },
  {
   "cell_type": "code",
   "execution_count": null,
   "metadata": {
    "collapsed": true
   },
   "outputs": [],
   "source": [
    "#top 10 CABA promedio Ascendente\n",
    "plt.figure()\n",
    "plt.ylabel = \"1\"\n",
    "sells_caba_sort_asc[0:10].plot(title = \"Top Barrios Menores Precio Promedio de Ventas Propiedades\",kind='bar',figsize=(14,4))\n"
   ]
  },
  {
   "cell_type": "code",
   "execution_count": null,
   "metadata": {
    "collapsed": true
   },
   "outputs": [],
   "source": [
    "# Histograma de cantidad de promedio de precios y cantidad de ventas\n",
    "sells_caba_group['price_aprox_usd'].hist(figsize=(16,8));"
   ]
  },
  {
   "cell_type": "code",
   "execution_count": null,
   "metadata": {
    "collapsed": true
   },
   "outputs": [],
   "source": [
    "#concentracion de precios y cantidad de ventas\n",
    "sells_caba_group.plot.box(figsize=(15,5));"
   ]
  },
  {
   "cell_type": "code",
   "execution_count": null,
   "metadata": {
    "collapsed": true
   },
   "outputs": [],
   "source": [
    "sells_gba_price = sells_gba.loc[:,['state_name','place_name','price_aprox_usd']]\n",
    "sells_gba_price.head(10)"
   ]
  },
  {
   "cell_type": "code",
   "execution_count": null,
   "metadata": {
    "collapsed": true
   },
   "outputs": [],
   "source": [
    "sells_gba_group = sells_gba_price.groupby(\"place_name\")\n",
    "sells_gba_group.mean()"
   ]
  },
  {
   "cell_type": "code",
   "execution_count": null,
   "metadata": {
    "collapsed": true
   },
   "outputs": [],
   "source": [
    "#defino cantidad de ventas por barrio\n",
    "sells_gba_group_count = sells_gba_group.count()['state_name']\n",
    "sells_gba_group_count.sort_values(ascending=False)"
   ]
  },
  {
   "cell_type": "code",
   "execution_count": null,
   "metadata": {
    "collapsed": true
   },
   "outputs": [],
   "source": [
    "#como hay min 2 cantidad de ventas y max 2238, filtro por >= 15\n",
    "sells_gba_group = sells_gba_price.groupby('place_name').agg([np.mean,np.size])\n",
    "sells_gba_group = sells_gba_group.loc[sells_gba_group[('price_aprox_usd','size')]>=15,:]   \n",
    "sells_gba_group.head(100)"
   ]
  },
  {
   "cell_type": "code",
   "execution_count": null,
   "metadata": {
    "collapsed": true
   },
   "outputs": [],
   "source": [
    "#top 10 GBA promedio\n",
    "sells_gba_sort_desc = sells_gba_group.sort_values(('price_aprox_usd','mean'), ascending=False)\n",
    "sells_gba_sort_desc.head(10)"
   ]
  },
  {
   "cell_type": "code",
   "execution_count": null,
   "metadata": {
    "collapsed": true
   },
   "outputs": [],
   "source": [
    "#top 10 GBA promedio\n",
    "%matplotlib inline\n",
    "\n",
    "plt.figure()\n",
    "plt.ylabel = \"1\"\n",
    "sells_gba_sort_desc[0:10].plot(title = \"Top Localidades Precio Promedio de Ventas Propiedades\",kind='bar',figsize=(14,4))\n"
   ]
  },
  {
   "cell_type": "code",
   "execution_count": null,
   "metadata": {
    "collapsed": true
   },
   "outputs": [],
   "source": [
    "#top 10 GBA promedio Ascendente\n",
    "sells_gba_sort_asc = sells_gba_group.sort_values(('price_aprox_usd','mean'), ascending=True)\n",
    "sells_gba_sort_asc.head(10)"
   ]
  },
  {
   "cell_type": "code",
   "execution_count": null,
   "metadata": {
    "collapsed": true
   },
   "outputs": [],
   "source": [
    "#top 10 GBA promedio Ascendente\n",
    "plt.figure()\n",
    "plt.ylabel = \"1\"\n",
    "sells_gba_sort_asc[0:10].plot(title = \"Top Localidades Menores Precio Promedio de Ventas Propiedades\",kind='bar',figsize=(14,4))\n"
   ]
  },
  {
   "cell_type": "code",
   "execution_count": null,
   "metadata": {
    "collapsed": true
   },
   "outputs": [],
   "source": [
    "# Histograma de cantidad de promedio de precios y cantidad de ventas\n",
    "sells_gba_group['price_aprox_usd'].hist(figsize=(16,8));"
   ]
  },
  {
   "cell_type": "code",
   "execution_count": null,
   "metadata": {
    "collapsed": true
   },
   "outputs": [],
   "source": [
    "#concentracion de promedio precios y cantidad de ventas\n",
    "sells_gba_group.plot.box(figsize=(15,5));"
   ]
  },
  {
   "cell_type": "code",
   "execution_count": null,
   "metadata": {
    "collapsed": true
   },
   "outputs": [],
   "source": [
    "#cantidad ventas de tipo de propiedades en CABA\n",
    "sells_caba_property = sells_caba.loc[:,['property_type','place_name']]\n",
    "sells_caba_property.head(10)"
   ]
  },
  {
   "cell_type": "code",
   "execution_count": null,
   "metadata": {
    "collapsed": true
   },
   "outputs": [],
   "source": [
    "sells_caba_property_group = sells_caba_property.groupby('property_type').agg([np.size])\n",
    "sells_caba_property_group_count = sells_caba_property_group.sort_values(('place_name','size'), ascending=False)\n",
    "sells_caba_property_group_count.head(10)"
   ]
  },
  {
   "cell_type": "code",
   "execution_count": null,
   "metadata": {
    "collapsed": true
   },
   "outputs": [],
   "source": [
    "#concentracion de cantidad de ventas por tipo de propiedad\n",
    "sells_caba_property_group_count['place_name','size'].plot.box(figsize=(15,5));"
   ]
  },
  {
   "cell_type": "code",
   "execution_count": null,
   "metadata": {
    "collapsed": true
   },
   "outputs": [],
   "source": [
    "#cantidad de ventas por tipo de propiedades en CABA\n",
    "sells_caba_property_group_count[0:10].plot(title = \"Cantidad de ventas por tipo de propiedades\",kind='bar',figsize=(14,4))"
   ]
  },
  {
   "cell_type": "code",
   "execution_count": null,
   "metadata": {
    "collapsed": true
   },
   "outputs": [],
   "source": [
    "#cantidad ventas de tipo de propiedades en GBA\n",
    "sells_gba_property = sells_gba.loc[:,['property_type','place_name']]\n",
    "sells_gba_property.head(10)"
   ]
  },
  {
   "cell_type": "code",
   "execution_count": null,
   "metadata": {
    "collapsed": true
   },
   "outputs": [],
   "source": [
    "sells_gba_property_group = sells_gba_property.groupby('property_type').agg([np.size])\n",
    "sells_gba_property_group_count = sells_gba_property_group.sort_values(('place_name','size'), ascending=False)\n",
    "sells_gba_property_group_count.head(10)"
   ]
  },
  {
   "cell_type": "code",
   "execution_count": null,
   "metadata": {
    "collapsed": true
   },
   "outputs": [],
   "source": [
    "#concentracion de cantidad de ventas por tipo de propiedad\n",
    "sells_gba_property_group_count['place_name','size'].plot.box(figsize=(15,5));"
   ]
  },
  {
   "cell_type": "code",
   "execution_count": null,
   "metadata": {
    "collapsed": true
   },
   "outputs": [],
   "source": [
    "#cantidad de ventas por tipo de propiedades en CABA\n",
    "sells_gba_property_group_count[0:10].plot(title = \"Cantidad de ventas por tipo de propiedades\",kind='bar',figsize=(14,4))"
   ]
  },
  {
   "cell_type": "code",
   "execution_count": null,
   "metadata": {
    "collapsed": true
   },
   "outputs": [],
   "source": [
    "########################################################################################"
   ]
  },
  {
   "cell_type": "code",
   "execution_count": null,
   "metadata": {
    "collapsed": true
   },
   "outputs": [],
   "source": [
    "#Cantidad promedio de habitaciones por propiedad vendida de CABA ordenada de mayor a menor.\n",
    "sells_caba_rooms_place_name = sells_caba.loc[:,['place_name','rooms']]\n",
    "sells_caba_rooms_place_name = sells_caba_rooms_place_name[np.isfinite(sells_caba_rooms_place_name['rooms'])]\n",
    "sells_caba_rooms = sells_caba_rooms_place_name.groupby('place_name').agg([np.mean,np.size])\n",
    "sells_caba_rooms = sells_caba_rooms.loc[sells_caba_rooms[('rooms','size')]>=5,:].rename(columns={'mean': 'promedio_de_habitacion'})\n",
    "sells_caba_rooms.sort_values(('rooms','promedio_de_habitacion'), ascending=False).round({('rooms','promedio_de_habitacion'):2})"
   ]
  },
  {
   "cell_type": "code",
   "execution_count": null,
   "metadata": {
    "collapsed": true
   },
   "outputs": [],
   "source": [
    "#Cantidad promedio de habitaciones por propiedad vendida de GBA ordenada de mayor a menor.\n",
    "sells_gba_rooms_place_name = sells_gba.loc[:,['place_name','rooms']]\n",
    "sells_gba_rooms_place_name = sells_gba_rooms_place_name[np.isfinite(sells_gba_rooms_place_name['rooms'])]\n",
    "sells_gba_rooms = sells_gba_rooms_place_name.groupby('place_name').agg([np.mean,np.size])\n",
    "sells_gba_rooms = sells_gba_rooms.loc[sells_gba_rooms[('rooms','size')]>=15,:].rename(columns={'mean': 'promedio_de_habitacion'})\n",
    "#El valor 15, corresponde a que tomo a partir de 15 ventas de propiedades por barrio para tener en cuenta en el promedio.\n",
    "sells_gba_rooms.sort_values(('rooms','promedio_de_habitacion'), ascending=False).round({('rooms','promedio_de_habitacion'):2})"
   ]
  },
  {
   "cell_type": "code",
   "execution_count": null,
   "metadata": {
    "collapsed": true
   },
   "outputs": [],
   "source": [
    "#6 - Evolucion global de los precios correlacionada con el dolar? --> Braian\n",
    "#esta pregunta no la entendí, el que la hizo la explique un poco más y la hago."
   ]
  },
  {
   "cell_type": "code",
   "execution_count": null,
   "metadata": {
    "collapsed": true
   },
   "outputs": [],
   "source": []
  },
  {
   "cell_type": "code",
   "execution_count": null,
   "metadata": {
    "collapsed": true
   },
   "outputs": [],
   "source": [
    "#Cantidad de propiedades dolarizadas por barrio.\n",
    "sells_caba_por_barrio = sells_caba.loc[:,['place_name','currency']]\n",
    "sells_caba_por_barrio_con_precio_dolar = sells_caba_por_barrio[sells_caba_por_barrio['currency'] == 'USD'].groupby('place_name').count()\n",
    "sells_caba_por_barrio_con_precio_dolar = sells_caba_por_barrio_con_precio_dolar.rename(columns={'currency': 'numero_propiedades_con_moneda_dolar'})\n",
    "sells_caba_por_barrio_con_precio_dolar.sort_values(('numero_propiedades_con_moneda_dolar'),ascending=False).head()"
   ]
  },
  {
   "cell_type": "code",
   "execution_count": null,
   "metadata": {
    "collapsed": true
   },
   "outputs": [],
   "source": [
    "#Cantidad de propiedades pesificadas por barrio.\n",
    "sells_caba_por_barrio_con_precio_pesos = sells_caba_por_barrio[sells_caba_por_barrio['currency'] == 'ARS'].groupby('place_name').count()\n",
    "sells_caba_por_barrio_con_precio_pesos = sells_caba_por_barrio_con_precio_pesos.rename(columns={'currency': 'numero_propiedades_con_moneda_pesos'})\n",
    "sells_caba_por_barrio_con_precio_pesos.sort_values(('numero_propiedades_con_moneda_pesos'),ascending=False).head()"
   ]
  },
  {
   "cell_type": "code",
   "execution_count": null,
   "metadata": {
    "collapsed": true
   },
   "outputs": [],
   "source": [
    "#Cantidas de propiedades dolarizadas según su tipo.\n",
    "sells_caba_por_barrio = sells_caba.loc[:,['property_type','currency']]\n",
    "sells_caba_por_barrio_con_precio_dolar = sells_caba_por_barrio[sells_caba_por_barrio['currency'] == 'USD'].groupby('property_type').count()\n",
    "sells_caba_por_barrio_con_precio_dolar = sells_caba_por_barrio_con_precio_dolar.rename(columns={'currency': 'propiedad_en_moneda_dolar'})\n",
    "sells_caba_por_barrio_con_precio_dolar.sort_values(('propiedad_en_moneda_dolar'),ascending=False).head()"
   ]
  },
  {
   "cell_type": "code",
   "execution_count": null,
   "metadata": {
    "collapsed": true
   },
   "outputs": [],
   "source": [
    "#Cantidad de propiedades pesificadas según su tipo.\n",
    "sells_caba_por_barrio = sells_caba.loc[:,['property_type','currency']]\n",
    "sells_caba_por_barrio_con_precio_pesos = sells_caba_por_barrio[sells_caba_por_barrio['currency'] == 'ARS'].groupby('property_type').count()\n",
    "sells_caba_por_barrio_con_precio_pesos = sells_caba_por_barrio_con_precio_pesos.rename(columns={'currency': 'propiedad_en_moneda_pesos'})\n",
    "sells_caba_por_barrio_con_precio_pesos.sort_values(('propiedad_en_moneda_pesos'),ascending=False).head()"
   ]
  },
  {
   "cell_type": "code",
   "execution_count": null,
   "metadata": {
    "collapsed": true
   },
   "outputs": [],
   "source": [
    "#Distribucion de m2 por barrio (top10)\n",
    "sells_caba_agrupada_por_sup_y_barrio = sells_caba.loc[:,['place_name','surface_total_in_m2']]\n",
    "sells_caba_agrupada_por_sup_y_barrio.groupby('place_name').sum().sort_values(('surface_total_in_m2'),ascending=False).head(10)"
   ]
  },
  {
   "cell_type": "code",
   "execution_count": null,
   "metadata": {
    "collapsed": true
   },
   "outputs": [],
   "source": [
    "#Distribucion promedio de m2 por barrio (top10)\n",
    "sells_caba_agrupada_por_sup_y_barrio = sells_caba.loc[:,['place_name','surface_total_in_m2']]\n",
    "sells_caba_agrupada_por_sup_y_barrio.groupby('place_name').mean().sort_values(('surface_total_in_m2'),ascending=False).round({'surface_total_in_m2':2}).head(10)"
   ]
  },
  {
   "cell_type": "code",
   "execution_count": null,
   "metadata": {
    "collapsed": true
   },
   "outputs": [],
   "source": [
    "#Las expensas promedio mas caras por barrio en Capital Federal.\n",
    "sells_caba_por_expensas_lugar = sells_caba.loc[:,['place_name','expenses']]\n",
    "sells_caba_por_expensas_lugar = sells_caba_por_expensas_lugar[(sells_caba_por_expensas_lugar['expenses'] < 100000) & (sells_caba_por_expensas_lugar['expenses'] > 10)]\n",
    "sells_caba_por_expensas_lugar = sells_caba_por_expensas_lugar[np.isfinite(sells_caba_por_expensas_lugar['expenses'])]\n",
    "sells_caba_por_expensas_lugar.groupby('place_name').mean().sort_values(('expenses'),ascending=False).round({'expenses':2}).head()"
   ]
  },
  {
   "cell_type": "code",
   "execution_count": null,
   "metadata": {
    "collapsed": true
   },
   "outputs": [],
   "source": [
    "#Las expensas promedio menos caras por barrio en Capital Federal.\n",
    "sells_caba_por_expensas_lugar.groupby('place_name').mean().sort_values(('expenses'),ascending=False).round({'expenses':2}).tail()"
   ]
  },
  {
   "cell_type": "code",
   "execution_count": null,
   "metadata": {
    "collapsed": true
   },
   "outputs": [],
   "source": [
    "#Las expensas promedio mas caras por ciudad del Gran Buenos Aires.\n",
    "sells_gba_por_expensas_lugar = sells_gba.loc[:,['place_name','expenses']]\n",
    "sells_gba_por_expensas_lugar = sells_gba_por_expensas_lugar[(sells_gba_por_expensas_lugar['expenses'] < 100000) & (sells_gba_por_expensas_lugar['expenses'] > 10)]\n",
    "sells_gba_por_expensas_lugar = sells_gba_por_expensas_lugar[np.isfinite(sells_gba_por_expensas_lugar['expenses'])]\n",
    "sells_gba_por_expensas_lugar = sells_gba_por_expensas_lugar.groupby('place_name').agg([np.mean,np.size])\n",
    "sells_gba_por_expensas_lugar = sells_gba_por_expensas_lugar.loc[sells_gba_por_expensas_lugar[('expenses','size')]>=15,:]\n",
    "sells_gba_por_expensas_lugar.sort_values(('expenses','mean'), ascending=False).head(10)"
   ]
  },
  {
   "cell_type": "code",
   "execution_count": null,
   "metadata": {
    "collapsed": true
   },
   "outputs": [],
   "source": [
    "#Distribucion de stores en Capital Federal\n",
    "sells_caba_only_store = sells_caba[sells_caba['property_type'] == 'store']\n",
    "sells_caba_only_store['place_name'].value_counts()"
   ]
  },
  {
   "cell_type": "code",
   "execution_count": null,
   "metadata": {
    "collapsed": true
   },
   "outputs": [],
   "source": [
    "#Distribucion de stores en Gran Buenos Aires\n",
    "sells_gba_only_store = sells_gba[sells_gba['property_type'] == 'store']\n",
    "sells_gba_only_store['place_name'].value_counts()"
   ]
  },
  {
   "cell_type": "code",
   "execution_count": null,
   "metadata": {
    "collapsed": true
   },
   "outputs": [],
   "source": [
    "#Precio promedio del m2 por barrio en GBA ordenado de mayor a menor\n",
    "sells_gba_por_ciudades_y_m2 = sells_gba.loc[:,['place_name','price_usd_per_m2']]\n",
    "sells_gba_por_ciudades_y_m2 = sells_gba_por_ciudades_y_m2[sells_gba_por_ciudades_y_m2['price_usd_per_m2'] < 7000]\n",
    "sells_gba_por_ciudades_y_m2 = sells_gba_por_ciudades_y_m2[np.isfinite(sells_gba_por_ciudades_y_m2['price_usd_per_m2'])]\n",
    "sells_gba_por_ciudades_y_m2 = sells_gba_por_ciudades_y_m2.groupby('place_name').agg([np.mean,np.size])\n",
    "sells_gba_por_ciudades_y_m2 = sells_gba_por_ciudades_y_m2.loc[sells_gba_por_ciudades_y_m2[('price_usd_per_m2','size')]>=15,:]\n",
    "sells_gba_por_ciudades_y_m2 = sells_gba_por_ciudades_y_m2.rename(columns = {'mean': 'precio_del_m2_por_barrio'})\n",
    "sells_gba_por_ciudades_y_m2 = sells_gba_por_ciudades_y_m2.sort_values(('price_usd_per_m2','precio_del_m2_por_barrio'), ascending=False)\n",
    "sells_gba_por_ciudades_y_m2.head(10)"
   ]
  },
  {
   "cell_type": "code",
   "execution_count": null,
   "metadata": {
    "collapsed": true
   },
   "outputs": [],
   "source": [
    "%matplotlib inline\n",
    "\n",
    "ax = sells_gba_por_ciudades_y_m2['price_usd_per_m2','precio_del_m2_por_barrio'][:10].plot(title = \"Precio promedio del m2 de las zonas mas caras de GBA\",kind='bar',figsize=(14,4))\n",
    "ax.set_ylabel('Precio USD del metro2')\n",
    "ax.set_xlabel('')"
   ]
  },
  {
   "cell_type": "code",
   "execution_count": null,
   "metadata": {
    "collapsed": true
   },
   "outputs": [],
   "source": [
    "#Precio promedio del m2 por barrio en CABA ordenado de mayor a menor\n",
    "sells_caba_por_ciudades_y_m2 = sells_caba.loc[:,['place_name','price_usd_per_m2']]\n",
    "sells_caba_por_ciudades_y_m2 = sells_caba_por_ciudades_y_m2[sells_caba_por_ciudades_y_m2['price_usd_per_m2'] < 7000]\n",
    "sells_caba_por_ciudades_y_m2 = sells_caba_por_ciudades_y_m2[np.isfinite(sells_caba_por_ciudades_y_m2['price_usd_per_m2'])]\n",
    "sells_caba_por_ciudades_y_m2 = sells_caba_por_ciudades_y_m2.groupby('place_name').agg([np.mean,np.size])\n",
    "sells_caba_por_ciudades_y_m2 = sells_caba_por_ciudades_y_m2.loc[sells_caba_por_ciudades_y_m2[('price_usd_per_m2','size')]>=10,:]\n",
    "sells_caba_por_ciudades_y_m2 = sells_caba_por_ciudades_y_m2.rename(columns = {'mean': 'precio_del_m2_por_barrio'})\n",
    "sells_caba_por_ciudades_y_m2 = sells_caba_por_ciudades_y_m2.sort_values(('price_usd_per_m2','precio_del_m2_por_barrio'), ascending=False)\n",
    "sells_caba_por_ciudades_y_m2.head(10)"
   ]
  },
  {
   "cell_type": "code",
   "execution_count": null,
   "metadata": {
    "collapsed": true,
    "scrolled": true
   },
   "outputs": [],
   "source": [
    "%matplotlib inline\n",
    "\n",
    "ax = sells_caba_por_ciudades_y_m2['price_usd_per_m2','precio_del_m2_por_barrio'][:10].plot(title = \"Precio promedio del m2 de las zonas mas caras de Capital Federal\",kind='bar',color='black',figsize=(14,4))\n",
    "ax.set_ylabel('Precio USD del metro2',fontsize= 13)\n",
    "\n",
    "ax.set_xlabel('')"
   ]
  }
 ],
 "metadata": {
  "kernelspec": {
   "display_name": "Python 2",
   "language": "python",
   "name": "python2"
  },
  "language_info": {
   "codemirror_mode": {
    "name": "ipython",
    "version": 2
   },
   "file_extension": ".py",
   "mimetype": "text/x-python",
   "name": "python",
   "nbconvert_exporter": "python",
   "pygments_lexer": "ipython2",
   "version": "2.7.12"
  }
 },
 "nbformat": 4,
 "nbformat_minor": 2
}
