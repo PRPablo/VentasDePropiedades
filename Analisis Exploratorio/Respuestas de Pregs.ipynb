{
 "cells": [
  {
   "cell_type": "markdown",
   "metadata": {},
   "source": [
    "9 - Hay mas en ventas PH/departamentos con mas o menos ambientes?  --> Ariel\n",
    "\n",
    "10 - Hay mas en ventas casas/locales con mas o menos ambientes? --> Ariel"
   ]
  },
  {
   "cell_type": "code",
   "execution_count": 14,
   "metadata": {
    "collapsed": true
   },
   "outputs": [],
   "source": [
    "# magic function para hacer que los graficos de matplotlib se renderizen en el notebook.\n",
    "%matplotlib inline\n",
    "\n",
    "import datetime as datetime\n",
    "import pandas as pd\n",
    "import numpy as np\n",
    "import matplotlib.pyplot as plt"
   ]
  },
  {
   "cell_type": "code",
   "execution_count": 15,
   "metadata": {
    "collapsed": true
   },
   "outputs": [],
   "source": [
    "sells = pd.read_csv('data/Propiedades-0701.csv')\n",
    "# con esto borro una columna del dataframe (id, operation, place_with_parents_name, country_name, geonames_id(ver si sirve)\n",
    "# lat-lon, price_aprox_local_currency, price_usd_per_m2, price_per_m2, floor, description, title, image_thumbnail)\n",
    "sells = sells.drop(sells.columns[[0, 2, 5, 6, 8, 9, 10, 11, 14, 18, 19, 20, 23, 24, 25, 26]], axis=1) \n"
   ]
  },
  {
   "cell_type": "code",
   "execution_count": 104,
   "metadata": {},
   "outputs": [
    {
     "name": "stderr",
     "output_type": "stream",
     "text": [
      "/home/ariel/.local/lib/python2.7/site-packages/ipykernel_launcher.py:6: UserWarning: This pattern has match groups. To actually get the groups, use str.extract.\n",
      "  \n"
     ]
    },
    {
     "data": {
      "text/html": [
       "<div>\n",
       "<style>\n",
       "    .dataframe thead tr:only-child th {\n",
       "        text-align: right;\n",
       "    }\n",
       "\n",
       "    .dataframe thead th {\n",
       "        text-align: left;\n",
       "    }\n",
       "\n",
       "    .dataframe tbody tr th {\n",
       "        vertical-align: top;\n",
       "    }\n",
       "</style>\n",
       "<table border=\"1\" class=\"dataframe\">\n",
       "  <thead>\n",
       "    <tr style=\"text-align: right;\">\n",
       "      <th></th>\n",
       "      <th>created_on</th>\n",
       "      <th>property_type</th>\n",
       "      <th>place_name</th>\n",
       "      <th>state_name</th>\n",
       "      <th>price</th>\n",
       "      <th>currency</th>\n",
       "      <th>price_aprox_usd</th>\n",
       "      <th>surface_total_in_m2</th>\n",
       "      <th>surface_covered_in_m2</th>\n",
       "      <th>rooms</th>\n",
       "      <th>expenses</th>\n",
       "    </tr>\n",
       "  </thead>\n",
       "  <tbody>\n",
       "    <tr>\n",
       "      <th>60358</th>\n",
       "      <td>2017-06-01</td>\n",
       "      <td>apartment</td>\n",
       "      <td>Flores</td>\n",
       "      <td>Capital Federal</td>\n",
       "      <td>220000.0</td>\n",
       "      <td>USD</td>\n",
       "      <td>220000.0</td>\n",
       "      <td>NaN</td>\n",
       "      <td>123.0</td>\n",
       "      <td>4.0</td>\n",
       "      <td>NaN</td>\n",
       "    </tr>\n",
       "    <tr>\n",
       "      <th>60359</th>\n",
       "      <td>2017-06-01</td>\n",
       "      <td>apartment</td>\n",
       "      <td>Constitución</td>\n",
       "      <td>Capital Federal</td>\n",
       "      <td>70000.0</td>\n",
       "      <td>USD</td>\n",
       "      <td>70000.0</td>\n",
       "      <td>NaN</td>\n",
       "      <td>70.0</td>\n",
       "      <td>2.0</td>\n",
       "      <td>NaN</td>\n",
       "    </tr>\n",
       "    <tr>\n",
       "      <th>60360</th>\n",
       "      <td>2017-06-01</td>\n",
       "      <td>apartment</td>\n",
       "      <td>Caballito</td>\n",
       "      <td>Capital Federal</td>\n",
       "      <td>138000.0</td>\n",
       "      <td>USD</td>\n",
       "      <td>138000.0</td>\n",
       "      <td>NaN</td>\n",
       "      <td>65.0</td>\n",
       "      <td>3.0</td>\n",
       "      <td>NaN</td>\n",
       "    </tr>\n",
       "    <tr>\n",
       "      <th>60364</th>\n",
       "      <td>2017-06-01</td>\n",
       "      <td>house</td>\n",
       "      <td>Almagro</td>\n",
       "      <td>Capital Federal</td>\n",
       "      <td>395000.0</td>\n",
       "      <td>USD</td>\n",
       "      <td>395000.0</td>\n",
       "      <td>NaN</td>\n",
       "      <td>20.0</td>\n",
       "      <td>7.0</td>\n",
       "      <td>NaN</td>\n",
       "    </tr>\n",
       "    <tr>\n",
       "      <th>60365</th>\n",
       "      <td>2017-06-01</td>\n",
       "      <td>apartment</td>\n",
       "      <td>San Nicolás</td>\n",
       "      <td>Capital Federal</td>\n",
       "      <td>65000.0</td>\n",
       "      <td>USD</td>\n",
       "      <td>65000.0</td>\n",
       "      <td>NaN</td>\n",
       "      <td>39.0</td>\n",
       "      <td>2.0</td>\n",
       "      <td>NaN</td>\n",
       "    </tr>\n",
       "  </tbody>\n",
       "</table>\n",
       "</div>"
      ],
      "text/plain": [
       "       created_on property_type    place_name       state_name     price  \\\n",
       "60358  2017-06-01     apartment        Flores  Capital Federal  220000.0   \n",
       "60359  2017-06-01     apartment  Constitución  Capital Federal   70000.0   \n",
       "60360  2017-06-01     apartment     Caballito  Capital Federal  138000.0   \n",
       "60364  2017-06-01         house       Almagro  Capital Federal  395000.0   \n",
       "60365  2017-06-01     apartment   San Nicolás  Capital Federal   65000.0   \n",
       "\n",
       "      currency  price_aprox_usd  surface_total_in_m2  surface_covered_in_m2  \\\n",
       "60358      USD         220000.0                  NaN                  123.0   \n",
       "60359      USD          70000.0                  NaN                   70.0   \n",
       "60360      USD         138000.0                  NaN                   65.0   \n",
       "60364      USD         395000.0                  NaN                   20.0   \n",
       "60365      USD          65000.0                  NaN                   39.0   \n",
       "\n",
       "       rooms  expenses  \n",
       "60358    4.0       NaN  \n",
       "60359    2.0       NaN  \n",
       "60360    3.0       NaN  \n",
       "60364    7.0       NaN  \n",
       "60365    2.0       NaN  "
      ]
     },
     "execution_count": 104,
     "metadata": {},
     "output_type": "execute_result"
    }
   ],
   "source": [
    "#filtro los NAN de price and rooms que voy a utilizar\n",
    "sells = sells[np.isfinite(sells['price'])]\n",
    "sells = sells[np.isfinite(sells['rooms'])]\n",
    "#filtro los de CABA/GBA\n",
    "#uso regex para buscar coincidencias por string\n",
    "sells_caba = sells.loc[sells['state_name'].str.contains(r'(Capital Federal|capital federal)')]\n",
    "#filtro barrio Capital Federal de caba\n",
    "sells_caba = sells_caba[sells_caba['place_name']!='Capital Federal']\n",
    "#filtro los de la fecha indicada\n",
    "sells_caba = sells_caba.loc[(sells_caba['created_on'] < '2017-07-01') & (sells_caba['created_on'] >= '2017-06-01')]\n",
    "sells_caba.head(5)"
   ]
  },
  {
   "cell_type": "code",
   "execution_count": 154,
   "metadata": {},
   "outputs": [
    {
     "data": {
      "text/html": [
       "<div>\n",
       "<style>\n",
       "    .dataframe thead tr:only-child th {\n",
       "        text-align: right;\n",
       "    }\n",
       "\n",
       "    .dataframe thead th {\n",
       "        text-align: left;\n",
       "    }\n",
       "\n",
       "    .dataframe tbody tr th {\n",
       "        vertical-align: top;\n",
       "    }\n",
       "</style>\n",
       "<table border=\"1\" class=\"dataframe\">\n",
       "  <thead>\n",
       "    <tr style=\"text-align: right;\">\n",
       "      <th></th>\n",
       "      <th>place_name</th>\n",
       "      <th>property_type</th>\n",
       "      <th>count</th>\n",
       "    </tr>\n",
       "  </thead>\n",
       "  <tbody>\n",
       "    <tr>\n",
       "      <th>0</th>\n",
       "      <td>Abasto</td>\n",
       "      <td>apartment</td>\n",
       "      <td>19</td>\n",
       "    </tr>\n",
       "    <tr>\n",
       "      <th>1</th>\n",
       "      <td>Abasto</td>\n",
       "      <td>store</td>\n",
       "      <td>1</td>\n",
       "    </tr>\n",
       "    <tr>\n",
       "      <th>2</th>\n",
       "      <td>Agronomía</td>\n",
       "      <td>PH</td>\n",
       "      <td>3</td>\n",
       "    </tr>\n",
       "    <tr>\n",
       "      <th>3</th>\n",
       "      <td>Agronomía</td>\n",
       "      <td>apartment</td>\n",
       "      <td>10</td>\n",
       "    </tr>\n",
       "    <tr>\n",
       "      <th>4</th>\n",
       "      <td>Agronomía</td>\n",
       "      <td>house</td>\n",
       "      <td>2</td>\n",
       "    </tr>\n",
       "  </tbody>\n",
       "</table>\n",
       "</div>"
      ],
      "text/plain": [
       "  place_name property_type  count\n",
       "0     Abasto     apartment     19\n",
       "1     Abasto         store      1\n",
       "2  Agronomía            PH      3\n",
       "3  Agronomía     apartment     10\n",
       "4  Agronomía         house      2"
      ]
     },
     "execution_count": 154,
     "metadata": {},
     "output_type": "execute_result"
    }
   ],
   "source": [
    "#sells_caba.head(20)\n",
    "#sells_caba.count()\n",
    "#ahora con todo filtrado debo obtener el promedio por zonas.\n",
    "sells_caba_rooms = sells_caba.loc[:,['place_name','rooms','property_type']]\n",
    "sells_caba_rooms = sells_caba_rooms.groupby(['place_name','property_type'])['rooms'].count().reset_index(name=\"count\") #.agg([np.mean,np.size])\n",
    "#sells_caba_rooms = sells_caba_rooms.loc[sells_caba_rooms[('rooms','size')]>=10]\n",
    "#sells_caba_rooms_count = sells_caba_rooms.groupby('place_name',level=0, group_keys=True).transform('sum')\n",
    "sells_caba_rooms.head()\n",
    "#sells_caba_rooms.sort_values(ascending=False)\n"
   ]
  },
  {
   "cell_type": "markdown",
   "metadata": {},
   "source": [
    "11 - Promedios de balcones(depto)/patios(casas,PH) de las propiedades en ventas? --> Ariel"
   ]
  },
  {
   "cell_type": "code",
   "execution_count": null,
   "metadata": {
    "collapsed": true
   },
   "outputs": [],
   "source": []
  }
 ],
 "metadata": {
  "kernelspec": {
   "display_name": "Python 3",
   "language": "python",
   "name": "python3"
  },
  "language_info": {
   "codemirror_mode": {
    "name": "ipython",
    "version": 2
   },
   "file_extension": ".py",
   "mimetype": "text/x-python",
   "name": "python",
   "nbconvert_exporter": "python",
   "pygments_lexer": "ipython2",
   "version": "2.7.12"
  }
 },
 "nbformat": 4,
 "nbformat_minor": 2
}
