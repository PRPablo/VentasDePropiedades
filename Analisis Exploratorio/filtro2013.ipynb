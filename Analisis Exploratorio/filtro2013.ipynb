{
 "cells": [
  {
   "cell_type": "code",
   "execution_count": 1,
   "metadata": {
    "collapsed": true
   },
   "outputs": [],
   "source": [
    "# magic function para hacer que los graficos de matplotlib se renderizen en el notebook.\n",
    "%matplotlib inline\n",
    "\n",
    "import datetime as datetime\n",
    "import pandas as pd\n",
    "import numpy as np\n",
    "import matplotlib.pyplot as plt\n",
    "\n",
    "\n",
    "plt.style.use('default') # haciendo los graficos un poco mas bonitos xD\n",
    "plt.rcParams['figure.figsize'] = (15, 5)"
   ]
  },
  {
   "cell_type": "code",
   "execution_count": 2,
   "metadata": {
    "collapsed": true,
    "scrolled": false
   },
   "outputs": [],
   "source": [
    "#leo los csv de properati\n",
    "csv_01_2014 = pd.read_csv('data/properati-AR-2014-01-01-properties-sell.csv', low_memory=False)\n",
    "csv_12_2013 = pd.read_csv('data/properati-AR-2013-12-01-properties-sell.csv', low_memory=False)\n",
    "csv_11_2013 = pd.read_csv('data/properati-AR-2013-11-01-properties-sell.csv', low_memory=False)\n",
    "csv_10_2013 = pd.read_csv('data/properati-AR-2013-10-01-properties-sell.csv', low_memory=False)\n",
    "csv_09_2013 = pd.read_csv('data/properati-AR-2013-09-01-properties-sell.csv', low_memory=False)\n",
    "csv_08_2013 = pd.read_csv('data/properati-AR-2013-08-01-properties-sell.csv', low_memory=False)\n",
    "\n",
    "#filtramos columnas (guardamos las utiles)\n",
    "#nota  'place_with_parent_names' es equivalente a 'state_name'\n",
    "csv_01_2014 = csv_01_2014.loc[:,['created_on','property_type','place_name','place_with_parent_names','lat','lon','price','currency','price_aprox_usd','surface_in_m2','rooms','expenses']]\n",
    "csv_12_2013 = csv_12_2013.loc[:,['created_on','property_type','place_name','place_with_parent_names','lat','lon','price','currency','price_aprox_usd','surface_in_m2','rooms','expenses']]\n",
    "csv_11_2013 = csv_11_2013.loc[:,['created_on','property_type','place_name','place_with_parent_names','lat','lon','price','currency','price_aprox_usd','surface_in_m2','rooms','expenses']]\n",
    "csv_10_2013 = csv_10_2013.loc[:,['created_on','property_type','place_name','place_with_parent_names','lat','lon','price','currency','price_aprox_usd','surface_in_m2','rooms','expenses']]\n",
    "csv_09_2013 = csv_09_2013.loc[:,['created_on','property_type','place_name','place_with_parent_names','lat','lon','price','currency','price_aprox_usd','surface_in_m2','rooms','expenses']]\n",
    "csv_08_2013 = csv_08_2013.loc[:,['created_on','property_type','place_name','place_with_parent_names','lat','lon','price','currency','price_aprox_usd','surface_in_m2','rooms','expenses']]\n",
    "\n",
    "# renombro columnas (columns = {'place_with_parent_names':'state_name','surface_in_m2':'surface_total_in_m2'})\n",
    "csv_01_2014.rename(columns = {'place_with_parent_names':'state_name','surface_in_m2':'surface_total_in_m2'}, inplace=True)\n",
    "csv_12_2013.rename(columns = {'place_with_parent_names':'state_name','surface_in_m2':'surface_total_in_m2'}, inplace=True)\n",
    "csv_11_2013.rename(columns = {'place_with_parent_names':'state_name','surface_in_m2':'surface_total_in_m2'}, inplace=True)\n",
    "csv_10_2013.rename(columns = {'place_with_parent_names':'state_name','surface_in_m2':'surface_total_in_m2'}, inplace=True)\n",
    "csv_09_2013.rename(columns = {'place_with_parent_names':'state_name','surface_in_m2':'surface_total_in_m2'}, inplace=True)\n",
    "csv_08_2013.rename(columns = {'place_with_parent_names':'state_name','surface_in_m2':'surface_total_in_m2'}, inplace=True)\n",
    "\n",
    "#filtro duplicados por fecha\n",
    "sells_12_2013 = csv_01_2014.loc[(csv_01_2014['created_on'] <= '2013-12-31') & (csv_01_2014['created_on'] >='2013-12-01')]\n",
    "sells_11_2013 = csv_12_2013.loc[(csv_12_2013['created_on'] <= '2013-11-31') & (csv_12_2013['created_on'] >='2013-11-01')]\n",
    "sells_10_2013 = csv_11_2013.loc[(csv_11_2013['created_on'] <= '2013-10-31') & (csv_11_2013['created_on'] >='2013-10-01')]\n",
    "sells_09_2013 = csv_10_2013.loc[(csv_10_2013['created_on'] <= '2013-09-31') & (csv_10_2013['created_on'] >='2013-09-01')]\n",
    "sells_08_2013 = csv_09_2013.loc[(csv_09_2013['created_on'] <= '2013-08-31') & (csv_09_2013['created_on'] >='2013-08-01')]\n",
    "sells_07_2013 = csv_08_2013.loc[(csv_08_2013['created_on'] <= '2013-07-31') & (csv_08_2013['created_on'] >='2013-07-01')]\n",
    "\n",
    "#guardo nuevos csv con los datos filtrados\n",
    "sells_12_2013.to_csv('filterdata/sells_12_2013.csv')\n",
    "sells_11_2013.to_csv('filterdata/sells_11_2013.csv')\n",
    "sells_10_2013.to_csv('filterdata/sells_10_2013.csv')\n",
    "sells_09_2013.to_csv('filterdata/sells_09_2013.csv')\n",
    "sells_08_2013.to_csv('filterdata/sells_08_2013.csv')\n",
    "sells_07_2013.to_csv('filterdata/sells_07_2013.csv')\n"
   ]
  },
  {
   "cell_type": "code",
   "execution_count": 3,
   "metadata": {},
   "outputs": [
    {
     "name": "stdout",
     "output_type": "stream",
     "text": [
      "Index([u'created_on', u'property_type', u'place_name', u'state_name', u'lat',\n",
      "       u'lon', u'price', u'currency', u'price_aprox_usd',\n",
      "       u'surface_total_in_m2', u'rooms', u'expenses'],\n",
      "      dtype='object')\n",
      "12\n",
      "Index([u'created_on', u'property_type', u'place_name', u'state_name', u'lat',\n",
      "       u'lon', u'price', u'currency', u'price_aprox_usd',\n",
      "       u'surface_total_in_m2', u'rooms', u'expenses'],\n",
      "      dtype='object')\n",
      "12\n",
      "Index([u'created_on', u'property_type', u'place_name', u'state_name', u'lat',\n",
      "       u'lon', u'price', u'currency', u'price_aprox_usd',\n",
      "       u'surface_total_in_m2', u'rooms', u'expenses'],\n",
      "      dtype='object')\n",
      "12\n",
      "Index([u'created_on', u'property_type', u'place_name', u'state_name', u'lat',\n",
      "       u'lon', u'price', u'currency', u'price_aprox_usd',\n",
      "       u'surface_total_in_m2', u'rooms', u'expenses'],\n",
      "      dtype='object')\n",
      "12\n",
      "Index([u'created_on', u'property_type', u'place_name', u'state_name', u'lat',\n",
      "       u'lon', u'price', u'currency', u'price_aprox_usd',\n",
      "       u'surface_total_in_m2', u'rooms', u'expenses'],\n",
      "      dtype='object')\n",
      "12\n",
      "Index([u'created_on', u'property_type', u'place_name', u'state_name', u'lat',\n",
      "       u'lon', u'price', u'currency', u'price_aprox_usd',\n",
      "       u'surface_total_in_m2', u'rooms', u'expenses'],\n",
      "      dtype='object')\n",
      "12\n"
     ]
    }
   ],
   "source": [
    "#prueba para revisar el nombre de las columnas\n",
    "\n",
    "#state_name es equivalente a place_with_parent_names\n",
    "#2015 no tiene la columna 'surface_total_in_m2'\n",
    "\n",
    "print(csv_01_2014.keys())\n",
    "print(csv_01_2014.keys().size)\n",
    "print(csv_12_2013.keys())\n",
    "print(csv_12_2013.keys().size)\n",
    "print(csv_11_2013.keys())\n",
    "print(csv_11_2013.keys().size)\n",
    "print(csv_10_2013.keys())\n",
    "print(csv_10_2013.keys().size)\n",
    "print(csv_09_2013.keys())\n",
    "print(csv_09_2013.keys().size)\n",
    "print(csv_08_2013.keys())\n",
    "print(csv_08_2013.keys().size)\n",
    "\n",
    "#csv_11_2015_aux = csv_11_2015.loc[:,['created_on','property_type','place_name','place_with_parent_names','lat','lon','price','currency','price_aprox_usd','surface_total_in_m2','rooms','expenses','properati_url']]\n",
    "#csv_11_2015_aux"
   ]
  },
  {
   "cell_type": "code",
   "execution_count": 4,
   "metadata": {},
   "outputs": [
    {
     "ename": "NameError",
     "evalue": "name 'csv_07_2015' is not defined",
     "output_type": "error",
     "traceback": [
      "\u001b[0;31m---------------------------------------------------------------------------\u001b[0m",
      "\u001b[0;31mNameError\u001b[0m                                 Traceback (most recent call last)",
      "\u001b[0;32m<ipython-input-4-646a918fc889>\u001b[0m in \u001b[0;36m<module>\u001b[0;34m()\u001b[0m\n\u001b[1;32m      4\u001b[0m \u001b[0;31m#2015 no tiene la columna 'surface_total_in_m2'\u001b[0m\u001b[0;34m\u001b[0m\u001b[0;34m\u001b[0m\u001b[0m\n\u001b[1;32m      5\u001b[0m \u001b[0;34m\u001b[0m\u001b[0m\n\u001b[0;32m----> 6\u001b[0;31m \u001b[0;32mprint\u001b[0m\u001b[0;34m(\u001b[0m\u001b[0mcsv_07_2015\u001b[0m\u001b[0;34m.\u001b[0m\u001b[0mkeys\u001b[0m\u001b[0;34m(\u001b[0m\u001b[0;34m)\u001b[0m\u001b[0;34m)\u001b[0m\u001b[0;34m\u001b[0m\u001b[0m\n\u001b[0m\u001b[1;32m      7\u001b[0m \u001b[0;32mprint\u001b[0m\u001b[0;34m(\u001b[0m\u001b[0mcsv_07_2015\u001b[0m\u001b[0;34m.\u001b[0m\u001b[0mkeys\u001b[0m\u001b[0;34m(\u001b[0m\u001b[0;34m)\u001b[0m\u001b[0;34m.\u001b[0m\u001b[0msize\u001b[0m\u001b[0;34m)\u001b[0m\u001b[0;34m\u001b[0m\u001b[0m\n\u001b[1;32m      8\u001b[0m \u001b[0;32mprint\u001b[0m\u001b[0;34m(\u001b[0m\u001b[0mcsv_06_2015\u001b[0m\u001b[0;34m.\u001b[0m\u001b[0mkeys\u001b[0m\u001b[0;34m(\u001b[0m\u001b[0;34m)\u001b[0m\u001b[0;34m)\u001b[0m\u001b[0;34m\u001b[0m\u001b[0m\n",
      "\u001b[0;31mNameError\u001b[0m: name 'csv_07_2015' is not defined"
     ]
    }
   ],
   "source": [
    "#prueba para revisar el nombre de las columnas\n",
    "\n",
    "#state_name es equivalente a place_with_parent_names\n",
    "#2015 no tiene la columna 'surface_total_in_m2'\n",
    "\n",
    "print(csv_07_2015.keys())\n",
    "print(csv_07_2015.keys().size)\n",
    "print(csv_06_2015.keys())\n",
    "print(csv_06_2015.keys().size)\n",
    "print(csv_05_2015.keys())\n",
    "print(csv_05_2015.keys().size)\n",
    "print(csv_04_2015.keys())\n",
    "print(csv_04_2015.keys().size)\n",
    "print(csv_03_2015.keys())\n",
    "print(csv_03_2015.keys().size)\n",
    "print(csv_02_2015.keys())\n",
    "print(csv_02_2015.keys().size)\n",
    "\n",
    "#csv_11_2015_aux = csv_11_2015.loc[:,['created_on','property_type','place_name','place_with_parent_names','lat','lon','price','currency','price_aprox_usd','surface_total_in_m2','rooms','expenses','properati_url']]\n",
    "#csv_11_2015_aux"
   ]
  },
  {
   "cell_type": "code",
   "execution_count": null,
   "metadata": {
    "collapsed": true
   },
   "outputs": [],
   "source": []
  }
 ],
 "metadata": {
  "kernelspec": {
   "display_name": "Python 3",
   "language": "python",
   "name": "python3"
  },
  "language_info": {
   "codemirror_mode": {
    "name": "ipython",
    "version": 2
   },
   "file_extension": ".py",
   "mimetype": "text/x-python",
   "name": "python",
   "nbconvert_exporter": "python",
   "pygments_lexer": "ipython2",
   "version": "2.7.12"
  }
 },
 "nbformat": 4,
 "nbformat_minor": 2
}
