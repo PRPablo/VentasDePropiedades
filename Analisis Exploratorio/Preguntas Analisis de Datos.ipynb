{
 "cells": [
  {
   "cell_type": "markdown",
   "metadata": {},
   "source": [
    "# Preguntas "
   ]
  },
  {
   "cell_type": "markdown",
   "metadata": {},
   "source": [
    "1 - Como fueron evolucionando los precios por zona? -->PabloCr"
   ]
  },
  {
   "cell_type": "markdown",
   "metadata": {},
   "source": [
    "2 - Ver si hay variaciones de los precios de un depto en GBA o una casa en CABA? -->PabloCr"
   ]
  },
  {
   "cell_type": "markdown",
   "metadata": {},
   "source": [
    "3 - Buscar mas caro en CABA/GBA e indicar las posibles causas.  --> PRPablo"
   ]
  },
  {
   "cell_type": "markdown",
   "metadata": {},
   "source": [
    "4 - Buscar mas barato en CABA/GBA e indicar las posibles causas.  --> PRPablo"
   ]
  },
  {
   "cell_type": "markdown",
   "metadata": {},
   "source": [
    "5 - Validar promedios de habitaciones por zona e indicar si se puede encontrar causas validas. --> Braian"
   ]
  },
  {
   "cell_type": "markdown",
   "metadata": {
    "collapsed": true
   },
   "source": [
    "6 - Evolucion global de los precios correlacionada con el dolar? --> Braian"
   ]
  },
  {
   "cell_type": "markdown",
   "metadata": {},
   "source": [
    "7 - Que tipos de propiedades (casas y departamentos) se venden mas tanto en CABA como en  GBA? --> PRPablo"
   ]
  },
  {
   "cell_type": "markdown",
   "metadata": {},
   "source": [
    "8 - Ver si con geoname_id se puede obtener la poblacion y hacer algo copado con eso."
   ]
  },
  {
   "cell_type": "markdown",
   "metadata": {},
   "source": [
    "9 - Hay mas en ventas PH/departamentos con mas o menos ambientes?  --> Ariel"
   ]
  },
  {
   "cell_type": "markdown",
   "metadata": {},
   "source": [
    "10 - Hay mas en ventas casas/locales con mas o menos ambientes? --> Ariel"
   ]
  },
  {
   "cell_type": "markdown",
   "metadata": {},
   "source": [
    "11 - Promedios de balcones(depto)/patios(casas,PH) de las propiedades en ventas? --> Ariel"
   ]
  },
  {
   "cell_type": "markdown",
   "metadata": {},
   "source": [
    "12 - el lugar o el tipo de propiedad influyen en el tipo de moneda (dolar , pesos)?--> Braian "
   ]
  },
  {
   "cell_type": "markdown",
   "metadata": {},
   "source": [
    "# Graficos "
   ]
  },
  {
   "cell_type": "markdown",
   "metadata": {},
   "source": [
    "1 - valor de expensa con respecto a la ciudad.  -->PabloCr"
   ]
  },
  {
   "cell_type": "markdown",
   "metadata": {},
   "source": [
    "2 - valor de expensa con respecto al metro cuadrado total de la propiedad.  -->PabloCr"
   ]
  },
  {
   "cell_type": "markdown",
   "metadata": {},
   "source": [
    "3 - diferencia de precio por metro cuadrado en las diferentes ciudades de GBA --> Braian"
   ]
  },
  {
   "cell_type": "markdown",
   "metadata": {},
   "source": [
    "4 - diferencia de precio por metro cuadrado en las diferentes ciudades de CABA --> Braian"
   ]
  },
  {
   "cell_type": "code",
   "execution_count": null,
   "metadata": {
    "collapsed": true
   },
   "outputs": [],
   "source": []
  },
  {
   "cell_type": "markdown",
   "metadata": {},
   "source": [
    "# Limpieza de Datos"
   ]
  },
  {
   "cell_type": "markdown",
   "metadata": {},
   "source": [
    "1 - listado de \"insights\""
   ]
  },
  {
   "cell_type": "markdown",
   "metadata": {},
   "source": [
    "2 - Eliminar columnas que no se van a usar /=> Ver si se usa geoname_id, los demas si quieren revisenlo."
   ]
  },
  {
   "cell_type": "markdown",
   "metadata": {},
   "source": [
    "3 - Considerar una cierta cantidad de ventas por place_name(moivre) "
   ]
  },
  {
   "cell_type": "code",
   "execution_count": null,
   "metadata": {
    "collapsed": true
   },
   "outputs": [],
   "source": []
  }
 ],
 "metadata": {
  "kernelspec": {
   "display_name": "Python 3",
   "language": "python",
   "name": "python3"
  },
  "language_info": {
   "codemirror_mode": {
    "name": "ipython",
    "version": 2
   },
   "file_extension": ".py",
   "mimetype": "text/x-python",
   "name": "python",
   "nbconvert_exporter": "python",
   "pygments_lexer": "ipython2",
   "version": "2.7.12"
  }
 },
 "nbformat": 4,
 "nbformat_minor": 2
}
