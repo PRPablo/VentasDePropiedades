{
 "cells": [
  {
   "cell_type": "markdown",
   "metadata": {},
   "source": [
    "# Trabajo práctico \n",
    "\n",
    "Nombres de integrantes/padron:\n",
    "##### Braian\n",
    "##### Pablo\n",
    "##### Prieto, Pablo\n",
    "##### Ruiz, Ariel "
   ]
  },
  {
   "cell_type": "code",
   "execution_count": null,
   "metadata": {
    "collapsed": true
   },
   "outputs": [],
   "source": [
    "# magic function para hacer que los graficos de matplotlib se renderizen en el notebook.\n",
    "%matplotlib inline\n",
    "\n",
    "import datetime as datetime\n",
    "import pandas as pd\n",
    "import numpy as np\n",
    "import matplotlib.pyplot as plt\n",
    "\n"
   ]
  },
  {
   "cell_type": "markdown",
   "metadata": {},
   "source": [
    "##  Análisis de columnas\n",
    "\n",
    "#### Se hace un pequeño análisis global del dataset."
   ]
  },
  {
   "cell_type": "code",
   "execution_count": null,
   "metadata": {},
   "outputs": [],
   "source": [
    "#Ante todo, empezamos a analizar la información brindada por los datasets y sus respectivas columnas.\n",
    "sells = pd.read_csv('data/properati-AR-2017-01-01-properties-sell.csv')\n",
    "sells.columns.values"
   ]
  },
  {
   "cell_type": "code",
   "execution_count": null,
   "metadata": {
    "collapsed": true
   },
   "outputs": [],
   "source": [
    "#Se analizan las columnas que consideramos necesarias para nuestro analisis exploratorio.\n",
    "#Con esto borro las columnas del dataframe que no aporten algún valor significativo a nuestro entender (id, operation, place_with_parents_name, country_name, geonames_id(ver si sirve)\n",
    "# lat-lon, price_aprox_local_currency, price_usd_per_m2, price_per_m2, floor, description, title, image_thumbnail)\n",
    "sells = sells.drop(sells.columns[[0, 2, 5, 6, 8, 9, 14, 19, 20, 24, 25, 26]], axis=1)"
   ]
  },
  {
   "cell_type": "markdown",
   "metadata": {},
   "source": [
    "Se van eliminando algunas columnas que a nuestro entender no agregan información relevante para el estudio."
   ]
  },
  {
   "cell_type": "code",
   "execution_count": null,
   "metadata": {},
   "outputs": [],
   "source": [
    "#Vericamos las columnas restantes a analizar.\n",
    "sells.columns.values"
   ]
  },
  {
   "cell_type": "code",
   "execution_count": null,
   "metadata": {},
   "outputs": [],
   "source": [
    "#Mirada global del dataframe resultante.\n",
    "sells.head(10)"
   ]
  },
  {
   "cell_type": "markdown",
   "metadata": {
    "collapsed": true
   },
   "source": [
    " "
   ]
  },
  {
   "cell_type": "code",
   "execution_count": null,
   "metadata": {},
   "outputs": [],
   "source": [
    "#Se empieza por analizar la columna donde se encuentra el lugar de la publicación.\n",
    "#uso regex para buscar coincidencias por string por Capital Federal y se hace un count para consistencias de datos. \n",
    "sells_caba = sells.loc[sells['state_name'].str.contains(r'(Capital Federal|capital federal)')]\n",
    "sells_caba.count()"
   ]
  },
  {
   "cell_type": "code",
   "execution_count": null,
   "metadata": {},
   "outputs": [],
   "source": [
    "#filtro barrio Capital Federal de caba (se analiza de forma aparte)\n",
    "sells_caba = sells_caba[sells_caba['place_name']!='Capital Federal']\n",
    "sells_caba.count()"
   ]
  },
  {
   "cell_type": "code",
   "execution_count": null,
   "metadata": {},
   "outputs": [],
   "source": [
    "#Uso regex para buscar coincidencias por string entre diferentes zonas del Gran Buenos Aires y las agrupo.\n",
    "#Se hace un count para consistencias de datos.\n",
    "sells_gba = sells.loc[sells['state_name'].str.contains(r'(G.B.A|Zona Norte|Zona Sur|Zona Este|Zona Oeste)')]\n",
    "sells_gba.count()"
   ]
  },
  {
   "cell_type": "markdown",
   "metadata": {},
   "source": [
    "### Se observa el enfoque en particular que tiene el dataframe."
   ]
  },
  {
   "cell_type": "code",
   "execution_count": null,
   "metadata": {},
   "outputs": [],
   "source": [
    "#Distribución de ventas agrupadas por las zonas de Capital Federal y el Gran Buenos Aires.\n",
    "ventas_en_caba = sells_caba['state_name'].value_counts()\n",
    "ventas_en_gba = sells_gba['state_name'].value_counts().sum()\n",
    "sizes = (ventas_en_caba,ventas_en_gba)\n",
    "ventas_en_gba\n",
    "nombres_de_parametros = ['Ventas en Capital Federal', 'Ventas en Gran Buenos Aires']\n",
    "\n",
    "plt.figure(figsize=(8, 8))\n",
    "plt.title('Distribucion de ventas de propiedades por zonas\\n(Capital Federal y el gran Buenos Aires)', fontsize=20)\n",
    "plt.pie(sizes, labels=nombres_de_parametros, autopct='%1.1f%%', startangle=1000\n",
    "    , colors=['seagreen', 'coral'], explode=(0.15, 0))\n",
    "plt.show()"
   ]
  },
  {
   "cell_type": "markdown",
   "metadata": {},
   "source": [
    "Con este plot, se puede ver que el dataframe tiene un enfoque particular en ventas que se centra en zonas aledañas a Capital Federal."
   ]
  },
  {
   "cell_type": "markdown",
   "metadata": {},
   "source": [
    "### Primeros trabajos sobre propiedades en Capital Federal."
   ]
  },
  {
   "cell_type": "code",
   "execution_count": null,
   "metadata": {},
   "outputs": [],
   "source": [
    "\n",
    "#Obtengo del dataframe de Capital Federal las columnas 'state_name', 'place_name' y 'price_aprox_usd'.\n",
    "#Muestra un random de 10 publicaciones.\n",
    "sells_caba_price = sells_caba.loc[:,['state_name','place_name','price_aprox_usd']]\n",
    "sells_caba_price.head(10)"
   ]
  },
  {
   "cell_type": "code",
   "execution_count": null,
   "metadata": {},
   "outputs": [],
   "source": [
    "#Agrupo las columnas filtradas por lugar y promedio el precio de las propiedades.\n",
    "sells_caba_group = sells_caba_price.groupby('place_name')\n",
    "sells_caba_group.mean()"
   ]
  },
  {
   "cell_type": "markdown",
   "metadata": {},
   "source": [
    "### Cantidad de ventas de propiedades por barrios de Capital Federal."
   ]
  },
  {
   "cell_type": "code",
   "execution_count": null,
   "metadata": {},
   "outputs": [],
   "source": [
    "#Defino cantidad de ventas por barrio y ordeno de mayor a menor.\n",
    "sells_caba_group_count = sells_caba_group.count()['state_name']\n",
    "sells_caba_group_count.sort_values(ascending=False)"
   ]
  },
  {
   "cell_type": "markdown",
   "metadata": {},
   "source": [
    "Con el conteo de ventas por barrios, se puede observar que Palermo,Belgrano y Caballito son las zonas con más ventas de Capital Federal.\n",
    "Por otro lado, Las zonas como Villa Soldati, Villa Riachuelo y Villa Real son los barrios con menos ventas."
   ]
  },
  {
   "cell_type": "code",
   "execution_count": null,
   "metadata": {},
   "outputs": [],
   "source": [
    "#Para tener consistencias en los datos, se decide filtrar los contenidos por un mínimo de ventas por barrio para empezar \n",
    "#a analizar.\n",
    "#como hay min 2 cantidad de ventas y max 1872, filtro por >= 15\n",
    "sells_caba_group = sells_caba_price.groupby('place_name').agg([np.mean,np.size])\n",
    "sells_caba_group = sells_caba_group.loc[sells_caba_group[('price_aprox_usd','size')]>=15,:]   \n",
    "sells_caba_group.head()"
   ]
  },
  {
   "cell_type": "markdown",
   "metadata": {},
   "source": [
    "### Precio en dólares promedio de una propiedad por barrio en Capital Federal.\n",
    "\n",
    "#### Precios promedio más altos de Capital Federal.\n"
   ]
  },
  {
   "cell_type": "code",
   "execution_count": null,
   "metadata": {},
   "outputs": [],
   "source": [
    "#top 10 CABA promedio de precios en Capital Federal.\n",
    "\n",
    "\n",
    "sells_caba_sort_desc = sells_caba_group.sort_values(('price_aprox_usd','mean'), ascending=False)\n",
    "sells_caba_sort_desc.head(10)\n"
   ]
  },
  {
   "cell_type": "markdown",
   "metadata": {},
   "source": [
    "Claramente, las zonas de Palermo Chico y Puerto Madero son las zonas donde el precio en promedio, dominan en Capital Federal como las zonas promedios más caras de Capital Federal."
   ]
  },
  {
   "cell_type": "code",
   "execution_count": null,
   "metadata": {},
   "outputs": [],
   "source": [
    "#Visualizacion de precios promedios de los 10 barrios con mayor valor.\n",
    "\n",
    "plt.ylabel = \"1\"\n",
    "ax = sells_caba_sort_desc[('price_aprox_usd','mean')][0:10].plot(title = \"Top 10 de precio promedio de ventas en Capital Federal en USD\",kind='bar',figsize=(14,4),color= \"violet\")\n",
    "ax.set_ylabel('Precio en USD')\n",
    "ax.set_xlabel('Barrios de Capital Federal')\n",
    "plt.show()"
   ]
  },
  {
   "cell_type": "markdown",
   "metadata": {},
   "source": [
    "Con el plot, se ve la gran diferencia de precios promedio entre los barrios de Palermo Chico y Puerto Madero con respecto a los demás barrios que integran el top10 de las zonas más caras."
   ]
  },
  {
   "cell_type": "markdown",
   "metadata": {},
   "source": [
    "####  Precios promedio más bajos de Capital Federal."
   ]
  },
  {
   "cell_type": "code",
   "execution_count": null,
   "metadata": {},
   "outputs": [],
   "source": [
    "#top 10 CABA promedio de precios más bajos en Capital Federal por barrio.\n",
    "\n",
    "sells_caba_sort_asc = sells_caba_group.sort_values(('price_aprox_usd','mean'), ascending=True)\n",
    "sells_caba_sort_asc.head(10)"
   ]
  },
  {
   "cell_type": "markdown",
   "metadata": {},
   "source": [
    "Se puede observar que las zonas de Villa Soldati, Constitución y Villa Riachuelo tienen los precios más bajos\n",
    "en promedio con los demás barrios."
   ]
  },
  {
   "cell_type": "code",
   "execution_count": null,
   "metadata": {},
   "outputs": [],
   "source": [
    "#Visualizacion de precios promedios de los 10 barrios con menor valor.\n",
    "#Villa Soldati es el barrio con menor precio promedio con respecto a los demás barrios de Capital Federal.\n",
    "\n",
    "plt.ylabel = \"1\"\n",
    "ax = sells_caba_sort_asc[('price_aprox_usd','mean')][0:10].plot(title = \"Top 10 de las zonas con menor precio promedio de Capital Federal en USD\",color = 'violet',kind='bar',figsize=(14,4))\n",
    "ax.set_ylabel('Precio en USD')\n",
    "ax.set_xlabel('Barrios de Capital Federal')\n",
    "plt.show()"
   ]
  },
  {
   "cell_type": "markdown",
   "metadata": {},
   "source": [
    "Así como Puerto Madero y Palermo Chico mostraban una diferencia de precios muy marcada con los inmediatos seguidores,\n",
    "en este plot, se puede observar que Villa Soldati se encuentra como la zona de menor precio promedio de Capital Federal, seguidas de Constitución y Villa Riachuelo."
   ]
  },
  {
   "cell_type": "code",
   "execution_count": null,
   "metadata": {},
   "outputs": [],
   "source": [
    "# Histograma de cantidad de promedio de precios y cantidad de ventas\n",
    "ax = sells_caba_group[('price_aprox_usd','mean')].hist(figsize=(25,10),color = 'violet');\n",
    "ax.set_ylabel('Cantidad de propiedades',fontsize=20)\n",
    "ax.set_xlabel('Rango de precios',fontsize=20)\n",
    "ax.set_title(\"Distribución promedio de ventas en Capital Federal\",fontsize = 25)\n",
    "plt.show()"
   ]
  },
  {
   "cell_type": "code",
   "execution_count": null,
   "metadata": {},
   "outputs": [],
   "source": [
    "######################VERRRRR###########################3\n",
    "\n",
    "#concentracion de precios y cantidad de ventas\n",
    "sells_caba_group.plot.box(figsize=(15,5));"
   ]
  },
  {
   "cell_type": "markdown",
   "metadata": {},
   "source": [
    "### Primeros trabajos sobre propiedades en Capital Federal."
   ]
  },
  {
   "cell_type": "code",
   "execution_count": null,
   "metadata": {},
   "outputs": [],
   "source": [
    "sells_gba_price = sells_gba.loc[:,['state_name','place_name','price_aprox_usd']]\n",
    "sells_gba_price.head(10)"
   ]
  },
  {
   "cell_type": "code",
   "execution_count": null,
   "metadata": {},
   "outputs": [],
   "source": [
    "sells_gba_group = sells_gba_price.groupby(\"place_name\")\n",
    "sells_gba_group.mean()"
   ]
  },
  {
   "cell_type": "markdown",
   "metadata": {},
   "source": [
    "#### Cantidad de ventas de propiedades por barrio en el Gran Buenos Aires."
   ]
  },
  {
   "cell_type": "code",
   "execution_count": null,
   "metadata": {},
   "outputs": [],
   "source": [
    "#defino cantidad de ventas por barrio\n",
    "sells_gba_group_count = sells_gba_group.count()['state_name']\n",
    "sells_gba_group_count.sort_values(ascending=False)"
   ]
  },
  {
   "cell_type": "markdown",
   "metadata": {},
   "source": [
    "Como primera observación realizada, Nordelta, Tigre, La Plata y Pilar dominan ampliamante el sector de ventas de las zonas de Gran Capital, y su vez, el dataframe nos informa de muchas ventas unitarias de diferentes barrios."
   ]
  },
  {
   "cell_type": "code",
   "execution_count": null,
   "metadata": {},
   "outputs": [],
   "source": [
    "#como hay min 2 cantidad de ventas y max 2238, filtro por >= 15\n",
    "sells_gba_group = sells_gba_price.groupby('place_name').agg([np.mean,np.size])\n",
    "sells_gba_group = sells_gba_group.loc[sells_gba_group[('price_aprox_usd','size')]>=15,:]   \n",
    "sells_gba_group.head(100)"
   ]
  },
  {
   "cell_type": "code",
   "execution_count": null,
   "metadata": {},
   "outputs": [],
   "source": [
    "#top 10 de los precios promedios más caros por Gran Bueno Aires\n",
    "sells_gba_sort_desc = sells_gba_group.sort_values(('price_aprox_usd','mean'), ascending=False)\n",
    "sells_gba_sort_desc.head(10)"
   ]
  },
  {
   "cell_type": "code",
   "execution_count": null,
   "metadata": {},
   "outputs": [],
   "source": [
    "#top 10 GBA promedio\n",
    "%matplotlib inline\n",
    "\n",
    "plt.figure()\n",
    "plt.ylabel = \"1\"\n",
    "ax = sells_gba_sort_desc[('price_aprox_usd','mean')][0:10].plot(title = \"Top 10 de los precios promedios más caros en localidades del Gran Bueno Aires\",color= 'violet',kind='bar',figsize=(14,4))\n",
    "ax.set_ylabel('Precio en USD')\n",
    "ax.set_xlabel('Localidades del Gran Buenos Aires')\n",
    "plt.show()"
   ]
  },
  {
   "cell_type": "code",
   "execution_count": null,
   "metadata": {},
   "outputs": [],
   "source": [
    "#top 10 GBA promedio Ascendente\n",
    "sells_gba_sort_asc = sells_gba_group.sort_values(('price_aprox_usd','mean'), ascending=True)\n",
    "sells_gba_sort_asc.head(10)"
   ]
  },
  {
   "cell_type": "code",
   "execution_count": null,
   "metadata": {},
   "outputs": [],
   "source": [
    "#top 10 GBA promedio Ascendente\n",
    "plt.figure()\n",
    "plt.ylabel = \"1\"\n",
    "ax = sells_gba_sort_asc[('price_aprox_usd','mean')][0:10].plot(title = \"Top 10 de los precios promedios más baratos en localidades en el Gran Bueno Aires\",color = 'violet',kind='bar',figsize=(14,4))\n",
    "ax.set_ylabel('Precio en USD')\n",
    "ax.set_xlabel('Localidades del Gran Buenos Aires')\n",
    "\n",
    "plt.show()"
   ]
  },
  {
   "cell_type": "code",
   "execution_count": null,
   "metadata": {},
   "outputs": [],
   "source": [
    "# Histograma de cantidad de promedio de precios y cantidad de ventas\n",
    "#sells_gba_group['price_aprox_usd'].hist(figsize=(16,8));\n",
    "ax = sells_gba_group[('price_aprox_usd','mean')].hist(figsize=(25,10),color = 'violet');\n",
    "ax.set_ylabel('Cantidad de propiedades',fontsize=20)\n",
    "ax.set_xlabel('Rango de precios',fontsize=20)\n",
    "ax.set_title(\"Distribución promedio de ventas en GBA\",fontsize = 25)\n",
    "plt.show()"
   ]
  },
  {
   "cell_type": "code",
   "execution_count": null,
   "metadata": {},
   "outputs": [],
   "source": [
    "#concentracion de promedio precios y cantidad de ventas\n",
    "sells_gba_group.plot.box(figsize=(15,5));"
   ]
  },
  {
   "cell_type": "code",
   "execution_count": null,
   "metadata": {},
   "outputs": [],
   "source": [
    "#cantidad ventas de tipo de propiedades en CABA\n",
    "sells_caba_property = sells_caba.loc[:,['property_type','place_name']]\n",
    "sells_caba_property.head(10)"
   ]
  },
  {
   "cell_type": "code",
   "execution_count": null,
   "metadata": {},
   "outputs": [],
   "source": [
    "sells_caba_property = sells_caba.loc[:,['property_type','price_aprox_usd']]\n",
    "sells_caba_property = sells_caba_property[np.isfinite(sells_caba_property['price_aprox_usd'])]\n",
    "sells_caba_property['sub_index'] = sells_caba_property.groupby('property_type').cumcount() + 1\n",
    "sells_caba_property = pd.pivot_table(sells_caba_property,index='sub_index',columns='property_type',values='price_aprox_usd')\n",
    "\n",
    "sells_caba_property.plot.box(figsize=(15,5))"
   ]
  },
  {
   "cell_type": "code",
   "execution_count": null,
   "metadata": {},
   "outputs": [],
   "source": [
    "#cantidad de ventas por tipo de propiedades en CABA\n",
    "ax = sells_caba_property_group_count[('place_name','size')][0:10].plot(title = \"Distribución de ventas por tipo en Capital Federal\",color = 'violet',kind='bar',figsize=(14,4))\n",
    "ax.set_ylabel('Numero de ventas')\n",
    "ax.set_xlabel('Tipos de propiedades')\n",
    "\n",
    "plt.show()"
   ]
  },
  {
   "cell_type": "code",
   "execution_count": null,
   "metadata": {},
   "outputs": [],
   "source": [
    "#cantidad ventas de tipo de propiedades en GBA\n",
    "sells_gba_property = sells_gba.loc[:,['property_type','price_aprox_usd']]\n",
    "sells_gba_property = sells_gba_property[np.isfinite(sells_gba_property['price_aprox_usd'])]\n",
    "sells_gba_property['sub_index'] = sells_gba_property.groupby('property_type').cumcount() + 1\n",
    "sells_gba_property = pd.pivot_table(sells_gba_property,index='sub_index',columns='property_type',values='price_aprox_usd')\n",
    "\n",
    "sells_gba_property.plot.box(figsize=(15,5))"
   ]
  },
  {
   "cell_type": "code",
   "execution_count": null,
   "metadata": {},
   "outputs": [],
   "source": [
    "#cantidad de ventas por tipo de propiedades en GBA\n",
    "ax = sells_gba_property_group_count[('place_name','size')][0:10].plot(title = \"Distribución de ventas por tipo en el Gran Buenos Aires\",color = 'violet',kind='bar',figsize=(14,4))\n",
    "ax.set_ylabel('Número de ventas',fontsize=15)\n",
    "ax.set_xlabel('Tipos de propiedades',fontsize=15)\n",
    "\n",
    "plt.show()"
   ]
  },
  {
   "cell_type": "code",
   "execution_count": null,
   "metadata": {
    "collapsed": true
   },
   "outputs": [],
   "source": [
    "########################################################################################"
   ]
  },
  {
   "cell_type": "code",
   "execution_count": null,
   "metadata": {},
   "outputs": [],
   "source": [
    "#Cantidad promedio de habitaciones por propiedad vendida de CABA ordenada de mayor a menor.\n",
    "sells_caba_rooms_place_name = sells_caba.loc[:,['place_name','rooms']]\n",
    "sells_caba_rooms_place_name = sells_caba_rooms_place_name[np.isfinite(sells_caba_rooms_place_name['rooms'])]\n",
    "sells_caba_rooms = sells_caba_rooms_place_name.groupby('place_name').agg([np.mean,np.size])\n",
    "sells_caba_rooms = sells_caba_rooms.loc[sells_caba_rooms[('rooms','size')]>=5,:].rename(columns={'mean': 'promedio_de_habitacion'})\n",
    "sells_caba_rooms.sort_values(('rooms','promedio_de_habitacion'), ascending=False).round({('rooms','promedio_de_habitacion'):2})"
   ]
  },
  {
   "cell_type": "code",
   "execution_count": null,
   "metadata": {},
   "outputs": [],
   "source": [
    "#Cantidad promedio de habitaciones por propiedad vendida de GBA ordenada de mayor a menor.\n",
    "sells_gba_rooms_place_name = sells_gba.loc[:,['place_name','rooms']]\n",
    "sells_gba_rooms_place_name = sells_gba_rooms_place_name[np.isfinite(sells_gba_rooms_place_name['rooms'])]\n",
    "sells_gba_rooms = sells_gba_rooms_place_name.groupby('place_name').agg([np.mean,np.size])\n",
    "sells_gba_rooms = sells_gba_rooms.loc[sells_gba_rooms[('rooms','size')]>=15,:].rename(columns={'mean': 'promedio_de_habitacion'})\n",
    "#El valor 15, corresponde a que tomo a partir de 15 ventas de propiedades por barrio para tener en cuenta en el promedio.\n",
    "sells_gba_rooms.sort_values(('rooms','promedio_de_habitacion'), ascending=False).round({('rooms','promedio_de_habitacion'):2})"
   ]
  },
  {
   "cell_type": "code",
   "execution_count": null,
   "metadata": {
    "collapsed": true
   },
   "outputs": [],
   "source": [
    "#6 - Evolucion global de los precios correlacionada con el dolar? --> Braian\n",
    "#esta pregunta no la entendí, el que la hizo la explique un poco más y la hago."
   ]
  },
  {
   "cell_type": "code",
   "execution_count": null,
   "metadata": {
    "collapsed": true
   },
   "outputs": [],
   "source": []
  },
  {
   "cell_type": "code",
   "execution_count": null,
   "metadata": {},
   "outputs": [],
   "source": [
    "#Cantidad de propiedades dolarizadas por barrio.\n",
    "sells_caba_por_barrio = sells_caba.loc[:,['place_name','currency']]\n",
    "sells_caba_por_barrio_con_precio_dolar = sells_caba_por_barrio[sells_caba_por_barrio['currency'] == 'USD'].groupby('place_name').count()\n",
    "sells_caba_por_barrio_con_precio_dolar = sells_caba_por_barrio_con_precio_dolar.rename(columns={'currency': 'numero_propiedades_con_moneda_dolar'})\n",
    "sells_caba_por_barrio_con_precio_dolar.sort_values(('numero_propiedades_con_moneda_dolar'),ascending=False).head()"
   ]
  },
  {
   "cell_type": "code",
   "execution_count": null,
   "metadata": {},
   "outputs": [],
   "source": [
    "#Cantidad de propiedades pesificadas por barrio.\n",
    "sells_caba_por_barrio_con_precio_pesos = sells_caba_por_barrio[sells_caba_por_barrio['currency'] == 'ARS'].groupby('place_name').count()\n",
    "sells_caba_por_barrio_con_precio_pesos = sells_caba_por_barrio_con_precio_pesos.rename(columns={'currency': 'numero_propiedades_con_moneda_pesos'})\n",
    "sells_caba_por_barrio_con_precio_pesos.sort_values(('numero_propiedades_con_moneda_pesos'),ascending=False).head()"
   ]
  },
  {
   "cell_type": "code",
   "execution_count": null,
   "metadata": {},
   "outputs": [],
   "source": [
    "#Cantidas de propiedades dolarizadas según su tipo.\n",
    "sells_caba_por_barrio = sells_caba.loc[:,['property_type','currency']]\n",
    "sells_caba_por_barrio_con_precio_dolar = sells_caba_por_barrio[sells_caba_por_barrio['currency'] == 'USD'].groupby('property_type').count()\n",
    "sells_caba_por_barrio_con_precio_dolar = sells_caba_por_barrio_con_precio_dolar.rename(columns={'currency': 'propiedad_en_moneda_dolar'})\n",
    "sells_caba_por_barrio_con_precio_dolar.sort_values(('propiedad_en_moneda_dolar'),ascending=False).head()"
   ]
  },
  {
   "cell_type": "code",
   "execution_count": null,
   "metadata": {},
   "outputs": [],
   "source": [
    "#Cantidad de propiedades pesificadas según su tipo.\n",
    "sells_caba_por_barrio = sells_caba.loc[:,['property_type','currency']]\n",
    "sells_caba_por_barrio_con_precio_pesos = sells_caba_por_barrio[sells_caba_por_barrio['currency'] == 'ARS'].groupby('property_type').count()\n",
    "sells_caba_por_barrio_con_precio_pesos = sells_caba_por_barrio_con_precio_pesos.rename(columns={'currency': 'propiedad_en_moneda_pesos'})\n",
    "sells_caba_por_barrio_con_precio_pesos.sort_values(('propiedad_en_moneda_pesos'),ascending=False).head()"
   ]
  },
  {
   "cell_type": "code",
   "execution_count": null,
   "metadata": {},
   "outputs": [],
   "source": [
    "#Distribucion de m2 por barrio (top10)\n",
    "sells_caba_agrupada_por_sup_y_barrio = sells_caba.loc[:,['place_name','surface_total_in_m2']]\n",
    "sells_caba_agrupada_por_sup_y_barrio.groupby('place_name').sum().sort_values(('surface_total_in_m2'),ascending=False).head(10)"
   ]
  },
  {
   "cell_type": "code",
   "execution_count": null,
   "metadata": {},
   "outputs": [],
   "source": [
    "#Distribucion promedio de m2 por barrio (top10)\n",
    "sells_caba_agrupada_por_sup_y_barrio = sells_caba.loc[:,['place_name','surface_total_in_m2']]\n",
    "sells_caba_agrupada_por_sup_y_barrio.groupby('place_name').mean().sort_values(('surface_total_in_m2'),ascending=False).round({'surface_total_in_m2':2}).head(10)"
   ]
  },
  {
   "cell_type": "code",
   "execution_count": null,
   "metadata": {},
   "outputs": [],
   "source": [
    "#Las expensas promedio mas caras por barrio en Capital Federal.\n",
    "sells_caba_por_expensas_lugar = sells_caba.loc[:,['place_name','expenses']]\n",
    "sells_caba_por_expensas_lugar = sells_caba_por_expensas_lugar[(sells_caba_por_expensas_lugar['expenses'] < 100000) & (sells_caba_por_expensas_lugar['expenses'] > 10)]\n",
    "sells_caba_por_expensas_lugar = sells_caba_por_expensas_lugar[np.isfinite(sells_caba_por_expensas_lugar['expenses'])]\n",
    "sells_caba_por_expensas_lugar.groupby('place_name').mean().sort_values(('expenses'),ascending=False).round({'expenses':2}).head()"
   ]
  },
  {
   "cell_type": "code",
   "execution_count": null,
   "metadata": {},
   "outputs": [],
   "source": [
    "#Las expensas promedio menos caras por barrio en Capital Federal.\n",
    "sells_caba_por_expensas_lugar.groupby('place_name').mean().sort_values(('expenses'),ascending=False).round({'expenses':2}).tail()"
   ]
  },
  {
   "cell_type": "code",
   "execution_count": null,
   "metadata": {},
   "outputs": [],
   "source": [
    "#Las expensas promedio mas caras por ciudad del Gran Buenos Aires.\n",
    "sells_gba_por_expensas_lugar = sells_gba.loc[:,['place_name','expenses']]\n",
    "sells_gba_por_expensas_lugar = sells_gba_por_expensas_lugar[(sells_gba_por_expensas_lugar['expenses'] < 100000) & (sells_gba_por_expensas_lugar['expenses'] > 10)]\n",
    "sells_gba_por_expensas_lugar = sells_gba_por_expensas_lugar[np.isfinite(sells_gba_por_expensas_lugar['expenses'])]\n",
    "sells_gba_por_expensas_lugar = sells_gba_por_expensas_lugar.groupby('place_name').agg([np.mean,np.size])\n",
    "sells_gba_por_expensas_lugar = sells_gba_por_expensas_lugar.loc[sells_gba_por_expensas_lugar[('expenses','size')]>=15,:]\n",
    "sells_gba_por_expensas_lugar.sort_values(('expenses','mean'), ascending=False).head(10)"
   ]
  },
  {
   "cell_type": "code",
   "execution_count": null,
   "metadata": {},
   "outputs": [],
   "source": [
    "#Distribucion de stores en Capital Federal\n",
    "sells_caba_only_store = sells_caba[sells_caba['property_type'] == 'store']\n",
    "sells_caba_only_store['place_name'].value_counts()"
   ]
  },
  {
   "cell_type": "code",
   "execution_count": null,
   "metadata": {},
   "outputs": [],
   "source": [
    "#Distribucion de stores en Gran Buenos Aires\n",
    "sells_gba_only_store = sells_gba[sells_gba['property_type'] == 'store']\n",
    "sells_gba_only_store['place_name'].value_counts()"
   ]
  },
  {
   "cell_type": "code",
   "execution_count": null,
   "metadata": {},
   "outputs": [],
   "source": [
    "#Precio promedio del m2 por barrio en GBA ordenado de mayor a menor\n",
    "sells_gba_por_ciudades_y_m2 = sells_gba.loc[:,['place_name','price_usd_per_m2']]\n",
    "sells_gba_por_ciudades_y_m2 = sells_gba_por_ciudades_y_m2[sells_gba_por_ciudades_y_m2['price_usd_per_m2'] < 7000]\n",
    "sells_gba_por_ciudades_y_m2 = sells_gba_por_ciudades_y_m2[np.isfinite(sells_gba_por_ciudades_y_m2['price_usd_per_m2'])]\n",
    "sells_gba_por_ciudades_y_m2 = sells_gba_por_ciudades_y_m2.groupby('place_name').agg([np.mean,np.size])\n",
    "sells_gba_por_ciudades_y_m2 = sells_gba_por_ciudades_y_m2.loc[sells_gba_por_ciudades_y_m2[('price_usd_per_m2','size')]>=15,:]\n",
    "sells_gba_por_ciudades_y_m2 = sells_gba_por_ciudades_y_m2.rename(columns = {'mean': 'precio_del_m2_por_barrio'})\n",
    "sells_gba_por_ciudades_y_m2 = sells_gba_por_ciudades_y_m2.sort_values(('price_usd_per_m2','precio_del_m2_por_barrio'), ascending=False)\n",
    "sells_gba_por_ciudades_y_m2.head(10)"
   ]
  },
  {
   "cell_type": "code",
   "execution_count": null,
   "metadata": {},
   "outputs": [],
   "source": [
    "%matplotlib inline\n",
    "\n",
    "ax = sells_gba_por_ciudades_y_m2['price_usd_per_m2','precio_del_m2_por_barrio'][:10].plot(title = \"Precio promedio del m2 de las zonas mas caras de GBA\",color = 'violet',kind='bar',figsize=(14,4))\n",
    "ax.set_ylabel('Precio USD del metro2')\n",
    "ax.set_xlabel('Localidades del GBA')\n",
    "plt.show()"
   ]
  },
  {
   "cell_type": "code",
   "execution_count": null,
   "metadata": {},
   "outputs": [],
   "source": [
    "#Precio promedio del m2 por barrio en CABA ordenado de mayor a menor\n",
    "sells_caba_por_ciudades_y_m2 = sells_caba.loc[:,['place_name','price_usd_per_m2']]\n",
    "sells_caba_por_ciudades_y_m2 = sells_caba_por_ciudades_y_m2[sells_caba_por_ciudades_y_m2['price_usd_per_m2'] < 7000]\n",
    "sells_caba_por_ciudades_y_m2 = sells_caba_por_ciudades_y_m2[np.isfinite(sells_caba_por_ciudades_y_m2['price_usd_per_m2'])]\n",
    "sells_caba_por_ciudades_y_m2 = sells_caba_por_ciudades_y_m2.groupby('place_name').agg([np.mean,np.size])\n",
    "sells_caba_por_ciudades_y_m2 = sells_caba_por_ciudades_y_m2.loc[sells_caba_por_ciudades_y_m2[('price_usd_per_m2','size')]>=10,:]\n",
    "sells_caba_por_ciudades_y_m2 = sells_caba_por_ciudades_y_m2.rename(columns = {'mean': 'precio_del_m2_por_barrio'})\n",
    "sells_caba_por_ciudades_y_m2 = sells_caba_por_ciudades_y_m2.sort_values(('price_usd_per_m2','precio_del_m2_por_barrio'), ascending=False)\n",
    "sells_caba_por_ciudades_y_m2.head(10)"
   ]
  },
  {
   "cell_type": "code",
   "execution_count": null,
   "metadata": {
    "scrolled": true
   },
   "outputs": [],
   "source": [
    "%matplotlib inline\n",
    "\n",
    "ax = sells_caba_por_ciudades_y_m2['price_usd_per_m2','precio_del_m2_por_barrio'][:10].plot(title = \"Precio promedio del m2 de las zonas mas caras de Capital Federal\",kind='bar',color='violet',figsize=(14,4))\n",
    "ax.set_ylabel('Precio USD del metro2')\n",
    "\n",
    "ax.set_xlabel('Barrios de Capital Federal')\n",
    "plt.show()"
   ]
  },
  {
   "cell_type": "code",
   "execution_count": null,
   "metadata": {},
   "outputs": [],
   "source": [
    "sells.columns.values"
   ]
  },
  {
   "cell_type": "code",
   "execution_count": null,
   "metadata": {},
   "outputs": [],
   "source": [
    "#CON ESTO SACO EL VALOR DEL DOLAR, CON CADA DATA SET DE 6 MESES, puedo obtener un dolar que irá creciendo y se puede\n",
    "#almacenar en algun plot del estilo area, en donde se vea la curva de crecimiento en la que seguramente se vera .\n",
    "sells_caba_with_price_currency_ars = sells_caba[sells_caba['currency'] == 'ARS']\n",
    "sells_caba_with_price_currency_ars = sells_caba_with_price_currency_ars.loc[:,['price','price_aprox_usd']]\n",
    "sells_caba_with_price_currency_ars['price'].sum()/sells_caba_with_price_currency_ars['price_aprox_usd'].sum()\n"
   ]
  },
  {
   "cell_type": "markdown",
   "metadata": {},
   "source": [
    "### Valor del dólar durante el transcurso del mes Enero del 2017\n",
    "\n",
    "###### Se inicia un análisis de las propiedades que se encuentran pesificadas, ya que cuentan con su valor tanto en pesos y en dolar."
   ]
  },
  {
   "cell_type": "code",
   "execution_count": null,
   "metadata": {
    "collapsed": true
   },
   "outputs": [],
   "source": [
    "#Me quedo con los valores que esten pesificados, ya que con ellos puedo trabajar para obtener el valor del dolar.\n",
    "\n",
    "only_sells_with_price_arg = sells_caba[sells_caba['currency'] == 'ARS']\n",
    "only_sells_with_price_arg = only_sells_with_price_arg [(only_sells_with_price_arg['created_on']>'2017-01-01') & (only_sells_with_price_arg['created_on']<'2017-01-31')]\n",
    "#only_sells_with_price_arg = only_sells_with_price_arg [(only_sells_with_price_arg['created_on']>='2017-01-01') & (only_sells_with_price_arg['created_on']<='2017-01-31')]\n",
    "#(arriba) esto con la restricciones de filtrado, lo debo quitar.\n",
    "sells_caba_with_date = only_sells_with_price_arg.loc[:,['created_on','price','price_aprox_usd']]\n",
    "\n",
    "#Con un valor de una propiedad por día puedo sacar el valor del dolar del mismo día.\n",
    "sells_caba_with_date = sells_caba_with_date.drop_duplicates(['created_on'], keep='last')\n",
    "sells_caba_with_date['created_on'] = sells_caba_with_date['created_on'].astype(\"datetime64\")\n",
    "sells_caba_with_date = sells_caba_with_date.sort_values(('created_on'), ascending=True)\n",
    "\n",
    "#Agrego una columna donde voy a calcular el dolar del día.\n",
    "sells_caba_with_date['dollar'] = sells_caba_with_date['price']/sells_caba_with_date['price_aprox_usd']\n",
    "sells_caba_with_date = sells_caba_with_date.round({'dollar':2})\n",
    "sells_caba_with_date.set_index('created_on', inplace=True)"
   ]
  },
  {
   "cell_type": "code",
   "execution_count": null,
   "metadata": {},
   "outputs": [],
   "source": [
    "\n",
    "bar = sells_caba_with_date['dollar'].plot.bar(figsize=(8,8), fontsize=15,color = 'orange',stacked=True)\n",
    "bar.set_xticklabels(sells_caba_with_date.index.format()) # formato YYYY-MM-DD\n",
    "bar.set_xlabel('Fecha(YYYY-MM-DD)', fontsize=15)\n",
    "bar.set_ylabel('USD',fontsize = 15)\n",
    " \n",
    "plt.show()"
   ]
  },
  {
   "cell_type": "markdown",
   "metadata": {},
   "source": [
    "Con este plot se puede ver claramente que durante el mes de Enero del 2017, el precio del dolar se mantuvo estable, por lo que se puede decir que en el mercado de las propiedades, el valor de las mismas no vario mucho con respecto a las anteriores."
   ]
  }
 ],
 "metadata": {
  "kernelspec": {
   "display_name": "Python 2",
   "language": "python",
   "name": "python2"
  },
  "language_info": {
   "codemirror_mode": {
    "name": "ipython",
    "version": 2
   },
   "file_extension": ".py",
   "mimetype": "text/x-python",
   "name": "python",
   "nbconvert_exporter": "python",
   "pygments_lexer": "ipython2",
   "version": "2.7.12"
  }
 },
 "nbformat": 4,
 "nbformat_minor": 2
}
