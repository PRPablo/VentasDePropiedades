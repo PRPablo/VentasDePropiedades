{
 "cells": [
  {
   "cell_type": "markdown",
   "metadata": {},
   "source": [
    "## Preguntas para hacernos entre todos y debatir\n",
    "\n",
    "1  - Qué hacer con el campo ID del dataset? / Resp = Eliminar si no hay duplicados\n",
    "\n",
    "2  - Eliminar columna innecesaria como \"Operation\". / Resp = Si, ya estan eliminados\n",
    "\n",
    "3  - Hay que tener en cuenta además de los departamentos y las casas, los PH y las store? / Resp = Si\n",
    "\n",
    "4  - Búsqueda de datos sobre la seguridad de cada barrio, generalmente diarios como La Nación o Clarín recuerdo que sacaban buenos informes sobre la seguridad por barrios. (Aún deben estar en la web). / Resp = Seria para tener en cuenta en el precio?\n respuesta: sería obtener alguna causa probable del porqué de algunos precios, a modo de investigación digo yo.",
    "\n",
    "5  - Buscar información sobre el Dolar en esos años, si hubo grandes variaciones, de crecimiento estable o lineal. / Resp = Si, me parece bien ya que asi podemos hacer una relacion con los precios.\n",
    "(/ Resp por Ariel)\n"
   ]
  },
  {
   "cell_type": "markdown",
   "metadata": {},
   "source": [
    "## Preguntas para analizar\n",
    "\n",
    "1 - Ver si en el dataset hay algún enfoque en particular en lo que respecta a las casas, departamentos, store o PH. (útil este apartado para ver en algún gráfico).\n",
    "\n",
    "2 - Indicar el promedio de expensas por barrio y después ver como evolucionó con el tiempo su precio (similar a las preguntas ya propuestas pero centrado en expensas). / Esto lo encuentro dificil ya que muy pocos datos poseen expensas.\n",
    "\n",
    "3 - Categorizar los inmuebles por sus precios en diferentes zonas y/o barrios con características similares de inmuebles (similar número de metro cuadrado, número de habitaciones).\n",
    "\n",
    "4 - (Opcional y a debatir como implementar) Agregar alguna columna que nueva que indique del 1 al 10 que tan segura es la zona por barrios. / Interesante pero es bastante largo por la cantidad de datos que hay en los años\n",
    "\n",
    "5 - Precio del metro cuadrado por barrio (un estimativo).\n",
    "\n",
    "6 - Diferencia entre precios de casas y deptos con similares características en CABA y Gran Buenos Aires.\n",
    "\n",
    "7 - Sacar el valor del dolar viendo las diferencias de precios en pesos y en dolares (Ver si hay algún calculo para sacar dicho valor).\n",
    "\n",
    "8 - Relación por barrio entre superficie total en metro cuadrado y su precio."
   ]
  },
  {
   "cell_type": "code",
   "execution_count": null,
   "metadata": {
    "collapsed": true
   },
   "outputs": [],
   "source": []
  }
 ],
 "metadata": {
  "kernelspec": {
   "display_name": "Python 2",
   "language": "python",
   "name": "python2"
  },
  "language_info": {
   "codemirror_mode": {
    "name": "ipython",
    "version": 2
   },
   "file_extension": ".py",
   "mimetype": "text/x-python",
   "name": "python",
   "nbconvert_exporter": "python",
   "pygments_lexer": "ipython2",
   "version": "2.7.12"
  }
 },
 "nbformat": 4,
 "nbformat_minor": 2
}
