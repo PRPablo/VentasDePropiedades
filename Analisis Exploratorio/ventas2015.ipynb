{
 "cells": [
  {
   "cell_type": "code",
   "execution_count": 10,
   "metadata": {
    "collapsed": true
   },
   "outputs": [],
   "source": [
    "# magic function para hacer que los graficos de matplotlib se renderizen en el notebook.\n",
    "%matplotlib inline\n",
    "\n",
    "import datetime as datetime\n",
    "import pandas as pd\n",
    "import numpy as np\n",
    "import matplotlib.pyplot as plt\n",
    "\n",
    "\n",
    "plt.style.use('default') # haciendo los graficos un poco mas bonitos xD\n",
    "plt.rcParams['figure.figsize'] = (15, 5)"
   ]
  },
  {
   "cell_type": "code",
   "execution_count": 15,
   "metadata": {
    "collapsed": true
   },
   "outputs": [],
   "source": [
    "csv_12_2015 = pd.read_csv('data/properati-AR-2015-12-01-properties-sell-six_months.csv')\n",
    "csv_11_2015 = pd.read_csv('data/properati-AR-2015-11-01-properties-sell-six_months.csv')\n",
    "csv_10_2015 = pd.read_csv('data/properati-AR-2015-10-01-properties-sell-six_months.csv')\n",
    "csv_09_2015 = pd.read_csv('data/properati-AR-2015-09-01-properties-sell-six_months.csv')\n",
    "csv_08_2015 = pd.read_csv('data/properati-AR-2015-08-01-properties-sell-six_months.csv')\n",
    "csv_07_2015 = pd.read_csv('data/properati-AR-2015-07-01-properties-sell-six_months.csv')\n",
    "\n",
    "#filtro duplicados\n",
    "sells_12_2015 = csv_12_2015.loc[(csv_12_2015['created_on'] <= '2015-12-31') & (csv_12_2015['created_on'] >='2015-12-01')]\n",
    "sells_11_2015 = csv_11_2015.loc[(csv_11_2015['created_on'] <= '2015-11-31') & (csv_11_2015['created_on'] >='2015-11-01')]\n",
    "sells_10_2015 = csv_10_2015.loc[(csv_10_2015['created_on'] <= '2015-10-31') & (csv_10_2015['created_on'] >='2015-10-01')]\n",
    "sells_09_2015 = csv_09_2015.loc[(csv_09_2015['created_on'] <= '2015-09-31') & (csv_09_2015['created_on'] >='2015-09-01')]\n",
    "sells_08_2015 = csv_08_2015.loc[(csv_08_2015['created_on'] <= '2015-08-31') & (csv_08_2015['created_on'] >='2015-08-01')]\n",
    "sells_07_2015 = csv_07_2015.loc[(csv_07_2015['created_on'] <= '2015-07-31') & (csv_07_2015['created_on'] >='2015-07-01')]\n",
    "\n",
    "\n",
    "#agrupo cada 6meses del anio 2015\n",
    "frames = [sells_12_2015, sells_11_2015, sells_10_2015,sells_09_2015, sells_08_2015, sells_07_2015]\n",
    "registro_segundo_2015 = pd.concat(frames)\n",
    "np.save('outfile',registro_segundo_2015)"
   ]
  },
  {
   "cell_type": "code",
   "execution_count": 16,
   "metadata": {
    "collapsed": true
   },
   "outputs": [],
   "source": [
    "csv_06_2015 = pd.read_csv('data/properati-AR-2015-06-01-properties-sell-six_months.csv')\n",
    "csv_05_2015 = pd.read_csv('data/properati-AR-2015-05-01-properties-sell-six_months.csv')\n",
    "csv_04_2015 = pd.read_csv('data/properati-AR-2015-04-01-properties-sell-six_months.csv')\n",
    "csv_03_2015 = pd.read_csv('data/properati-AR-2015-03-01-properties-sell-six_months.csv')\n",
    "csv_02_2015 = pd.read_csv('data/properati-AR-2015-02-01-properties-sell-six_months.csv')\n",
    "csv_01_2015 = pd.read_csv('data/properati-AR-2015-01-01-properties-sell-six_months.csv')\n",
    "\n",
    "#filtro duplicados\n",
    "sells_06_2015 = csv_06_2015.loc[(csv_06_2015['created_on'] <= '2015-06-31') & (csv_06_2015['created_on'] >='2015-06-01')]\n",
    "sells_05_2015 = csv_05_2015.loc[(csv_05_2015['created_on'] <= '2015-05-31') & (csv_05_2015['created_on'] >='2015-05-01')]\n",
    "sells_04_2015 = csv_04_2015.loc[(csv_04_2015['created_on'] <= '2015-04-31') & (csv_04_2015['created_on'] >='2015-04-01')]\n",
    "sells_03_2015 = csv_03_2015.loc[(csv_03_2015['created_on'] <= '2015-03-31') & (csv_03_2015['created_on'] >='2015-03-01')]\n",
    "sells_02_2015 = csv_02_2015.loc[(csv_02_2015['created_on'] <= '2015-02-31') & (csv_02_2015['created_on'] >='2015-02-01')]\n",
    "sells_01_2015 = csv_01_2015.loc[(csv_01_2015['created_on'] <= '2015-01-31') & (csv_01_2015['created_on'] >='2015-01-01')]\n",
    "\n",
    "\n",
    "#agrupo cada 6meses del anio 2015\n",
    "frames = [sells_06_2015, sells_05_2015, sells_04_2015,sells_03_2015, sells_02_2015, sells_01_2015]\n",
    "registro_primer_2015 = pd.concat(frames)\n",
    "np.save('outfile',registro_primer_2015)"
   ]
  },
  {
   "cell_type": "code",
   "execution_count": 14,
   "metadata": {},
   "outputs": [],
   "source": []
  },
  {
   "cell_type": "code",
   "execution_count": 18,
   "metadata": {
    "collapsed": true
   },
   "outputs": [],
   "source": [
    "# con esto borro una columna del dataframe (id, operation, place_with_parents_name, country_name, geonames_id(ver si sirve)\n",
    "# lat-lon, price_aprox_local_currency, price_usd_per_m2, price_per_m2, floor, description, title, image_thumbnail)\n",
    "sells_segundo_2015 = registro_segundo_2015.drop(registro_segundo_2015.columns[[0, 2, 5, 6, 8, 9, 14, 19, 20, 24, 25, 26]], axis=1)\n",
    "sells_primer_2015 = registro_primer_2015.drop(registro_primer_2015.columns[[0, 2, 5, 6, 8, 9, 14, 19, 20, 24, 25, 26]], axis=1)\n",
    "\n",
    "#####!!!! Necesito la columna 18"
   ]
  },
  {
   "cell_type": "code",
   "execution_count": 22,
   "metadata": {},
   "outputs": [
    {
     "name": "stderr",
     "output_type": "stream",
     "text": [
      "/usr/local/lib/python3.5/dist-packages/ipykernel_launcher.py:6: UserWarning: This pattern has match groups. To actually get the groups, use str.extract.\n",
      "  \n",
      "/usr/local/lib/python3.5/dist-packages/ipykernel_launcher.py:7: UserWarning: This pattern has match groups. To actually get the groups, use str.extract.\n",
      "  import sys\n",
      "/usr/local/lib/python3.5/dist-packages/ipykernel_launcher.py:8: UserWarning: This pattern has match groups. To actually get the groups, use str.extract.\n",
      "  \n",
      "/usr/local/lib/python3.5/dist-packages/ipykernel_launcher.py:15: UserWarning: This pattern has match groups. To actually get the groups, use str.extract.\n",
      "  from ipykernel import kernelapp as app\n",
      "/usr/local/lib/python3.5/dist-packages/ipykernel_launcher.py:16: UserWarning: This pattern has match groups. To actually get the groups, use str.extract.\n",
      "  app.launch_new_instance()\n",
      "/usr/local/lib/python3.5/dist-packages/ipykernel_launcher.py:17: UserWarning: This pattern has match groups. To actually get the groups, use str.extract.\n"
     ]
    }
   ],
   "source": [
    "\n",
    "# - Como fueron evolucionando los precios sobre metro cuadrado por zona GBA \n",
    "#primer semestre\n",
    "\n",
    "#uso regex para buscar coincidencias por string\n",
    "sells_primer_2015_zona_norte = sells_primer_2015.loc[sells_primer_2015['state_name'].str.contains(r'(Zona Norte)')]\n",
    "sells_primer_2015_zona_oeste = sells_primer_2015.loc[sells_primer_2015['state_name'].str.contains(r'(Zona Oeste)')]\n",
    "sells_primer_2015_zona_sur = sells_primer_2015.loc[sells_primer_2015['state_name'].str.contains(r'(Zona Sur)')]\n",
    "sells_primer_2015_zona_norte\n",
    "\n",
    "# - Como fueron evolucionando los precios sobre metro cuadrado por zona GBA\n",
    "#segundo semestre\n",
    "\n",
    "#uso regex para buscar coincidencias por string\n",
    "sells_segundo_2015_zona_norte = sells_segundo_2015.loc[sells_segundo_2015['state_name'].str.contains(r'(Zona Norte)')]\n",
    "sells_segundo_2015_zona_oeste = sells_segundo_2015.loc[sells_segundo_2015['state_name'].str.contains(r'(Zona Oeste)')]\n",
    "sells_segundo_2015_zona_sur = sells_segundo_2015.loc[sells_segundo_2015['state_name'].str.contains(r'(Zona Sur)')]\n"
   ]
  },
  {
   "cell_type": "code",
   "execution_count": null,
   "metadata": {},
   "outputs": [],
   "source": []
  },
  {
   "cell_type": "code",
   "execution_count": null,
   "metadata": {
    "scrolled": false
   },
   "outputs": [],
   "source": []
  },
  {
   "cell_type": "code",
   "execution_count": null,
   "metadata": {
    "collapsed": true
   },
   "outputs": [],
   "source": []
  }
 ],
 "metadata": {
  "kernelspec": {
   "display_name": "Python 3",
   "language": "python",
   "name": "python3"
  },
  "language_info": {
   "codemirror_mode": {
    "name": "ipython",
    "version": 3
   },
   "file_extension": ".py",
   "mimetype": "text/x-python",
   "name": "python",
   "nbconvert_exporter": "python",
   "pygments_lexer": "ipython3",
   "version": "3.5.2"
  }
 },
 "nbformat": 4,
 "nbformat_minor": 2
}
