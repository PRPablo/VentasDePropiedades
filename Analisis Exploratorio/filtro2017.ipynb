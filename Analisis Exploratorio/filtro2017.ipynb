{
 "cells": [
  {
   "cell_type": "code",
   "execution_count": 1,
   "metadata": {
    "collapsed": true
   },
   "outputs": [],
   "source": [
    "# magic function para hacer que los graficos de matplotlib se renderizen en el notebook.\n",
    "%matplotlib inline\n",
    "\n",
    "import datetime as datetime\n",
    "import pandas as pd\n",
    "import numpy as np\n",
    "import matplotlib.pyplot as plt\n",
    "\n",
    "\n",
    "plt.style.use('default') # haciendo los graficos un poco mas bonitos xD\n",
    "plt.rcParams['figure.figsize'] = (15, 5)"
   ]
  },
  {
   "cell_type": "code",
   "execution_count": 2,
   "metadata": {
    "collapsed": true
   },
   "outputs": [],
   "source": [
    "#leo los csv de properati\n",
    "csv_08_2017 = pd.read_csv('data/properati-AR-2017-08-01-properties-sell.csv', low_memory=False)\n",
    "csv_07_2017 = pd.read_csv('data/properati-AR-2017-07-01-properties-sell.csv', low_memory=False)\n",
    "csv_06_2017 = pd.read_csv('data/properati-AR-2017-06-01-properties-sell.csv', low_memory=False)\n",
    "csv_05_2017 = pd.read_csv('data/properati-AR-2017-05-01-properties-sell.csv', low_memory=False)\n",
    "csv_04_2017 = pd.read_csv('data/properati-AR-2017-04-01-properties-sell.csv', low_memory=False)\n",
    "csv_03_2017 = pd.read_csv('data/properati-AR-2017-03-01-properties-sell.csv', low_memory=False)\n",
    "csv_02_2017 = pd.read_csv('data/properati-AR-2017-02-01-properties-sell.csv', low_memory=False)\n",
    "\n",
    "\n",
    "#filtramos columnas (guardamos las utiles)\n",
    "csv_08_2017 = csv_08_2017.loc[:,['created_on','property_type','place_name','state_name','lat','lon','price','currency','price_aprox_usd','surface_total_in_m2','rooms','expenses','properati_url']]\n",
    "csv_07_2017 = csv_07_2017.loc[:,['created_on','property_type','place_name','state_name','lat','lon','price','currency','price_aprox_usd','surface_total_in_m2','rooms','expenses','properati_url']]\n",
    "csv_06_2017 = csv_06_2017.loc[:,['created_on','property_type','place_name','state_name','lat','lon','price','currency','price_aprox_usd','surface_total_in_m2','rooms','expenses','properati_url']]\n",
    "csv_05_2017 = csv_05_2017.loc[:,['created_on','property_type','place_name','state_name','lat','lon','price','currency','price_aprox_usd','surface_total_in_m2','rooms','expenses','properati_url']]\n",
    "csv_04_2017 = csv_04_2017.loc[:,['created_on','property_type','place_name','state_name','lat','lon','price','currency','price_aprox_usd','surface_total_in_m2','rooms','expenses','properati_url']]\n",
    "csv_03_2017 = csv_03_2017.loc[:,['created_on','property_type','place_name','state_name','lat','lon','price','currency','price_aprox_usd','surface_total_in_m2','rooms','expenses','properati_url']]\n",
    "csv_02_2017 = csv_02_2017.loc[:,['created_on','property_type','place_name','state_name','lat','lon','price','currency','price_aprox_usd','surface_total_in_m2','rooms','expenses','properati_url']]\n",
    "\n",
    "#estos  csv poseen las columnas state name y surface_total_in_m2\n",
    "\n",
    "#filtro duplicados\n",
    "sells_07_2017 = csv_08_2017.loc[(csv_08_2017['created_on'] <= '2017-07-31') & (csv_08_2017['created_on'] >='2017-07-01')]\n",
    "sells_06_2017 = csv_07_2017.loc[(csv_07_2017['created_on'] <= '2017-06-31') & (csv_07_2017['created_on'] >='2017-06-01')]\n",
    "sells_05_2017 = csv_06_2017.loc[(csv_06_2017['created_on'] <= '2017-05-31') & (csv_06_2017['created_on'] >='2017-05-01')]\n",
    "sells_04_2017 = csv_05_2017.loc[(csv_05_2017['created_on'] <= '2017-04-31') & (csv_05_2017['created_on'] >='2017-04-01')]\n",
    "sells_03_2017 = csv_04_2017.loc[(csv_04_2017['created_on'] <= '2017-03-31') & (csv_04_2017['created_on'] >='2017-03-01')]\n",
    "sells_02_2017 = csv_03_2017.loc[(csv_03_2017['created_on'] <= '2017-02-31') & (csv_03_2017['created_on'] >='2017-02-01')]\n",
    "sells_01_2017 = csv_02_2017.loc[(csv_02_2017['created_on'] <= '2017-01-31') & (csv_02_2017['created_on'] >='2017-01-01')]\n",
    "\n",
    "#guardo nuevos csv con los datos filtrados\n",
    "sells_07_2017.to_csv('filterdata/sells_07_2017.csv')\n",
    "sells_06_2017.to_csv('filterdata/sells_06_2017.csv')\n",
    "sells_05_2017.to_csv('filterdata/sells_05_2017.csv')\n",
    "sells_04_2017.to_csv('filterdata/sells_04_2017.csv')\n",
    "sells_03_2017.to_csv('filterdata/sells_03_2017.csv')\n",
    "sells_02_2017.to_csv('filterdata/sells_02_2017.csv')\n",
    "sells_01_2017.to_csv('filterdata/sells_01_2017.csv')\n",
    "\n"
   ]
  },
  {
   "cell_type": "code",
   "execution_count": 4,
   "metadata": {
    "collapsed": false
   },
   "outputs": [
    {
     "name": "stdout",
     "output_type": "stream",
     "text": [
      "Index(['id', 'created_on', 'operation', 'property_type', 'place_name',\n",
      "       'place_with_parent_names', 'country_name', 'state_name', 'geonames_id',\n",
      "       'lat-lon', 'lat', 'lon', 'price', 'currency',\n",
      "       'price_aprox_local_currency', 'price_aprox_usd', 'surface_total_in_m2',\n",
      "       'surface_covered_in_m2', 'price_usd_per_m2', 'price_per_m2', 'floor',\n",
      "       'rooms', 'expenses', 'properati_url', 'description', 'title',\n",
      "       'image_thumbnail'],\n",
      "      dtype='object')\n",
      "27\n",
      "Index(['id', 'created_on', 'operation', 'property_type', 'place_name',\n",
      "       'place_with_parent_names', 'country_name', 'state_name', 'geonames_id',\n",
      "       'lat-lon', 'lat', 'lon', 'price', 'currency',\n",
      "       'price_aprox_local_currency', 'price_aprox_usd', 'surface_total_in_m2',\n",
      "       'surface_covered_in_m2', 'price_usd_per_m2', 'price_per_m2', 'floor',\n",
      "       'rooms', 'expenses', 'properati_url', 'description', 'title',\n",
      "       'image_thumbnail'],\n",
      "      dtype='object')\n",
      "27\n",
      "Index(['id', 'created_on', 'operation', 'property_type', 'place_name',\n",
      "       'place_with_parent_names', 'country_name', 'state_name', 'geonames_id',\n",
      "       'lat-lon', 'lat', 'lon', 'price', 'currency',\n",
      "       'price_aprox_local_currency', 'price_aprox_usd', 'surface_total_in_m2',\n",
      "       'surface_covered_in_m2', 'price_usd_per_m2', 'price_per_m2', 'floor',\n",
      "       'rooms', 'expenses', 'properati_url', 'description', 'title',\n",
      "       'image_thumbnail'],\n",
      "      dtype='object')\n",
      "27\n",
      "Index(['id', 'created_on', 'operation', 'property_type', 'place_name',\n",
      "       'place_with_parent_names', 'country_name', 'state_name', 'geonames_id',\n",
      "       'lat-lon', 'lat', 'lon', 'price', 'currency',\n",
      "       'price_aprox_local_currency', 'price_aprox_usd', 'surface_total_in_m2',\n",
      "       'surface_covered_in_m2', 'price_usd_per_m2', 'price_per_m2', 'floor',\n",
      "       'rooms', 'expenses', 'properati_url', 'description', 'title',\n",
      "       'image_thumbnail'],\n",
      "      dtype='object')\n",
      "27\n",
      "Index(['id', 'created_on', 'operation', 'property_type', 'place_name',\n",
      "       'place_with_parent_names', 'country_name', 'state_name', 'geonames_id',\n",
      "       'lat-lon', 'lat', 'lon', 'price', 'currency',\n",
      "       'price_aprox_local_currency', 'price_aprox_usd', 'surface_total_in_m2',\n",
      "       'surface_covered_in_m2', 'price_usd_per_m2', 'price_per_m2', 'floor',\n",
      "       'rooms', 'expenses', 'properati_url', 'description', 'title',\n",
      "       'image_thumbnail'],\n",
      "      dtype='object')\n",
      "27\n",
      "Index(['id', 'created_on', 'operation', 'property_type', 'place_name',\n",
      "       'place_with_parent_names', 'country_name', 'state_name', 'geonames_id',\n",
      "       'lat-lon', 'lat', 'lon', 'price', 'currency',\n",
      "       'price_aprox_local_currency', 'price_aprox_usd', 'surface_total_in_m2',\n",
      "       'surface_covered_in_m2', 'price_usd_per_m2', 'price_per_m2', 'floor',\n",
      "       'rooms', 'expenses', 'properati_url', 'description', 'title',\n",
      "       'image_thumbnail'],\n",
      "      dtype='object')\n",
      "27\n",
      "Index(['id', 'created_on', 'operation', 'property_type', 'place_name',\n",
      "       'place_with_parent_names', 'country_name', 'state_name', 'geonames_id',\n",
      "       'lat-lon', 'lat', 'lon', 'price', 'currency',\n",
      "       'price_aprox_local_currency', 'price_aprox_usd', 'surface_total_in_m2',\n",
      "       'surface_covered_in_m2', 'price_usd_per_m2', 'price_per_m2', 'floor',\n",
      "       'rooms', 'expenses', 'properati_url', 'description', 'title',\n",
      "       'image_thumbnail'],\n",
      "      dtype='object')\n",
      "27\n"
     ]
    }
   ],
   "source": [
    "#prueba para revisar el nombre de las columnas\n",
    "\n",
    "#state_name es equivalente a place_with_parent_names\n",
    "#2015 no tiene la columna 'surface_total_in_m2'\n",
    "print(csv_08_2017.keys())\n",
    "print(csv_08_2017.keys().size)\n",
    "print(csv_07_2017.keys())\n",
    "print(csv_07_2017.keys().size)\n",
    "print(csv_06_2017.keys())\n",
    "print(csv_06_2017.keys().size)\n",
    "print(csv_05_2017.keys())\n",
    "print(csv_05_2017.keys().size)\n",
    "print(csv_04_2017.keys())\n",
    "print(csv_04_2017.keys().size)\n",
    "print(csv_03_2017.keys())\n",
    "print(csv_03_2017.keys().size)\n",
    "print(csv_02_2017.keys())\n",
    "print(csv_02_2017.keys().size)"
   ]
  },
  {
   "cell_type": "code",
   "execution_count": null,
   "metadata": {
    "collapsed": true
   },
   "outputs": [],
   "source": []
  },
  {
   "cell_type": "code",
   "execution_count": null,
   "metadata": {
    "collapsed": true
   },
   "outputs": [],
   "source": []
  }
 ],
 "metadata": {
  "kernelspec": {
   "display_name": "Python 3",
   "language": "python",
   "name": "python3"
  },
  "language_info": {
   "codemirror_mode": {
    "name": "ipython",
    "version": 3
   },
   "file_extension": ".py",
   "mimetype": "text/x-python",
   "name": "python",
   "nbconvert_exporter": "python",
   "pygments_lexer": "ipython3",
   "version": "3.6.0"
  }
 },
 "nbformat": 4,
 "nbformat_minor": 2
}
