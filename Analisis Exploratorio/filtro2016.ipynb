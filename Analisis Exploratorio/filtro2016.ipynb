{
 "cells": [
  {
   "cell_type": "code",
   "execution_count": 2,
   "metadata": {
    "collapsed": true
   },
   "outputs": [],
   "source": [
    "# magic function para hacer que los graficos de matplotlib se renderizen en el notebook.\n",
    "%matplotlib inline\n",
    "\n",
    "import datetime as datetime\n",
    "import pandas as pd\n",
    "import numpy as np\n",
    "import matplotlib.pyplot as plt\n",
    "\n",
    "\n",
    "plt.style.use('default') # haciendo los graficos un poco mas bonitos xD\n",
    "plt.rcParams['figure.figsize'] = (15, 5)"
   ]
  },
  {
   "cell_type": "code",
   "execution_count": 3,
   "metadata": {},
   "outputs": [],
   "source": [
    "#leo los csv de properati\n",
    "csv_01_2017 = pd.read_csv('data/properati-AR-2017-01-01-properties-sell.csv', low_memory=False)\n",
    "csv_12_2016 = pd.read_csv('data/properati-AR-2016-12-01-properties-sell.csv', low_memory=False)\n",
    "csv_11_2016 = pd.read_csv('data/properati-AR-2016-11-01-properties-sell.csv', low_memory=False)\n",
    "csv_10_2016 = pd.read_csv('data/properati-AR-2016-10-01-properties-sell.csv', low_memory=False)\n",
    "csv_09_2016 = pd.read_csv('data/properati-AR-2016-09-01-properties-sell.csv', low_memory=False)\n",
    "csv_08_2016 = pd.read_csv('data/properati-AR-2016-08-01-properties-sell.csv', low_memory=False)\n",
    "\n",
    "#filtramos columnas (guardamos las utiles)\n",
    "#nota  'place_with_parent_names' es equivalente a 'state_name'\n",
    "csv_01_2017 = csv_01_2017.loc[:,['created_on','property_type','place_name','place_with_parent_names','lat','lon','price','currency','price_aprox_usd','surface_in_m2','rooms','expenses']]\n",
    "csv_12_2016 = csv_12_2016.loc[:,['created_on','property_type','place_name','place_with_parent_names','lat','lon','price','currency','price_aprox_usd','surface_in_m2','rooms','expenses']]\n",
    "csv_11_2016 = csv_11_2016.loc[:,['created_on','property_type','place_name','place_with_parent_names','lat','lon','price','currency','price_aprox_usd','surface_in_m2','rooms','expenses']]\n",
    "csv_10_2016 = csv_10_2016.loc[:,['created_on','property_type','place_name','place_with_parent_names','lat','lon','price','currency','price_aprox_usd','surface_in_m2','rooms','expenses']]\n",
    "csv_09_2016 = csv_09_2016.loc[:,['created_on','property_type','place_name','place_with_parent_names','lat','lon','price','currency','price_aprox_usd','surface_in_m2','rooms','expenses']]\n",
    "csv_08_2016 = csv_08_2016.loc[:,['created_on','property_type','place_name','place_with_parent_names','lat','lon','price','currency','price_aprox_usd','surface_in_m2','rooms','expenses']]\n",
    "\n",
    "#estos  csv poseen las columnas state name y surface_total_in_m2\n",
    "\n",
    "#filtro duplicados por fecha\n",
    "sells_12_2016 = csv_01_2017.loc[(csv_01_2017['created_on'] <= '2016-12-31') & (csv_01_2017['created_on'] >='2016-12-01')]\n",
    "sells_11_2016 = csv_12_2016.loc[(csv_12_2016['created_on'] <= '2016-11-31') & (csv_12_2016['created_on'] >='2016-11-01')]\n",
    "sells_10_2016 = csv_11_2016.loc[(csv_11_2016['created_on'] <= '2016-10-31') & (csv_11_2016['created_on'] >='2016-10-01')]\n",
    "sells_09_2016 = csv_10_2016.loc[(csv_10_2016['created_on'] <= '2016-09-31') & (csv_10_2016['created_on'] >='2016-09-01')]\n",
    "sells_08_2016 = csv_09_2016.loc[(csv_09_2016['created_on'] <= '2016-08-31') & (csv_09_2016['created_on'] >='2016-08-01')]\n",
    "sells_07_2016 = csv_08_2016.loc[(csv_08_2016['created_on'] <= '2016-07-31') & (csv_08_2016['created_on'] >='2016-07-01')]\n",
    "\n",
    "#guardo nuevos csv con los datos filtrados\n",
    "sells_12_2016.to_csv('filterdata/sells_12_2016.csv')\n",
    "sells_11_2016.to_csv('filterdata/sells_11_2016.csv')\n",
    "sells_10_2016.to_csv('filterdata/sells_10_2016.csv')\n",
    "sells_09_2016.to_csv('filterdata/sells_09_2016.csv')\n",
    "sells_08_2016.to_csv('filterdata/sells_08_2016.csv')\n",
    "sells_07_2016.to_csv('filterdata/sells_07_2016.csv')\n",
    "\n"
   ]
  },
  {
   "cell_type": "code",
   "execution_count": 5,
   "metadata": {
    "collapsed": true
   },
   "outputs": [],
   "source": [
    "csv_07_2016 = pd.read_csv('data/properati-AR-2016-07-01-properties-sell.csv', low_memory=False)\n",
    "csv_06_2016 = pd.read_csv('data/properati-AR-2016-06-01-properties-sell.csv', low_memory=False)\n",
    "csv_05_2016 = pd.read_csv('data/properati-AR-2016-05-01-properties-sell.csv', low_memory=False)\n",
    "csv_04_2016 = pd.read_csv('data/properati-AR-2016-04-01-properties-sell.csv', low_memory=False)\n",
    "csv_03_2016 = pd.read_csv('data/properati-AR-2016-03-01-properties-sell.csv', low_memory=False)\n",
    "csv_02_2016 = pd.read_csv('data/properati-AR-2016-02-01-properties-sell.csv', low_memory=False)\n",
    " \n",
    "#filtramos columnas (guardamos las utiles)\n",
    "#nota  'place_with_parent_names' es equivalente a 'state_name'\n",
    "csv_07_2016 = csv_07_2016.loc[:,['created_on','property_type','place_name','place_with_parent_names','lat','lon','price','currency','price_aprox_usd','surface_in_m2','rooms','expenses']]\n",
    "csv_06_2016 = csv_06_2016.loc[:,['created_on','property_type','place_name','place_with_parent_names','lat','lon','price','currency','price_aprox_usd','surface_in_m2','rooms','expenses']]\n",
    "csv_05_2016 = csv_05_2016.loc[:,['created_on','property_type','place_name','place_with_parent_names','lat','lon','price','currency','price_aprox_usd','surface_in_m2','rooms','expenses']]\n",
    "csv_04_2016 = csv_04_2016.loc[:,['created_on','property_type','place_name','place_with_parent_names','lat','lon','price','currency','price_aprox_usd','surface_in_m2','rooms','expenses']]\n",
    "csv_03_2016 = csv_03_2016.loc[:,['created_on','property_type','place_name','place_with_parent_names','lat','lon','price','currency','price_aprox_usd','surface_in_m2','rooms','expenses']]\n",
    "csv_02_2016 = csv_02_2016.loc[:,['created_on','property_type','place_name','place_with_parent_names','lat','lon','price','currency','price_aprox_usd','surface_in_m2','rooms','expenses']]\n",
    "\n",
    "#estos  csv poseen las columnas state name y surface_total_in_m2\n",
    "\n",
    "#filtro duplicados\n",
    "sells_06_2016 = csv_07_2016.loc[(csv_07_2016['created_on'] <= '2016-06-31') & (csv_07_2016['created_on'] >='2016-06-01')]\n",
    "sells_05_2016 = csv_06_2016.loc[(csv_06_2016['created_on'] <= '2016-05-31') & (csv_06_2016['created_on'] >='2016-05-01')]\n",
    "sells_04_2016 = csv_05_2016.loc[(csv_05_2016['created_on'] <= '2016-04-31') & (csv_05_2016['created_on'] >='2016-04-01')]\n",
    "sells_03_2016 = csv_04_2016.loc[(csv_04_2016['created_on'] <= '2016-03-31') & (csv_04_2016['created_on'] >='2016-03-01')]\n",
    "sells_02_2016 = csv_03_2016.loc[(csv_03_2016['created_on'] <= '2016-02-31') & (csv_03_2016['created_on'] >='2016-02-01')]\n",
    "sells_01_2016 = csv_02_2016.loc[(csv_02_2016['created_on'] <= '2016-01-31') & (csv_02_2016['created_on'] >='2016-01-01')]\n",
    "\n",
    "#guardo nuevos csv con los datos filtrados\n",
    "sells_06_2016.to_csv('filterdata/sells_06_2016.csv')\n",
    "sells_05_2016.to_csv('filterdata/sells_05_2016.csv')\n",
    "sells_04_2016.to_csv('filterdata/sells_04_2016.csv')\n",
    "sells_03_2016.to_csv('filterdata/sells_03_2016.csv')\n",
    "sells_02_2016.to_csv('filterdata/sells_02_2016.csv')\n",
    "sells_01_2016.to_csv('filterdata/sells_01_2016.csv')\n"
   ]
  },
  {
   "cell_type": "code",
   "execution_count": 6,
   "metadata": {},
   "outputs": [
    {
     "name": "stdout",
     "output_type": "stream",
     "text": [
      "Index([u'created_on', u'property_type', u'place_name',\n",
      "       u'place_with_parent_names', u'lat', u'lon', u'price', u'currency',\n",
      "       u'price_aprox_usd', u'surface_in_m2', u'rooms', u'expenses'],\n",
      "      dtype='object')\n",
      "12\n",
      "Index([u'created_on', u'property_type', u'place_name',\n",
      "       u'place_with_parent_names', u'lat', u'lon', u'price', u'currency',\n",
      "       u'price_aprox_usd', u'surface_in_m2', u'rooms', u'expenses'],\n",
      "      dtype='object')\n",
      "12\n",
      "Index([u'created_on', u'property_type', u'place_name',\n",
      "       u'place_with_parent_names', u'lat', u'lon', u'price', u'currency',\n",
      "       u'price_aprox_usd', u'surface_in_m2', u'rooms', u'expenses'],\n",
      "      dtype='object')\n",
      "12\n",
      "Index([u'created_on', u'property_type', u'place_name',\n",
      "       u'place_with_parent_names', u'lat', u'lon', u'price', u'currency',\n",
      "       u'price_aprox_usd', u'surface_in_m2', u'rooms', u'expenses'],\n",
      "      dtype='object')\n",
      "12\n",
      "Index([u'created_on', u'property_type', u'place_name',\n",
      "       u'place_with_parent_names', u'lat', u'lon', u'price', u'currency',\n",
      "       u'price_aprox_usd', u'surface_in_m2', u'rooms', u'expenses'],\n",
      "      dtype='object')\n",
      "12\n",
      "Index([u'created_on', u'property_type', u'place_name',\n",
      "       u'place_with_parent_names', u'lat', u'lon', u'price', u'currency',\n",
      "       u'price_aprox_usd', u'surface_in_m2', u'rooms', u'expenses'],\n",
      "      dtype='object')\n",
      "12\n"
     ]
    }
   ],
   "source": [
    "#prueba para revisar el nombre de las columnas\n",
    "\n",
    "#state_name es equivalente a place_with_parent_names\n",
    "#2015 no tiene la columna 'surface_total_in_m2'\n",
    "\n",
    "print(csv_07_2016.keys())\n",
    "print(csv_07_2016.keys().size)\n",
    "print(csv_06_2016.keys())\n",
    "print(csv_06_2016.keys().size)\n",
    "print(csv_05_2016.keys())\n",
    "print(csv_05_2016.keys().size)\n",
    "print(csv_04_2016.keys())\n",
    "print(csv_04_2016.keys().size)\n",
    "print(csv_03_2016.keys())\n",
    "print(csv_03_2016.keys().size)\n",
    "print(csv_02_2016.keys())\n",
    "print(csv_02_2016.keys().size)"
   ]
  },
  {
   "cell_type": "code",
   "execution_count": 6,
   "metadata": {},
   "outputs": [
    {
     "data": {
      "text/plain": [
       "\"#prueba para revisar el nombre de las columnas\\n\\n#state_name es equivalente a place_with_parent_names\\n#2015 no tiene la columna 'surface_total_in_m2'\\n\\nprint(csv_01_2017.keys())\\nprint(csv_01_2017.keys().size)\\nprint(csv_12_2016.keys())\\nprint(csv_12_2016.keys().size)\\nprint(csv_11_2016.keys())\\nprint(csv_11_2016.keys().size)\\nprint(csv_10_2016.keys())\\nprint(csv_10_2016.keys().size)\\nprint(csv_09_2016.keys())\\nprint(csv_09_2016.keys().size)\\nprint(csv_08_2016.keys())\\nprint(csv_08_2016.keys().size)\\n\""
      ]
     },
     "execution_count": 6,
     "metadata": {},
     "output_type": "execute_result"
    }
   ],
   "source": [
    "'''#prueba para revisar el nombre de las columnas\n",
    "\n",
    "#state_name es equivalente a place_with_parent_names\n",
    "#2015 no tiene la columna 'surface_total_in_m2'\n",
    "\n",
    "print(csv_01_2017.keys())\n",
    "print(csv_01_2017.keys().size)\n",
    "print(csv_12_2016.keys())\n",
    "print(csv_12_2016.keys().size)\n",
    "print(csv_11_2016.keys())\n",
    "print(csv_11_2016.keys().size)\n",
    "print(csv_10_2016.keys())\n",
    "print(csv_10_2016.keys().size)\n",
    "print(csv_09_2016.keys())\n",
    "print(csv_09_2016.keys().size)\n",
    "print(csv_08_2016.keys())\n",
    "print(csv_08_2016.keys().size)\n",
    "'''"
   ]
  },
  {
   "cell_type": "code",
   "execution_count": 7,
   "metadata": {},
   "outputs": [
    {
     "ename": "NameError",
     "evalue": "name 'csv_07_2015' is not defined",
     "output_type": "error",
     "traceback": [
      "\u001b[0;31m---------------------------------------------------------------------------\u001b[0m",
      "\u001b[0;31mNameError\u001b[0m                                 Traceback (most recent call last)",
      "\u001b[0;32m<ipython-input-7-73f0d1cae917>\u001b[0m in \u001b[0;36m<module>\u001b[0;34m()\u001b[0m\n\u001b[1;32m      4\u001b[0m \u001b[0;31m#2015 no tiene la columna 'surface_total_in_m2'\u001b[0m\u001b[0;34m\u001b[0m\u001b[0;34m\u001b[0m\u001b[0m\n\u001b[1;32m      5\u001b[0m \u001b[0;34m\u001b[0m\u001b[0m\n\u001b[0;32m----> 6\u001b[0;31m \u001b[0;32mprint\u001b[0m\u001b[0;34m(\u001b[0m\u001b[0mcsv_07_2015\u001b[0m\u001b[0;34m.\u001b[0m\u001b[0mkeys\u001b[0m\u001b[0;34m(\u001b[0m\u001b[0;34m)\u001b[0m\u001b[0;34m)\u001b[0m\u001b[0;34m\u001b[0m\u001b[0m\n\u001b[0m\u001b[1;32m      7\u001b[0m \u001b[0;32mprint\u001b[0m\u001b[0;34m(\u001b[0m\u001b[0mcsv_07_2015\u001b[0m\u001b[0;34m.\u001b[0m\u001b[0mkeys\u001b[0m\u001b[0;34m(\u001b[0m\u001b[0;34m)\u001b[0m\u001b[0;34m.\u001b[0m\u001b[0msize\u001b[0m\u001b[0;34m)\u001b[0m\u001b[0;34m\u001b[0m\u001b[0m\n\u001b[1;32m      8\u001b[0m \u001b[0;32mprint\u001b[0m\u001b[0;34m(\u001b[0m\u001b[0mcsv_06_2015\u001b[0m\u001b[0;34m.\u001b[0m\u001b[0mkeys\u001b[0m\u001b[0;34m(\u001b[0m\u001b[0;34m)\u001b[0m\u001b[0;34m)\u001b[0m\u001b[0;34m\u001b[0m\u001b[0m\n",
      "\u001b[0;31mNameError\u001b[0m: name 'csv_07_2015' is not defined"
     ]
    }
   ],
   "source": [
    "#prueba para revisar el nombre de las columnas\n",
    "\n",
    "#state_name es equivalente a place_with_parent_names\n",
    "#2015 no tiene la columna 'surface_total_in_m2'\n",
    "\n",
    "print(csv_07_2015.keys())\n",
    "print(csv_07_2015.keys().size)\n",
    "print(csv_06_2015.keys())\n",
    "print(csv_06_2015.keys().size)\n",
    "print(csv_05_2015.keys())\n",
    "print(csv_05_2015.keys().size)\n",
    "print(csv_04_2015.keys())\n",
    "print(csv_04_2015.keys().size)\n",
    "print(csv_03_2015.keys())\n",
    "print(csv_03_2015.keys().size)\n",
    "print(csv_02_2015.keys())\n",
    "print(csv_02_2015.keys().size)"
   ]
  },
  {
   "cell_type": "code",
   "execution_count": null,
   "metadata": {
    "collapsed": true
   },
   "outputs": [],
   "source": []
  }
 ],
 "metadata": {
  "kernelspec": {
   "display_name": "Python 3",
   "language": "python",
   "name": "python3"
  },
  "language_info": {
   "codemirror_mode": {
    "name": "ipython",
    "version": 2
   },
   "file_extension": ".py",
   "mimetype": "text/x-python",
   "name": "python",
   "nbconvert_exporter": "python",
   "pygments_lexer": "ipython2",
   "version": "2.7.12"
  }
 },
 "nbformat": 4,
 "nbformat_minor": 2
}
