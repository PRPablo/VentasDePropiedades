{
 "cells": [
  {
   "cell_type": "code",
   "execution_count": 1,
   "metadata": {},
   "outputs": [],
   "source": [
    "# magic function para hacer que los graficos de matplotlib se renderizen en el notebook.\n",
    "%matplotlib inline\n",
    "\n",
    "import datetime as datetime\n",
    "import pandas as pd\n",
    "import numpy as np\n",
    "import matplotlib.pyplot as plt\n",
    "\n",
    "plt.style.use('default') # haciendo los graficos un poco mas bonitos xD\n",
    "plt.rcParams['figure.figsize'] = (15, 5)"
   ]
  },
  {
   "cell_type": "code",
   "execution_count": 2,
   "metadata": {},
   "outputs": [],
   "source": [
    "#Ante todo, empezamos a analizar la información brindada por los datasets y sus respectivas columnas.\n",
    "#analisis de los ultimos 4 años\n",
    "#2013\n",
    "sells_07_2013 = pd.read_csv('filterdata/sells_07_2013.csv')\n",
    "sells_08_2013 = pd.read_csv('filterdata/sells_08_2013.csv')\n",
    "sells_09_2013 = pd.read_csv('filterdata/sells_09_2013.csv')\n",
    "sells_10_2013 = pd.read_csv('filterdata/sells_10_2013.csv')\n",
    "sells_11_2013 = pd.read_csv('filterdata/sells_11_2013.csv')\n",
    "sells_12_2013 = pd.read_csv('filterdata/sells_12_2013.csv')\n",
    "frames_2013 = [sells_07_2013, sells_08_2013, sells_09_2013,sells_10_2013, sells_11_2013, sells_12_2013]\n",
    "sells_2013 = pd.concat(frames_2013)\n",
    "\n",
    "#2014\n",
    "sells_01_2014 = pd.read_csv('filterdata/sells_01_2014.csv')\n",
    "sells_02_2014 = pd.read_csv('filterdata/sells_02_2014.csv')\n",
    "sells_03_2014 = pd.read_csv('filterdata/sells_03_2014.csv')\n",
    "sells_04_2014 = pd.read_csv('filterdata/sells_04_2014.csv')\n",
    "sells_05_2014 = pd.read_csv('filterdata/sells_05_2014.csv')\n",
    "sells_06_2014 = pd.read_csv('filterdata/sells_06_2014.csv')\n",
    "sells_07_2014 = pd.read_csv('filterdata/sells_07_2014.csv')\n",
    "sells_08_2014 = pd.read_csv('filterdata/sells_08_2014.csv')\n",
    "sells_09_2014 = pd.read_csv('filterdata/sells_09_2014.csv')\n",
    "sells_10_2014 = pd.read_csv('filterdata/sells_10_2014.csv')\n",
    "sells_11_2014 = pd.read_csv('filterdata/sells_11_2014.csv')\n",
    "sells_12_2014 = pd.read_csv('filterdata/sells_12_2014.csv')\n",
    "frames_2014 = [sells_01_2014, sells_02_2014, sells_03_2014, sells_04_2014, sells_05_2014, sells_06_2014, sells_07_2014, sells_08_2014, sells_09_2014,sells_10_2014, sells_11_2014, sells_12_2014]\n",
    "sells_2014 = pd.concat(frames_2014)\n",
    "\n",
    "#2015\n",
    "sells_01_2015 = pd.read_csv('filterdata/sells_01_2015.csv')\n",
    "sells_02_2015 = pd.read_csv('filterdata/sells_02_2015.csv')\n",
    "sells_03_2015 = pd.read_csv('filterdata/sells_03_2015.csv')\n",
    "sells_04_2015 = pd.read_csv('filterdata/sells_04_2015.csv')\n",
    "sells_05_2015 = pd.read_csv('filterdata/sells_05_2015.csv')\n",
    "sells_06_2015 = pd.read_csv('filterdata/sells_06_2015.csv')\n",
    "sells_07_2015 = pd.read_csv('filterdata/sells_07_2015.csv')\n",
    "sells_08_2015 = pd.read_csv('filterdata/sells_08_2015.csv')\n",
    "sells_09_2015 = pd.read_csv('filterdata/sells_09_2015.csv')\n",
    "sells_10_2015 = pd.read_csv('filterdata/sells_10_2015.csv')\n",
    "sells_11_2015 = pd.read_csv('filterdata/sells_11_2015.csv')\n",
    "sells_12_2015 = pd.read_csv('filterdata/sells_12_2015.csv')\n",
    "frames_2015 = [sells_01_2015, sells_02_2015, sells_03_2015, sells_04_2015, sells_05_2015, sells_06_2015, sells_07_2015, sells_08_2015, sells_09_2015,sells_10_2015, sells_11_2015, sells_12_2015]\n",
    "sells_2015 = pd.concat(frames_2015)\n",
    "\n",
    "#2016\n",
    "sells_01_2016 = pd.read_csv('filterdata/sells_01_2016.csv')\n",
    "sells_02_2016 = pd.read_csv('filterdata/sells_02_2016.csv')\n",
    "sells_03_2016 = pd.read_csv('filterdata/sells_03_2016.csv')\n",
    "sells_04_2016 = pd.read_csv('filterdata/sells_04_2016.csv')\n",
    "sells_05_2016 = pd.read_csv('filterdata/sells_05_2016.csv')\n",
    "sells_06_2016 = pd.read_csv('filterdata/sells_06_2016.csv')\n",
    "sells_07_2016 = pd.read_csv('filterdata/sells_07_2016.csv')\n",
    "sells_08_2016 = pd.read_csv('filterdata/sells_08_2016.csv')\n",
    "sells_09_2016 = pd.read_csv('filterdata/sells_09_2016.csv')\n",
    "sells_10_2016 = pd.read_csv('filterdata/sells_10_2016.csv')\n",
    "sells_11_2016 = pd.read_csv('filterdata/sells_11_2016.csv')\n",
    "sells_12_2016 = pd.read_csv('filterdata/sells_12_2016.csv')\n",
    "frames_2016 = [sells_01_2016, sells_02_2016, sells_03_2016, sells_04_2016, sells_05_2016, sells_06_2016, sells_07_2016, sells_08_2016, sells_09_2016,sells_10_2016, sells_11_2016, sells_12_2016]\n",
    "sells_2016 = pd.concat(frames_2016)\n",
    "\n",
    "#2017\n",
    "sells_01_2017 = pd.read_csv('filterdata/sells_01_2017.csv')\n",
    "sells_02_2017 = pd.read_csv('filterdata/sells_02_2017.csv')\n",
    "sells_03_2017 = pd.read_csv('filterdata/sells_03_2017.csv')\n",
    "sells_04_2017 = pd.read_csv('filterdata/sells_04_2017.csv')\n",
    "sells_05_2017 = pd.read_csv('filterdata/sells_05_2017.csv')\n",
    "sells_06_2017 = pd.read_csv('filterdata/sells_06_2017.csv')\n",
    "sells_07_2017 = pd.read_csv('filterdata/sells_07_2017.csv')\n",
    "frames_2017 = [sells_01_2017, sells_02_2017, sells_03_2017, sells_04_2017, sells_05_2017, sells_06_2017, sells_07_2017]\n",
    "sells_2017 = pd.concat(frames_2017)\n",
    "\n",
    "#Concateno los años\n",
    "frames = [sells_2013, sells_2014, sells_2015, sells_2016, sells_2017]\n",
    "sells = pd.concat(frames)"
   ]
  },
  {
   "cell_type": "code",
   "execution_count": 3,
   "metadata": {},
   "outputs": [],
   "source": [
    "#agrego funciones para crear un kml (mapa de google)\n",
    "def crear_archivo_kml(nombre_archivo, descripcion_archivo):\n",
    "    '''Crea un archivo nuevo (si ya existia lo sobreescribe) e ingresa lineas q poseen declaraciones y comandos de archivos KML.\n",
    "        Sumando los datos que le ingresan por parametro.'''\n",
    "    archivo = open(nombre_archivo, \"w\")\n",
    "    archivo.write('<?xml version=\"1.0\" encoding=\"UTF-8\"?>\\n')\n",
    "    archivo.write('<kml xmlns=\"http://earth.google.com/kml/2.1\">\\n')\n",
    "    archivo.write(\"\\t<Document>\\n\")\n",
    "    archivo.write(\"\\t\\t<name>\" + nombre_archivo + \"</name>\\n\")\n",
    "    archivo.write(\"\\t\\t<description>\" + descripcion_archivo + \"</description>\\n\")\n",
    "    archivo.write(\"\\n\")\n",
    "    archivo.close()\n",
    "    \n",
    "def insertar_ciudades(nombre_archivo, nombre_ciudad, descripcion_ciudad, coordenadas_ciudad):\n",
    "    '''Escribe al final de un archivo e ingresa lineas q poseen declaraciones y comandos de archivos KML.\n",
    "        Sumando los datos que le ingresan por parametro.'''\n",
    "    '''Las coordenas son del estilo \"latitud, longitud\" '''\n",
    "    archivo = open(nombre_archivo, \"a\")\n",
    "    archivo.write(\"\\t\\t<Placemark>\\n\")\n",
    "    archivo.write(\"\\t\\t\\t<name>\" + nombre_ciudad + \"</name>\\n\")\n",
    "    archivo.write(\"\\t\\t\\t<description>\" + descripcion_ciudad + \"</description>\\n\")\n",
    "    archivo.write(\"\\t\\t\\t<Point>\\n\")\n",
    "    archivo.write(\"\\t\\t\\t\\t<coordinates>\" + coordenadas_ciudad + \"</coordinates>\\n\")\n",
    "    archivo.write(\"\\t\\t\\t</Point>\\n\")\n",
    "    archivo.write(\"\\t\\t</Placemark>\\n\")\n",
    "    archivo.write(\"\\n\")\n",
    "\n",
    "    \n",
    "\n",
    "def cerrar_archivo_kml(nombre_archivo):\n",
    "    '''Escribe al final de un archivo e ingresa lineas q poseen declaraciones y comandos de archivos KML.'''\n",
    "    archivo = open(nombre_archivo, \"a\")\n",
    "    archivo.write(\"\\t</Document>\\n\")\n",
    "    archivo.write(\"</kml>\")\n",
    "    archivo.close()"
   ]
  },
  {
   "cell_type": "code",
   "execution_count": 4,
   "metadata": {},
   "outputs": [
    {
     "name": "stderr",
     "output_type": "stream",
     "text": [
      "/home/pablo/.local/lib/python3.5/site-packages/ipykernel_launcher.py:3: UserWarning: This pattern has match groups. To actually get the groups, use str.extract.\n",
      "  This is separate from the ipykernel package so we can avoid doing imports until\n",
      "/home/pablo/.local/lib/python3.5/site-packages/ipykernel_launcher.py:10: UserWarning: This pattern has match groups. To actually get the groups, use str.extract.\n",
      "  # Remove the CWD from sys.path while we load stuff.\n"
     ]
    },
    {
     "data": {
      "text/plain": [
       "Unnamed: 0                 146542\n",
       "created_on                 146542\n",
       "currency                   125421\n",
       "expenses                     1860\n",
       "lat                         96308\n",
       "lon                         96308\n",
       "place_name                 146529\n",
       "place_with_parent_names         0\n",
       "price                      125488\n",
       "price_aprox_usd            125488\n",
       "property_type              146542\n",
       "rooms                       69349\n",
       "state_name                 146542\n",
       "surface_in_m2                   0\n",
       "surface_total_in_m2        100785\n",
       "dtype: int64"
      ]
     },
     "execution_count": 4,
     "metadata": {},
     "output_type": "execute_result"
    }
   ],
   "source": [
    "#Se empieza por analizar la columna donde se encuentra el lugar de la publicación.\n",
    "#uso regex para buscar coincidencias por string\n",
    "sells_caba = sells.loc[sells['state_name'].str.contains(r'(Capital Federal|capital federal)', na=False)]\n",
    "sells_caba.count()\n",
    "#filtro barrio Capital Federal de caba (se analiza de forma aparte)\n",
    "sells_caba = sells_caba[sells_caba['place_name']!='Capital Federal']\n",
    "sells_caba.count()\n",
    "#Uso regex para buscar coincidencias por string entre diferentes zonas del Gran Buenos Aires y las agrupo.\n",
    "#Se hace un count para consistencias de datos.\n",
    "sells_gba = sells.loc[sells['state_name'].str.contains(r'(G.B.A|Zona Norte|Zona Sur|Zona Este|Zona Oeste)', na=False)]\n",
    "sells_gba.count()"
   ]
  },
  {
   "cell_type": "code",
   "execution_count": 5,
   "metadata": {},
   "outputs": [
    {
     "data": {
      "text/plain": [
       "146542"
      ]
     },
     "execution_count": 5,
     "metadata": {},
     "output_type": "execute_result"
    }
   ],
   "source": [
    "#Distribución de ventas agrupadas por las zonas de Capital Federal y el Gran Buenos Aires.\n",
    "\n",
    "ventas_en_caba = sells_caba['state_name'].value_counts()\n",
    "ventas_en_gba = sells_gba['state_name'].value_counts().sum()\n",
    "\n",
    "ventas_en_gba50\n",
    "#sells_gba['state_name'].size"
   ]
  },
  {
   "cell_type": "code",
   "execution_count": 6,
   "metadata": {},
   "outputs": [
    {
     "data": {
      "text/plain": [
       "Index(['Unnamed: 0', 'created_on', 'currency', 'expenses', 'lat', 'lon',\n",
       "       'place_name', 'place_with_parent_names', 'price', 'price_aprox_usd',\n",
       "       'property_type', 'rooms', 'state_name', 'surface_in_m2',\n",
       "       'surface_total_in_m2'],\n",
       "      dtype='object')"
      ]
     },
     "execution_count": 6,
     "metadata": {},
     "output_type": "execute_result"
    }
   ],
   "source": [
    "sells_caba.keys()"
   ]
  },
  {
   "cell_type": "markdown",
   "metadata": {},
   "source": [
    "## Mapa 20 ventas mas caras CABA\n"
   ]
  },
  {
   "cell_type": "code",
   "execution_count": 7,
   "metadata": {},
   "outputs": [],
   "source": [
    "#mapa de las 20prop mas caras de caba\n",
    "sells_caba_mas_caras = sells_caba.sort_values(('price_aprox_usd'), ascending=False)\n",
    "sells_caba_mas_caras = sells_caba_mas_caras.reset_index()\n",
    "\n",
    "\n",
    "crear_archivo_kml('propiedadesCABA_mas_caras.kml', 'kml de propiedades')\n",
    "\n",
    "for i in range(20): \n",
    "    if(pd.isnull(sells_caba_mas_caras['lat'][i])):\n",
    "        continue\n",
    "    insertar_ciudades('propiedadesCABA_mas_caras.kml',str(sells_caba_mas_caras['property_type'][i]), str(sells_caba_mas_caras['price_aprox_usd'][i]),str(sells_caba_mas_caras['lon'][i])+','+str(sells_caba_mas_caras['lat'][i]))\n",
    "cerrar_archivo_kml('propiedadesCABA_mas_caras.kml')\n"
   ]
  },
  {
   "cell_type": "markdown",
   "metadata": {},
   "source": [
    "## Mapa 20 ventas mas baratas CABA"
   ]
  },
  {
   "cell_type": "code",
   "execution_count": 8,
   "metadata": {},
   "outputs": [],
   "source": [
    "#mapa de las 20 propiedades mas baratas de caba\n",
    "sells_caba_mas_baratas = sells_caba.sort_values(('price_aprox_usd'), ascending=True)\n",
    "sells_caba_mas_baratas = sells_caba_mas_baratas.reset_index()\n",
    "\n",
    "crear_archivo_kml('propiedadesCABA_mas_baratas.kml', 'kml de propiedades')\n",
    "\n",
    "for i in range(20): \n",
    "    if(pd.isnull(sells_caba_mas_baratas['lat'][i])):\n",
    "        continue\n",
    "    insertar_ciudades('propiedadesCABA_mas_baratas.kml',str(sells_caba_mas_baratas['property_type'][i]), str(sells_caba_mas_baratas['price_aprox_usd'][i]),str(sells_caba_mas_baratas['lon'][i])+','+str(sells_caba_mas_baratas['lat'][i]))\n",
    "cerrar_archivo_kml('propiedadesCABA_mas_baratas.kml')\n",
    "\n"
   ]
  },
  {
   "cell_type": "markdown",
   "metadata": {},
   "source": [
    "## Mapa 20 ventas mas caras GBA"
   ]
  },
  {
   "cell_type": "code",
   "execution_count": 9,
   "metadata": {},
   "outputs": [],
   "source": [
    "#mapa de las 20 propiedades mas caras GBA\n",
    "sells_gba_mas_caras = sells_gba.sort_values(('price_aprox_usd'), ascending=False)\n",
    "sells_gba_mas_caras = sells_gba_mas_caras.reset_index()\n",
    "\n",
    "crear_archivo_kml('propiedadesGBA_mas_caras.kml', 'kml de propiedades')\n",
    "for i in range(20):\n",
    "    if(pd.isnull(sells_gba_mas_caras['lat'][i])):\n",
    "        continue\n",
    "    insertar_ciudades('propiedadesGBA_mas_caras.kml',str(sells_gba_mas_caras['property_type'][i]), str(sells_gba_mas_caras['price_aprox_usd'][i]),str(sells_gba_mas_caras['lon'][i])+','+str(sells_gba_mas_caras['lat'][i]))\n",
    "cerrar_archivo_kml('propiedadesGBA_mas_caras.kml')"
   ]
  },
  {
   "cell_type": "markdown",
   "metadata": {},
   "source": [
    "## Mapa 20 ventas mas baratas GBA"
   ]
  },
  {
   "cell_type": "code",
   "execution_count": 10,
   "metadata": {},
   "outputs": [],
   "source": [
    "#mapa de las 20 propiedades mas baratas GBA\n",
    "sells_gba_mas_baratas = sells_gba.sort_values(('price_aprox_usd'), ascending=True)\n",
    "sells_gba_mas_baratas = sells_gba_mas_baratas.reset_index()\n",
    "\n",
    "crear_archivo_kml('propiedadesGBA_mas_baratas.kml', 'kml de propiedades')\n",
    "for i in range(20):\n",
    "    if(pd.isnull(sells_gba_mas_baratas['lat'][i])):\n",
    "        continue\n",
    "    insertar_ciudades('propiedadesGBA_mas_baratas.kml',str(sells_gba_mas_baratas['property_type'][i]), str(sells_gba_mas_baratas['price_aprox_usd'][i]),str(sells_gba_mas_baratas['lon'][i])+','+str(sells_gba_mas_baratas['lat'][i]))\n",
    "cerrar_archivo_kml('propiedadesGBA_mas_baratas.kml')"
   ]
  },
  {
   "cell_type": "markdown",
   "metadata": {},
   "source": [
    "## mapa de las 20 ventas con expesas mas caras y baratas de CABA\n"
   ]
  },
  {
   "cell_type": "code",
   "execution_count": 11,
   "metadata": {},
   "outputs": [],
   "source": [
    "#mapa de las 20 ventas con expesas mas caras de caba\n",
    "\n",
    "sells_caba['expenses'] = pd.to_numeric(sells_caba['expenses'], errors='coerce')\n",
    "sells_caba_expensas_mas_caras = sells_caba.sort_values(('expenses'), ascending=False)\n",
    "sells_caba_expensas_mas_caras = sells_caba_expensas_mas_caras.reset_index()\n",
    "\n",
    "nombre = 'propiedadesCABA_expensas_mas_caras.kml'\n",
    "crear_archivo_kml(nombre, 'kml de propiedades')\n",
    "\n",
    "for i in range(20): \n",
    "    if(pd.isnull(sells_caba_expensas_mas_caras['lat'][i])):\n",
    "        continue\n",
    "    insertar_ciudades(nombre,str(sells_caba_expensas_mas_caras['property_type'][i]), str(sells_caba_expensas_mas_caras['price_aprox_usd'][i]),str(sells_caba_expensas_mas_caras['lon'][i])+','+str(sells_caba_expensas_mas_caras['lat'][i]))\n",
    "cerrar_archivo_kml(nombre)\n"
   ]
  },
  {
   "cell_type": "code",
   "execution_count": 12,
   "metadata": {},
   "outputs": [],
   "source": [
    "#mapa de las 20 ventas con expesas mas baratas de caba\n",
    "\n",
    "sells_caba['expenses'] = pd.to_numeric(sells_caba['expenses'], errors='coerce')\n",
    "sells_caba_expensas_mas_baratas = sells_caba.sort_values(('expenses'), ascending=True)\n",
    "sells_caba_expensas_mas_baratas = sells_caba_expensas_mas_baratas.reset_index()\n",
    "\n",
    "nombre = 'propiedadesCABA_expensas_mas_baratas.kml'\n",
    "crear_archivo_kml(nombre, 'kml de propiedades')\n",
    "\n",
    "for i in range(20): \n",
    "    if(pd.isnull(sells_caba_expensas_mas_baratas['lat'][i])):\n",
    "        continue\n",
    "    insertar_ciudades(nombre,str(sells_caba_expensas_mas_baratas['property_type'][i]), str(sells_caba_expensas_mas_baratas['price_aprox_usd'][i]),str(sells_caba_expensas_mas_baratas['lon'][i])+','+str(sells_caba_expensas_mas_baratas['lat'][i]))\n",
    "cerrar_archivo_kml(nombre)\n"
   ]
  },
  {
   "cell_type": "markdown",
   "metadata": {},
   "source": [
    "## mapa de las 20 ventas con expesas mas caras y baratas de GBA"
   ]
  },
  {
   "cell_type": "code",
   "execution_count": 13,
   "metadata": {},
   "outputs": [
    {
     "name": "stderr",
     "output_type": "stream",
     "text": [
      "/home/pablo/.local/lib/python3.5/site-packages/ipykernel_launcher.py:3: SettingWithCopyWarning: \n",
      "A value is trying to be set on a copy of a slice from a DataFrame.\n",
      "Try using .loc[row_indexer,col_indexer] = value instead\n",
      "\n",
      "See the caveats in the documentation: http://pandas.pydata.org/pandas-docs/stable/indexing.html#indexing-view-versus-copy\n",
      "  This is separate from the ipykernel package so we can avoid doing imports until\n"
     ]
    }
   ],
   "source": [
    "#mapa de las 20 ventas con expesas mas caras de gba\n",
    "\n",
    "sells_gba['expenses'] = pd.to_numeric(sells_gba['expenses'], errors='coerce')\n",
    "sells_gba_expensas_mas_caras = sells_gba.sort_values(('expenses'), ascending=False)\n",
    "sells_gba_expensas_mas_caras = sells_gba_expensas_mas_caras.reset_index()\n",
    "\n",
    "nombre = 'propiedadesGBA_expensas_mas_caras.kml'\n",
    "crear_archivo_kml(nombre, 'kml de propiedades')\n",
    "\n",
    "for i in range(20): \n",
    "    if(pd.isnull(sells_gba_expensas_mas_caras['lat'][i])):\n",
    "        continue\n",
    "    insertar_ciudades(nombre,str(sells_gba_expensas_mas_caras['property_type'][i]), str(sells_gba_expensas_mas_caras['price_aprox_usd'][i]),str(sells_gba_expensas_mas_caras['lon'][i])+','+str(sells_gba_expensas_mas_caras['lat'][i]))\n",
    "cerrar_archivo_kml(nombre)\n"
   ]
  },
  {
   "cell_type": "code",
   "execution_count": 14,
   "metadata": {},
   "outputs": [],
   "source": [
    "#mapa de las 20 ventas con expesas mas baratas de gba\n",
    "\n",
    "#sells_gba['expenses'] = pd.to_numeric(sells_gba['expenses'], errors='coerce')\n",
    "sells_gba_expensas_mas_baratas = sells_gba.sort_values(('expenses'), ascending=True)\n",
    "sells_gba_expensas_mas_baratas = sells_gba_expensas_mas_baratas.reset_index()\n",
    "\n",
    "nombre = 'propiedadesGBA_expensas_mas_baratas.kml'\n",
    "crear_archivo_kml(nombre, 'kml de propiedades')\n",
    "\n",
    "for i in range(20): \n",
    "    if(pd.isnull(sells_gba_expensas_mas_baratas['lat'][i])):\n",
    "        continue\n",
    "    insertar_ciudades(nombre,str(sells_gba_expensas_mas_baratas['property_type'][i]), str(sells_gba_expensas_mas_baratas['price_aprox_usd'][i]),str(sells_gba_expensas_mas_baratas['lon'][i])+','+str(sells_gba_expensas_mas_baratas['lat'][i]))\n",
    "cerrar_archivo_kml(nombre)\n"
   ]
  },
  {
   "cell_type": "markdown",
   "metadata": {},
   "source": [
    "## mapa de  ventas de 20 ventas con mas /menos habitaciones en CABA\n"
   ]
  },
  {
   "cell_type": "code",
   "execution_count": 16,
   "metadata": {},
   "outputs": [],
   "source": [
    "#mapa de las 20 ventas con mas habitaciones de CABA\n",
    "\n",
    "sells_caba_mas_habitaciones = sells_caba.sort_values(('rooms'), ascending=False)\n",
    "sells_caba_mas_habitaciones = sells_caba_mas_habitaciones.reset_index()\n",
    "\n",
    "nombre = 'propiedadesCABA_mas_habitaciones.kml'\n",
    "crear_archivo_kml(nombre, 'kml de propiedades')\n",
    "\n",
    "for i in range(20): \n",
    "    if(pd.isnull(sells_caba_mas_habitaciones['lat'][i])):\n",
    "        continue\n",
    "    insertar_ciudades(nombre,str(sells_caba_mas_habitaciones['property_type'][i]), str(sells_caba_mas_habitaciones['price_aprox_usd'][i]),str(sells_caba_mas_habitaciones['lon'][i])+','+str(sells_caba_mas_habitaciones['lat'][i]))\n",
    "cerrar_archivo_kml(nombre)\n"
   ]
  },
  {
   "cell_type": "code",
   "execution_count": 17,
   "metadata": {},
   "outputs": [],
   "source": [
    "#mapa de las 20 ventas con menos habitaciones de CABA\n",
    "\n",
    "sells_caba_menos_habitaciones = sells_caba.sort_values(('rooms'), ascending=True)\n",
    "sells_caba_menos_habitaciones = sells_caba_menos_habitaciones.reset_index()\n",
    "\n",
    "nombre = 'propiedadesCABA_menos_habitaciones.kml'\n",
    "crear_archivo_kml(nombre, 'kml de propiedades')\n",
    "\n",
    "for i in range(20): \n",
    "    if(pd.isnull(sells_caba_menos_habitaciones['lat'][i])):\n",
    "        continue\n",
    "    insertar_ciudades(nombre,str(sells_caba_menos_habitaciones['property_type'][i]), str(sells_caba_menos_habitaciones['price_aprox_usd'][i]),str(sells_caba_menos_habitaciones['lon'][i])+','+str(sells_caba_menos_habitaciones['lat'][i]))\n",
    "cerrar_archivo_kml(nombre)\n"
   ]
  },
  {
   "cell_type": "markdown",
   "metadata": {},
   "source": [
    "## mapa de  ventas de 20 ventas con mas /menos habitaciones en GBA\n"
   ]
  },
  {
   "cell_type": "code",
   "execution_count": 18,
   "metadata": {},
   "outputs": [],
   "source": [
    "#mapa de las 20 ventas con mas habitaciones de gba\n",
    "\n",
    "sells_gba_mas_habitaciones = sells_gba.sort_values(('rooms'), ascending=False)\n",
    "sells_gba_mas_habitaciones = sells_gba_mas_habitaciones.reset_index()\n",
    "\n",
    "nombre = 'propiedadesGBA_mas_habitaciones.kml'\n",
    "crear_archivo_kml(nombre, 'kml de propiedades')\n",
    "\n",
    "for i in range(20): \n",
    "    if(pd.isnull(sells_gba_mas_habitaciones['lat'][i])):\n",
    "        continue\n",
    "    insertar_ciudades(nombre,str(sells_gba_mas_habitaciones['property_type'][i]), str(sells_gba_mas_habitaciones['price_aprox_usd'][i]),str(sells_gba_mas_habitaciones['lon'][i])+','+str(sells_gba_mas_habitaciones['lat'][i]))\n",
    "cerrar_archivo_kml(nombre)\n"
   ]
  },
  {
   "cell_type": "code",
   "execution_count": 19,
   "metadata": {},
   "outputs": [],
   "source": [
    "#mapa de las 20 ventas con menos habitaciones de gba\n",
    "#Este mapa no muestra NADA ya que no existen latitud y longitud para las ventas del top20\n",
    "\n",
    "sells_gba_menos_habitaciones = sells_gba.sort_values(('rooms'), ascending=True)\n",
    "sells_gba_menos_habitaciones = sells_gba_menos_habitaciones.reset_index()\n",
    "\n",
    "nombre = 'propiedadesGBA_menos_habitaciones.kml'\n",
    "crear_archivo_kml(nombre, 'kml de propiedades')\n",
    "\n",
    "for i in range(20): \n",
    "    if(pd.isnull(sells_gba_menos_habitaciones['lat'][i])):\n",
    "        continue\n",
    "    insertar_ciudades(nombre,str(sells_gba_menos_habitaciones['property_type'][i]), str(sells_gba_menos_habitaciones['price_aprox_usd'][i]),str(sells_gba_menos_habitaciones['lon'][i])+','+str(sells_gba_menos_habitaciones['lat'][i]))\n",
    "cerrar_archivo_kml(nombre)\n",
    "\n",
    "\n"
   ]
  },
  {
   "cell_type": "markdown",
   "metadata": {},
   "source": [
    "## mapa de las 20 ventas con mas metros cuadrados CABA"
   ]
  },
  {
   "cell_type": "code",
   "execution_count": 20,
   "metadata": {},
   "outputs": [],
   "source": [
    "#mapa de las 20 ventas con mas m2 de CABA\n",
    "\n",
    "sells_caba_mas_m2 = sells_caba.sort_values(('surface_total_in_m2'), ascending=False)\n",
    "sells_caba_mas_m2 = sells_caba_mas_m2.reset_index()\n",
    "\n",
    "nombre = 'propiedadesCABA_mas_m2.kml'\n",
    "crear_archivo_kml(nombre, 'kml de propiedades')\n",
    "\n",
    "for i in range(20): \n",
    "    if(pd.isnull(sells_caba_mas_m2['lat'][i])):\n",
    "        continue\n",
    "    insertar_ciudades(nombre,str(sells_caba_mas_m2['property_type'][i]), str(sells_caba_mas_m2['price_aprox_usd'][i]),str(sells_caba_mas_m2['lon'][i])+','+str(sells_caba_mas_m2['lat'][i]))\n",
    "cerrar_archivo_kml(nombre)\n"
   ]
  },
  {
   "cell_type": "code",
   "execution_count": 21,
   "metadata": {},
   "outputs": [],
   "source": [
    "#mapa de las 20 ventas con mas m2 de CABA\n",
    "\n",
    "sells_caba_menos_m2 = sells_caba.sort_values(('surface_total_in_m2'), ascending=True)\n",
    "sells_caba_menos_m2 = sells_caba_menos_m2.reset_index()\n",
    "\n",
    "nombre = 'propiedadesCABA_menos_m2.kml'\n",
    "crear_archivo_kml(nombre, 'kml de propiedades')\n",
    "\n",
    "for i in range(20): \n",
    "    if(pd.isnull(sells_caba_menos_m2['lat'][i])):\n",
    "        continue\n",
    "    insertar_ciudades(nombre,str(sells_caba_menos_m2['property_type'][i]), str(sells_caba_menos_m2['price_aprox_usd'][i]),str(sells_caba_menos_m2['lon'][i])+','+str(sells_caba_menos_m2['lat'][i]))\n",
    "cerrar_archivo_kml(nombre)\n"
   ]
  },
  {
   "cell_type": "markdown",
   "metadata": {},
   "source": [
    "## mapa de las 20 ventas con mas metros cuadrados GBA"
   ]
  },
  {
   "cell_type": "code",
   "execution_count": 22,
   "metadata": {},
   "outputs": [],
   "source": [
    "#mapa de las 20 ventas con mas m2 de GBA\n",
    "\n",
    "sells_gba_mas_m2 = sells_gba.sort_values(('surface_total_in_m2'), ascending=False)\n",
    "sells_gba_mas_m2 = sells_gba_mas_m2.reset_index()\n",
    "\n",
    "nombre = 'propiedadesGBA_mas_m2.kml'\n",
    "crear_archivo_kml(nombre, 'kml de propiedades')\n",
    "\n",
    "for i in range(20): \n",
    "    if(pd.isnull(sells_gba_mas_m2['lat'][i])):\n",
    "        continue\n",
    "    insertar_ciudades(nombre,str(sells_gba_mas_m2['property_type'][i]), str(sells_gba_mas_m2['price_aprox_usd'][i]),str(sells_gba_mas_m2['lon'][i])+','+str(sells_gba_mas_m2['lat'][i]))\n",
    "cerrar_archivo_kml(nombre)\n"
   ]
  },
  {
   "cell_type": "code",
   "execution_count": 23,
   "metadata": {},
   "outputs": [],
   "source": [
    "#mapa de las 20 ventas con mas m2 de GBA\n",
    "\n",
    "sells_gba_menos_m2 = sells_gba.sort_values(('surface_total_in_m2'), ascending=True)\n",
    "sells_gba_menos_m2 = sells_gba_menos_m2.reset_index()\n",
    "\n",
    "nombre = 'propiedadesGBA_menos_m2.kml'\n",
    "crear_archivo_kml(nombre, 'kml de propiedades')\n",
    "\n",
    "for i in range(20): \n",
    "    if(pd.isnull(sells_gba_menos_m2['lat'][i])):\n",
    "        continue\n",
    "    insertar_ciudades(nombre,str(sells_gba_menos_m2['property_type'][i]), str(sells_gba_menos_m2['price_aprox_usd'][i]),str(sells_gba_menos_m2['lon'][i])+','+str(sells_gba_menos_m2['lat'][i]))\n",
    "cerrar_archivo_kml(nombre)\n"
   ]
  }
 ],
 "metadata": {
  "kernelspec": {
   "display_name": "Python 3",
   "language": "python",
   "name": "python3"
  },
  "language_info": {
   "codemirror_mode": {
    "name": "ipython",
    "version": 3
   },
   "file_extension": ".py",
   "mimetype": "text/x-python",
   "name": "python",
   "nbconvert_exporter": "python",
   "pygments_lexer": "ipython3",
   "version": "3.5.2"
  }
 },
 "nbformat": 4,
 "nbformat_minor": 2
}
