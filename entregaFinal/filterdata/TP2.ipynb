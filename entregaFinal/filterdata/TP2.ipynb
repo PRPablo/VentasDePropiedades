{
 "cells": [
  {
   "cell_type": "code",
   "execution_count": 1,
   "metadata": {
    "collapsed": true
   },
   "outputs": [],
   "source": [
    "import pandas as pd"
   ]
  },
  {
   "cell_type": "code",
   "execution_count": 18,
   "metadata": {},
   "outputs": [],
   "source": [
    "sells_07_2013 = pd.read_csv('filterdata/sells_07_2013.csv')\n",
    "sells_08_2013 = pd.read_csv('filterdata/sells_08_2013.csv')\n",
    "sells_09_2013 = pd.read_csv('filterdata/sells_09_2013.csv')\n",
    "sells_10_2013 = pd.read_csv('filterdata/sells_10_2013.csv')\n",
    "sells_11_2013 = pd.read_csv('filterdata/sells_11_2013.csv')\n",
    "sells_12_2013 = pd.read_csv('filterdata/sells_12_2013.csv')\n",
    "\n",
    "sells_01_2014 = pd.read_csv('filterdata/sells_01_2014.csv')\n",
    "sells_02_2014 = pd.read_csv('filterdata/sells_02_2014.csv')\n",
    "sells_03_2014 = pd.read_csv('filterdata/sells_03_2014.csv')\n",
    "sells_04_2014 = pd.read_csv('filterdata/sells_04_2014.csv')\n",
    "sells_05_2014 = pd.read_csv('filterdata/sells_05_2014.csv')\n",
    "sells_06_2014 = pd.read_csv('filterdata/sells_06_2014.csv')\n",
    "sells_07_2014 = pd.read_csv('filterdata/sells_07_2014.csv')\n",
    "sells_08_2014 = pd.read_csv('filterdata/sells_08_2014.csv')\n",
    "sells_09_2014 = pd.read_csv('filterdata/sells_09_2014.csv')\n",
    "sells_10_2014 = pd.read_csv('filterdata/sells_10_2014.csv')\n",
    "sells_11_2014 = pd.read_csv('filterdata/sells_11_2014.csv')\n",
    "sells_12_2014 = pd.read_csv('filterdata/sells_12_2014.csv')\n",
    "\n",
    "sells_01_2015 = pd.read_csv('filterdata/sells_01_2015.csv')\n",
    "sells_02_2015 = pd.read_csv('filterdata/sells_02_2015.csv')\n",
    "sells_03_2015 = pd.read_csv('filterdata/sells_03_2015.csv')\n",
    "sells_04_2015 = pd.read_csv('filterdata/sells_04_2015.csv')\n",
    "sells_05_2015 = pd.read_csv('filterdata/sells_05_2015.csv')\n",
    "sells_06_2015 = pd.read_csv('filterdata/sells_06_2015.csv')\n",
    "sells_07_2015 = pd.read_csv('filterdata/sells_07_2015.csv')\n",
    "sells_08_2015 = pd.read_csv('filterdata/sells_08_2015.csv')\n",
    "sells_09_2015 = pd.read_csv('filterdata/sells_09_2015.csv')\n",
    "sells_10_2015 = pd.read_csv('filterdata/sells_10_2015.csv')\n",
    "sells_11_2015 = pd.read_csv('filterdata/sells_11_2015.csv')\n",
    "sells_12_2015 = pd.read_csv('filterdata/sells_12_2015.csv')\n",
    "\n",
    "sells_01_2016 = pd.read_csv('filterdata/sells_01_2016.csv')\n",
    "sells_02_2016 = pd.read_csv('filterdata/sells_02_2016.csv')\n",
    "sells_03_2016 = pd.read_csv('filterdata/sells_03_2016.csv')\n",
    "sells_04_2016 = pd.read_csv('filterdata/sells_04_2016.csv')\n",
    "sells_05_2016 = pd.read_csv('filterdata/sells_05_2016.csv')\n",
    "sells_06_2016 = pd.read_csv('filterdata/sells_06_2016.csv')\n",
    "sells_07_2016 = pd.read_csv('filterdata/sells_07_2016.csv')\n",
    "sells_08_2016 = pd.read_csv('filterdata/sells_08_2016.csv')\n",
    "sells_09_2016 = pd.read_csv('filterdata/sells_09_2016.csv')\n",
    "sells_10_2016 = pd.read_csv('filterdata/sells_10_2016.csv')\n",
    "sells_11_2016 = pd.read_csv('filterdata/sells_11_2016.csv')\n",
    "sells_12_2016 = pd.read_csv('filterdata/sells_12_2016.csv')\n",
    "\n",
    "sells_01_2017 = pd.read_csv('filterdata/sells_01_2017.csv')\n",
    "sells_02_2017 = pd.read_csv('filterdata/sells_02_2017.csv')\n",
    "sells_03_2017 = pd.read_csv('filterdata/sells_03_2017.csv')\n",
    "sells_04_2017 = pd.read_csv('filterdata/sells_04_2017.csv')\n",
    "sells_05_2017 = pd.read_csv('filterdata/sells_05_2017.csv')\n",
    "sells_06_2017 = pd.read_csv('filterdata/sells_06_2017.csv')\n",
    "sells_07_2017 = pd.read_csv('filterdata/sells_07_2017.csv')\n",
    "\n"
   ]
  },
  {
   "cell_type": "code",
   "execution_count": 15,
   "metadata": {},
   "outputs": [
    {
     "name": "stdout",
     "output_type": "stream",
     "text": [
      "<class 'pandas.core.frame.DataFrame'>\n",
      "Int64Index: 58033 entries, 0 to 17418\n",
      "Data columns (total 8 columns):\n",
      "Unnamed: 0                 58033 non-null int64\n",
      "created_on                 58033 non-null object\n",
      "property_type              58033 non-null object\n",
      "place_with_parent_names    58033 non-null object\n",
      "price_aprox_usd            58033 non-null float64\n",
      "surface_in_m2              58033 non-null float64\n",
      "floor                      7847 non-null float64\n",
      "rooms                      48398 non-null float64\n",
      "dtypes: float64(4), int64(1), object(3)\n",
      "memory usage: 4.0+ MB\n"
     ]
    }
   ],
   "source": [
    "sells_2013 = pd.concat([sells_07_2013,sells_08_2013,sells_09_2013,sells_10_2013,sells_11_2013,sells_12_2013])\n",
    "sells_2013.info()"
   ]
  },
  {
   "cell_type": "code",
   "execution_count": 22,
   "metadata": {},
   "outputs": [
    {
     "name": "stdout",
     "output_type": "stream",
     "text": [
      "<class 'pandas.core.frame.DataFrame'>\n",
      "Int64Index: 68848 entries, 0 to 1783\n",
      "Data columns (total 8 columns):\n",
      "Unnamed: 0                 68848 non-null int64\n",
      "created_on                 68848 non-null object\n",
      "property_type              68848 non-null object\n",
      "place_with_parent_names    68848 non-null object\n",
      "price_aprox_usd            68848 non-null float64\n",
      "surface_in_m2              68848 non-null float64\n",
      "floor                      12182 non-null float64\n",
      "rooms                      51938 non-null float64\n",
      "dtypes: float64(4), int64(1), object(3)\n",
      "memory usage: 4.7+ MB\n"
     ]
    }
   ],
   "source": [
    "sells_2014 = pd.concat([sells_01_2014,sells_02_2014,sells_03_2014,sells_04_2014,sells_05_2014,sells_06_2014,sells_07_2014,sells_08_2014,sells_09_2014,sells_10_2014,sells_11_2014,sells_12_2014])\n",
    "sells_2014.info()"
   ]
  },
  {
   "cell_type": "code",
   "execution_count": 24,
   "metadata": {},
   "outputs": [
    {
     "name": "stdout",
     "output_type": "stream",
     "text": [
      "<class 'pandas.core.frame.DataFrame'>\n",
      "Int64Index: 89473 entries, 0 to 2163\n",
      "Data columns (total 8 columns):\n",
      "Unnamed: 0                 89473 non-null float64\n",
      "created_on                 89473 non-null object\n",
      "property_type              89473 non-null object\n",
      "place_with_parent_names    89473 non-null object\n",
      "price_aprox_usd            89473 non-null float64\n",
      "surface_in_m2              89473 non-null float64\n",
      "floor                      18857 non-null float64\n",
      "rooms                      33297 non-null float64\n",
      "dtypes: float64(5), object(3)\n",
      "memory usage: 6.1+ MB\n"
     ]
    }
   ],
   "source": [
    "sells_2015 = pd.concat([sells_01_2015,sells_02_2015,sells_03_2015,sells_04_2015,sells_05_2015,sells_06_2015,sells_07_2015,sells_08_2015,sells_09_2015,sells_10_2015,sells_11_2015,sells_12_2015])\n",
    "sells_2015.info()"
   ]
  },
  {
   "cell_type": "code",
   "execution_count": 26,
   "metadata": {},
   "outputs": [
    {
     "name": "stdout",
     "output_type": "stream",
     "text": [
      "<class 'pandas.core.frame.DataFrame'>\n",
      "Int64Index: 62447 entries, 0 to 6676\n",
      "Data columns (total 8 columns):\n",
      "Unnamed: 0                 62447 non-null int64\n",
      "created_on                 62447 non-null object\n",
      "property_type              62447 non-null object\n",
      "place_with_parent_names    62447 non-null object\n",
      "price_aprox_usd            62447 non-null float64\n",
      "surface_in_m2              62447 non-null float64\n",
      "floor                      6178 non-null float64\n",
      "rooms                      37768 non-null float64\n",
      "dtypes: float64(4), int64(1), object(3)\n",
      "memory usage: 4.3+ MB\n"
     ]
    }
   ],
   "source": [
    "sells_2016 = pd.concat([sells_01_2016,sells_02_2016,sells_03_2016,sells_04_2016,sells_05_2016,sells_06_2016,sells_07_2016,sells_08_2016,sells_09_2016,sells_10_2016,sells_11_2016,sells_12_2016])\n",
    "sells_2016.info()"
   ]
  },
  {
   "cell_type": "code",
   "execution_count": 28,
   "metadata": {},
   "outputs": [
    {
     "name": "stdout",
     "output_type": "stream",
     "text": [
      "<class 'pandas.core.frame.DataFrame'>\n",
      "Int64Index: 79673 entries, 0 to 36734\n",
      "Data columns (total 8 columns):\n",
      "Unnamed: 0                 79673 non-null float64\n",
      "created_on                 79673 non-null object\n",
      "property_type              79673 non-null object\n",
      "place_with_parent_names    79673 non-null object\n",
      "price_aprox_usd            79673 non-null float64\n",
      "surface_in_m2              79673 non-null float64\n",
      "floor                      5423 non-null float64\n",
      "rooms                      33346 non-null float64\n",
      "dtypes: float64(5), object(3)\n",
      "memory usage: 5.5+ MB\n"
     ]
    }
   ],
   "source": [
    "sells_2017 = pd.concat([sells_01_2017,sells_02_2017,sells_03_2017,sells_04_2017,sells_05_2017,sells_06_2017,sells_07_2017])\n",
    "sells_2017.info()"
   ]
  },
  {
   "cell_type": "code",
   "execution_count": 42,
   "metadata": {},
   "outputs": [
    {
     "name": "stdout",
     "output_type": "stream",
     "text": [
      "<class 'pandas.core.frame.DataFrame'>\n",
      "Int64Index: 358474 entries, 0 to 36734\n",
      "Data columns (total 7 columns):\n",
      "created_on                 358474 non-null object\n",
      "property_type              358474 non-null object\n",
      "place_with_parent_names    358474 non-null object\n",
      "price_aprox_usd            358474 non-null float64\n",
      "surface_in_m2              358474 non-null float64\n",
      "floor                      50487 non-null float64\n",
      "rooms                      204747 non-null float64\n",
      "dtypes: float64(4), object(3)\n",
      "memory usage: 21.9+ MB\n"
     ]
    }
   ],
   "source": [
    "sells = pd.concat([sells_2013,sells_2014,sells_2015,sells_2016,sells_2017])\n",
    "sells = sells.loc[:,['created_on', 'property_type', 'place_with_parent_names', 'price_aprox_usd', 'surface_in_m2', 'floor', 'rooms']]\n",
    "sells.info()"
   ]
  },
  {
   "cell_type": "code",
   "execution_count": 46,
   "metadata": {
    "scrolled": true
   },
   "outputs": [
    {
     "data": {
      "text/html": [
       "<div>\n",
       "<table border=\"1\" class=\"dataframe\">\n",
       "  <thead>\n",
       "    <tr style=\"text-align: right;\">\n",
       "      <th></th>\n",
       "      <th>created_on</th>\n",
       "      <th>property_type</th>\n",
       "      <th>place_with_parent_names</th>\n",
       "      <th>price_aprox_usd</th>\n",
       "      <th>surface_in_m2</th>\n",
       "      <th>floor</th>\n",
       "      <th>rooms</th>\n",
       "    </tr>\n",
       "  </thead>\n",
       "  <tbody>\n",
       "    <tr>\n",
       "      <th>0</th>\n",
       "      <td>2013-07-01</td>\n",
       "      <td>apartment</td>\n",
       "      <td>|Argentina|Capital Federal|Palermo|</td>\n",
       "      <td>98000</td>\n",
       "      <td>47</td>\n",
       "      <td>1</td>\n",
       "      <td>2</td>\n",
       "    </tr>\n",
       "    <tr>\n",
       "      <th>1</th>\n",
       "      <td>2013-07-01</td>\n",
       "      <td>house</td>\n",
       "      <td>|Argentina|Buenos Aires Costa Atlántica|Mar de...</td>\n",
       "      <td>330000</td>\n",
       "      <td>468</td>\n",
       "      <td>NaN</td>\n",
       "      <td>5</td>\n",
       "    </tr>\n",
       "    <tr>\n",
       "      <th>2</th>\n",
       "      <td>2013-07-01</td>\n",
       "      <td>apartment</td>\n",
       "      <td>|Argentina|Capital Federal|Balvanera|</td>\n",
       "      <td>56900</td>\n",
       "      <td>30</td>\n",
       "      <td>NaN</td>\n",
       "      <td>2</td>\n",
       "    </tr>\n",
       "    <tr>\n",
       "      <th>3</th>\n",
       "      <td>2013-07-01</td>\n",
       "      <td>apartment</td>\n",
       "      <td>|Argentina|Capital Federal|Balvanera|</td>\n",
       "      <td>44000</td>\n",
       "      <td>55</td>\n",
       "      <td>NaN</td>\n",
       "      <td>3</td>\n",
       "    </tr>\n",
       "    <tr>\n",
       "      <th>4</th>\n",
       "      <td>2013-07-01</td>\n",
       "      <td>apartment</td>\n",
       "      <td>|Argentina|Capital Federal|Congreso|</td>\n",
       "      <td>58500</td>\n",
       "      <td>26</td>\n",
       "      <td>NaN</td>\n",
       "      <td>1</td>\n",
       "    </tr>\n",
       "    <tr>\n",
       "      <th>5</th>\n",
       "      <td>2013-07-01</td>\n",
       "      <td>apartment</td>\n",
       "      <td>|Argentina|Bs.As. G.B.A. Zona Norte|San Isidro...</td>\n",
       "      <td>105000</td>\n",
       "      <td>65</td>\n",
       "      <td>NaN</td>\n",
       "      <td>3</td>\n",
       "    </tr>\n",
       "    <tr>\n",
       "      <th>6</th>\n",
       "      <td>2013-07-01</td>\n",
       "      <td>apartment</td>\n",
       "      <td>|Argentina|Bs.As. G.B.A. Zona Norte|Tigre|</td>\n",
       "      <td>90000</td>\n",
       "      <td>60</td>\n",
       "      <td>NaN</td>\n",
       "      <td>3</td>\n",
       "    </tr>\n",
       "    <tr>\n",
       "      <th>7</th>\n",
       "      <td>2013-07-01</td>\n",
       "      <td>PH</td>\n",
       "      <td>|Argentina|Capital Federal|Balvanera|</td>\n",
       "      <td>80000</td>\n",
       "      <td>65</td>\n",
       "      <td>NaN</td>\n",
       "      <td>3</td>\n",
       "    </tr>\n",
       "    <tr>\n",
       "      <th>8</th>\n",
       "      <td>2013-07-01</td>\n",
       "      <td>house</td>\n",
       "      <td>|Argentina|Buenos Aires Costa Atlántica|Mar de...</td>\n",
       "      <td>125000</td>\n",
       "      <td>260</td>\n",
       "      <td>NaN</td>\n",
       "      <td>4</td>\n",
       "    </tr>\n",
       "    <tr>\n",
       "      <th>9</th>\n",
       "      <td>2013-07-01</td>\n",
       "      <td>apartment</td>\n",
       "      <td>|Argentina|Capital Federal|Palermo|Palermo Chico|</td>\n",
       "      <td>91800</td>\n",
       "      <td>38</td>\n",
       "      <td>NaN</td>\n",
       "      <td>1</td>\n",
       "    </tr>\n",
       "  </tbody>\n",
       "</table>\n",
       "</div>"
      ],
      "text/plain": [
       "   created_on property_type  \\\n",
       "0  2013-07-01     apartment   \n",
       "1  2013-07-01         house   \n",
       "2  2013-07-01     apartment   \n",
       "3  2013-07-01     apartment   \n",
       "4  2013-07-01     apartment   \n",
       "5  2013-07-01     apartment   \n",
       "6  2013-07-01     apartment   \n",
       "7  2013-07-01            PH   \n",
       "8  2013-07-01         house   \n",
       "9  2013-07-01     apartment   \n",
       "\n",
       "                             place_with_parent_names  price_aprox_usd  \\\n",
       "0                |Argentina|Capital Federal|Palermo|            98000   \n",
       "1  |Argentina|Buenos Aires Costa Atlántica|Mar de...           330000   \n",
       "2              |Argentina|Capital Federal|Balvanera|            56900   \n",
       "3              |Argentina|Capital Federal|Balvanera|            44000   \n",
       "4               |Argentina|Capital Federal|Congreso|            58500   \n",
       "5  |Argentina|Bs.As. G.B.A. Zona Norte|San Isidro...           105000   \n",
       "6         |Argentina|Bs.As. G.B.A. Zona Norte|Tigre|            90000   \n",
       "7              |Argentina|Capital Federal|Balvanera|            80000   \n",
       "8  |Argentina|Buenos Aires Costa Atlántica|Mar de...           125000   \n",
       "9  |Argentina|Capital Federal|Palermo|Palermo Chico|            91800   \n",
       "\n",
       "   surface_in_m2  floor  rooms  \n",
       "0             47      1      2  \n",
       "1            468    NaN      5  \n",
       "2             30    NaN      2  \n",
       "3             55    NaN      3  \n",
       "4             26    NaN      1  \n",
       "5             65    NaN      3  \n",
       "6             60    NaN      3  \n",
       "7             65    NaN      3  \n",
       "8            260    NaN      4  \n",
       "9             38    NaN      1  "
      ]
     },
     "execution_count": 46,
     "metadata": {},
     "output_type": "execute_result"
    }
   ],
   "source": [
    "sells.head(10)"
   ]
  },
  {
   "cell_type": "code",
   "execution_count": 48,
   "metadata": {
    "collapsed": true
   },
   "outputs": [],
   "source": [
    "sells.to_csv('filterdata/sells.csv')"
   ]
  }
 ],
 "metadata": {
  "kernelspec": {
   "display_name": "Python 3",
   "language": "python",
   "name": "python3"
  },
  "language_info": {
   "codemirror_mode": {
    "name": "ipython",
    "version": 3
   },
   "file_extension": ".py",
   "mimetype": "text/x-python",
   "name": "python",
   "nbconvert_exporter": "python",
   "pygments_lexer": "ipython3",
   "version": "3.5.2"
  }
 },
 "nbformat": 4,
 "nbformat_minor": 2
}
