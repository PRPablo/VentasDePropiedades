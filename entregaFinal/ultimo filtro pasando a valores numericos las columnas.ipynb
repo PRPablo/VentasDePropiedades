{
 "cells": [
  {
   "cell_type": "code",
   "execution_count": 3,
   "metadata": {
    "collapsed": true
   },
   "outputs": [],
   "source": [
    "import pandas as pd"
   ]
  },
  {
   "cell_type": "code",
   "execution_count": 4,
   "metadata": {},
   "outputs": [],
   "source": [
    "sells = pd.read_csv('filterdata/sells.csv')\n",
    "sells.drop(inplace=True, labels='Unnamed: 0', axis= 1)\n",
    "sells['floor'].fillna(value=0, inplace=True) # donde encuentra NaN mete 0 en la columna floor.\n",
    "sells['rooms'].fillna(value=0, inplace=True) # donde encuentra NaN mete 0 en la columna floor."
   ]
  },
  {
   "cell_type": "code",
   "execution_count": 5,
   "metadata": {},
   "outputs": [
    {
     "data": {
      "text/plain": [
       "Index(['created_on', 'property_type', 'place_with_parent_names',\n",
       "       'price_aprox_usd', 'surface_in_m2', 'floor', 'rooms'],\n",
       "      dtype='object')"
      ]
     },
     "execution_count": 5,
     "metadata": {},
     "output_type": "execute_result"
    }
   ],
   "source": [
    "sells.keys()"
   ]
  },
  {
   "cell_type": "code",
   "execution_count": 6,
   "metadata": {},
   "outputs": [
    {
     "data": {
      "text/html": [
       "<div>\n",
       "<table border=\"1\" class=\"dataframe\">\n",
       "  <thead>\n",
       "    <tr style=\"text-align: right;\">\n",
       "      <th></th>\n",
       "      <th>created_on</th>\n",
       "      <th>property_type</th>\n",
       "      <th>place_with_parent_names</th>\n",
       "      <th>price_aprox_usd</th>\n",
       "      <th>surface_in_m2</th>\n",
       "      <th>floor</th>\n",
       "      <th>rooms</th>\n",
       "      <th>id_place_with_parent_names</th>\n",
       "    </tr>\n",
       "  </thead>\n",
       "  <tbody>\n",
       "    <tr>\n",
       "      <th>0</th>\n",
       "      <td>2013-07-01</td>\n",
       "      <td>apartment</td>\n",
       "      <td>|Argentina|Capital Federal|Palermo|</td>\n",
       "      <td>98000</td>\n",
       "      <td>47</td>\n",
       "      <td>1</td>\n",
       "      <td>2</td>\n",
       "      <td>0</td>\n",
       "    </tr>\n",
       "    <tr>\n",
       "      <th>1</th>\n",
       "      <td>2013-07-01</td>\n",
       "      <td>house</td>\n",
       "      <td>|Argentina|Buenos Aires Costa Atlántica|Mar de...</td>\n",
       "      <td>330000</td>\n",
       "      <td>468</td>\n",
       "      <td>0</td>\n",
       "      <td>5</td>\n",
       "      <td>1</td>\n",
       "    </tr>\n",
       "    <tr>\n",
       "      <th>2</th>\n",
       "      <td>2013-07-01</td>\n",
       "      <td>apartment</td>\n",
       "      <td>|Argentina|Capital Federal|Balvanera|</td>\n",
       "      <td>56900</td>\n",
       "      <td>30</td>\n",
       "      <td>0</td>\n",
       "      <td>2</td>\n",
       "      <td>2</td>\n",
       "    </tr>\n",
       "    <tr>\n",
       "      <th>3</th>\n",
       "      <td>2013-07-01</td>\n",
       "      <td>apartment</td>\n",
       "      <td>|Argentina|Capital Federal|Balvanera|</td>\n",
       "      <td>44000</td>\n",
       "      <td>55</td>\n",
       "      <td>0</td>\n",
       "      <td>3</td>\n",
       "      <td>2</td>\n",
       "    </tr>\n",
       "    <tr>\n",
       "      <th>4</th>\n",
       "      <td>2013-07-01</td>\n",
       "      <td>apartment</td>\n",
       "      <td>|Argentina|Capital Federal|Congreso|</td>\n",
       "      <td>58500</td>\n",
       "      <td>26</td>\n",
       "      <td>0</td>\n",
       "      <td>1</td>\n",
       "      <td>3</td>\n",
       "    </tr>\n",
       "  </tbody>\n",
       "</table>\n",
       "</div>"
      ],
      "text/plain": [
       "   created_on property_type  \\\n",
       "0  2013-07-01     apartment   \n",
       "1  2013-07-01         house   \n",
       "2  2013-07-01     apartment   \n",
       "3  2013-07-01     apartment   \n",
       "4  2013-07-01     apartment   \n",
       "\n",
       "                             place_with_parent_names  price_aprox_usd  \\\n",
       "0                |Argentina|Capital Federal|Palermo|            98000   \n",
       "1  |Argentina|Buenos Aires Costa Atlántica|Mar de...           330000   \n",
       "2              |Argentina|Capital Federal|Balvanera|            56900   \n",
       "3              |Argentina|Capital Federal|Balvanera|            44000   \n",
       "4               |Argentina|Capital Federal|Congreso|            58500   \n",
       "\n",
       "   surface_in_m2  floor  rooms  id_place_with_parent_names  \n",
       "0             47      1      2                           0  \n",
       "1            468      0      5                           1  \n",
       "2             30      0      2                           2  \n",
       "3             55      0      3                           2  \n",
       "4             26      0      1                           3  "
      ]
     },
     "execution_count": 6,
     "metadata": {},
     "output_type": "execute_result"
    }
   ],
   "source": [
    "df_barrios = pd.DataFrame(sells.place_with_parent_names.unique(), columns=['place_with_parent_names']).reset_index()\n",
    "df_barrios.rename(columns={'index':'id_place_with_parent_names'},inplace=True)\n",
    "sells = sells.merge(how='left',left_on='place_with_parent_names',right_on='place_with_parent_names',right=df_barrios)\n",
    "sells.head()"
   ]
  },
  {
   "cell_type": "code",
   "execution_count": 7,
   "metadata": {},
   "outputs": [
    {
     "data": {
      "text/html": [
       "<div>\n",
       "<table border=\"1\" class=\"dataframe\">\n",
       "  <thead>\n",
       "    <tr style=\"text-align: right;\">\n",
       "      <th></th>\n",
       "      <th>created_on</th>\n",
       "      <th>property_type</th>\n",
       "      <th>place_with_parent_names</th>\n",
       "      <th>price_aprox_usd</th>\n",
       "      <th>surface_in_m2</th>\n",
       "      <th>floor</th>\n",
       "      <th>rooms</th>\n",
       "      <th>id_place_with_parent_names</th>\n",
       "      <th>id_property_type</th>\n",
       "    </tr>\n",
       "  </thead>\n",
       "  <tbody>\n",
       "    <tr>\n",
       "      <th>0</th>\n",
       "      <td>2013-07-01</td>\n",
       "      <td>apartment</td>\n",
       "      <td>|Argentina|Capital Federal|Palermo|</td>\n",
       "      <td>98000</td>\n",
       "      <td>47</td>\n",
       "      <td>1</td>\n",
       "      <td>2</td>\n",
       "      <td>0</td>\n",
       "      <td>0</td>\n",
       "    </tr>\n",
       "    <tr>\n",
       "      <th>1</th>\n",
       "      <td>2013-07-01</td>\n",
       "      <td>house</td>\n",
       "      <td>|Argentina|Buenos Aires Costa Atlántica|Mar de...</td>\n",
       "      <td>330000</td>\n",
       "      <td>468</td>\n",
       "      <td>0</td>\n",
       "      <td>5</td>\n",
       "      <td>1</td>\n",
       "      <td>1</td>\n",
       "    </tr>\n",
       "    <tr>\n",
       "      <th>2</th>\n",
       "      <td>2013-07-01</td>\n",
       "      <td>apartment</td>\n",
       "      <td>|Argentina|Capital Federal|Balvanera|</td>\n",
       "      <td>56900</td>\n",
       "      <td>30</td>\n",
       "      <td>0</td>\n",
       "      <td>2</td>\n",
       "      <td>2</td>\n",
       "      <td>0</td>\n",
       "    </tr>\n",
       "    <tr>\n",
       "      <th>3</th>\n",
       "      <td>2013-07-01</td>\n",
       "      <td>apartment</td>\n",
       "      <td>|Argentina|Capital Federal|Balvanera|</td>\n",
       "      <td>44000</td>\n",
       "      <td>55</td>\n",
       "      <td>0</td>\n",
       "      <td>3</td>\n",
       "      <td>2</td>\n",
       "      <td>0</td>\n",
       "    </tr>\n",
       "    <tr>\n",
       "      <th>4</th>\n",
       "      <td>2013-07-01</td>\n",
       "      <td>apartment</td>\n",
       "      <td>|Argentina|Capital Federal|Congreso|</td>\n",
       "      <td>58500</td>\n",
       "      <td>26</td>\n",
       "      <td>0</td>\n",
       "      <td>1</td>\n",
       "      <td>3</td>\n",
       "      <td>0</td>\n",
       "    </tr>\n",
       "  </tbody>\n",
       "</table>\n",
       "</div>"
      ],
      "text/plain": [
       "   created_on property_type  \\\n",
       "0  2013-07-01     apartment   \n",
       "1  2013-07-01         house   \n",
       "2  2013-07-01     apartment   \n",
       "3  2013-07-01     apartment   \n",
       "4  2013-07-01     apartment   \n",
       "\n",
       "                             place_with_parent_names  price_aprox_usd  \\\n",
       "0                |Argentina|Capital Federal|Palermo|            98000   \n",
       "1  |Argentina|Buenos Aires Costa Atlántica|Mar de...           330000   \n",
       "2              |Argentina|Capital Federal|Balvanera|            56900   \n",
       "3              |Argentina|Capital Federal|Balvanera|            44000   \n",
       "4               |Argentina|Capital Federal|Congreso|            58500   \n",
       "\n",
       "   surface_in_m2  floor  rooms  id_place_with_parent_names  id_property_type  \n",
       "0             47      1      2                           0                 0  \n",
       "1            468      0      5                           1                 1  \n",
       "2             30      0      2                           2                 0  \n",
       "3             55      0      3                           2                 0  \n",
       "4             26      0      1                           3                 0  "
      ]
     },
     "execution_count": 7,
     "metadata": {},
     "output_type": "execute_result"
    }
   ],
   "source": [
    "df_tipo_propiedad = pd.DataFrame(sells.property_type.unique(), columns=['property_type']).reset_index()\n",
    "df_tipo_propiedad.rename(columns={'index':'id_property_type'},inplace=True)\n",
    "sells = sells.merge(how='left',left_on='property_type',right_on='property_type',right=df_tipo_propiedad)\n",
    "sells.head(5)"
   ]
  },
  {
   "cell_type": "code",
   "execution_count": 8,
   "metadata": {
    "scrolled": true
   },
   "outputs": [
    {
     "data": {
      "text/html": [
       "<div>\n",
       "<table border=\"1\" class=\"dataframe\">\n",
       "  <thead>\n",
       "    <tr style=\"text-align: right;\">\n",
       "      <th></th>\n",
       "      <th>id_property_type</th>\n",
       "      <th>property_type</th>\n",
       "    </tr>\n",
       "  </thead>\n",
       "  <tbody>\n",
       "    <tr>\n",
       "      <th>0</th>\n",
       "      <td>0</td>\n",
       "      <td>apartment</td>\n",
       "    </tr>\n",
       "    <tr>\n",
       "      <th>1</th>\n",
       "      <td>1</td>\n",
       "      <td>house</td>\n",
       "    </tr>\n",
       "    <tr>\n",
       "      <th>2</th>\n",
       "      <td>2</td>\n",
       "      <td>PH</td>\n",
       "    </tr>\n",
       "    <tr>\n",
       "      <th>3</th>\n",
       "      <td>3</td>\n",
       "      <td>store</td>\n",
       "    </tr>\n",
       "  </tbody>\n",
       "</table>\n",
       "</div>"
      ],
      "text/plain": [
       "   id_property_type property_type\n",
       "0                 0     apartment\n",
       "1                 1         house\n",
       "2                 2            PH\n",
       "3                 3         store"
      ]
     },
     "execution_count": 8,
     "metadata": {},
     "output_type": "execute_result"
    }
   ],
   "source": [
    "df_tipo_propiedad"
   ]
  },
  {
   "cell_type": "code",
   "execution_count": 9,
   "metadata": {},
   "outputs": [
    {
     "data": {
      "text/plain": [
       "Index(['created_on', 'property_type', 'place_with_parent_names',\n",
       "       'price_aprox_usd', 'surface_in_m2', 'floor', 'rooms',\n",
       "       'id_place_with_parent_names', 'id_property_type'],\n",
       "      dtype='object')"
      ]
     },
     "execution_count": 9,
     "metadata": {},
     "output_type": "execute_result"
    }
   ],
   "source": [
    "sells.keys()"
   ]
  },
  {
   "cell_type": "code",
   "execution_count": null,
   "metadata": {},
   "outputs": [],
   "source": [
    "\n"
   ]
  },
  {
   "cell_type": "code",
   "execution_count": 10,
   "metadata": {},
   "outputs": [
    {
     "data": {
      "text/html": [
       "<div>\n",
       "<table border=\"1\" class=\"dataframe\">\n",
       "  <thead>\n",
       "    <tr style=\"text-align: right;\">\n",
       "      <th></th>\n",
       "      <th>created_on</th>\n",
       "      <th>property_type</th>\n",
       "      <th>place_with_parent_names</th>\n",
       "      <th>price_aprox_usd</th>\n",
       "      <th>surface_in_m2</th>\n",
       "      <th>floor</th>\n",
       "      <th>rooms</th>\n",
       "      <th>id_place_with_parent_names</th>\n",
       "      <th>id_property_type</th>\n",
       "    </tr>\n",
       "  </thead>\n",
       "  <tbody>\n",
       "    <tr>\n",
       "      <th>0</th>\n",
       "      <td>2013-07-01</td>\n",
       "      <td>apartment</td>\n",
       "      <td>|Argentina|Capital Federal|Palermo|</td>\n",
       "      <td>98000</td>\n",
       "      <td>47</td>\n",
       "      <td>1</td>\n",
       "      <td>2</td>\n",
       "      <td>0</td>\n",
       "      <td>0</td>\n",
       "    </tr>\n",
       "    <tr>\n",
       "      <th>1</th>\n",
       "      <td>2013-07-01</td>\n",
       "      <td>house</td>\n",
       "      <td>|Argentina|Buenos Aires Costa Atlántica|Mar de...</td>\n",
       "      <td>330000</td>\n",
       "      <td>468</td>\n",
       "      <td>0</td>\n",
       "      <td>5</td>\n",
       "      <td>1</td>\n",
       "      <td>1</td>\n",
       "    </tr>\n",
       "    <tr>\n",
       "      <th>2</th>\n",
       "      <td>2013-07-01</td>\n",
       "      <td>apartment</td>\n",
       "      <td>|Argentina|Capital Federal|Balvanera|</td>\n",
       "      <td>56900</td>\n",
       "      <td>30</td>\n",
       "      <td>0</td>\n",
       "      <td>2</td>\n",
       "      <td>2</td>\n",
       "      <td>0</td>\n",
       "    </tr>\n",
       "    <tr>\n",
       "      <th>3</th>\n",
       "      <td>2013-07-01</td>\n",
       "      <td>apartment</td>\n",
       "      <td>|Argentina|Capital Federal|Balvanera|</td>\n",
       "      <td>44000</td>\n",
       "      <td>55</td>\n",
       "      <td>0</td>\n",
       "      <td>3</td>\n",
       "      <td>2</td>\n",
       "      <td>0</td>\n",
       "    </tr>\n",
       "    <tr>\n",
       "      <th>4</th>\n",
       "      <td>2013-07-01</td>\n",
       "      <td>apartment</td>\n",
       "      <td>|Argentina|Capital Federal|Congreso|</td>\n",
       "      <td>58500</td>\n",
       "      <td>26</td>\n",
       "      <td>0</td>\n",
       "      <td>1</td>\n",
       "      <td>3</td>\n",
       "      <td>0</td>\n",
       "    </tr>\n",
       "  </tbody>\n",
       "</table>\n",
       "</div>"
      ],
      "text/plain": [
       "   created_on property_type  \\\n",
       "0  2013-07-01     apartment   \n",
       "1  2013-07-01         house   \n",
       "2  2013-07-01     apartment   \n",
       "3  2013-07-01     apartment   \n",
       "4  2013-07-01     apartment   \n",
       "\n",
       "                             place_with_parent_names  price_aprox_usd  \\\n",
       "0                |Argentina|Capital Federal|Palermo|            98000   \n",
       "1  |Argentina|Buenos Aires Costa Atlántica|Mar de...           330000   \n",
       "2              |Argentina|Capital Federal|Balvanera|            56900   \n",
       "3              |Argentina|Capital Federal|Balvanera|            44000   \n",
       "4               |Argentina|Capital Federal|Congreso|            58500   \n",
       "\n",
       "   surface_in_m2  floor  rooms  id_place_with_parent_names  id_property_type  \n",
       "0             47      1      2                           0                 0  \n",
       "1            468      0      5                           1                 1  \n",
       "2             30      0      2                           2                 0  \n",
       "3             55      0      3                           2                 0  \n",
       "4             26      0      1                           3                 0  "
      ]
     },
     "execution_count": 10,
     "metadata": {},
     "output_type": "execute_result"
    }
   ],
   "source": [
    "sells.head(5)"
   ]
  },
  {
   "cell_type": "code",
   "execution_count": 11,
   "metadata": {},
   "outputs": [
    {
     "name": "stdout",
     "output_type": "stream",
     "text": [
      "<class 'pandas.core.frame.DataFrame'>\n",
      "Int64Index: 358474 entries, 0 to 358473\n",
      "Data columns (total 9 columns):\n",
      "created_on                    358474 non-null object\n",
      "property_type                 358474 non-null object\n",
      "place_with_parent_names       358474 non-null object\n",
      "price_aprox_usd               358474 non-null float64\n",
      "surface_in_m2                 358474 non-null float64\n",
      "floor                         358474 non-null float64\n",
      "rooms                         358474 non-null float64\n",
      "id_place_with_parent_names    358474 non-null int64\n",
      "id_property_type              358474 non-null int64\n",
      "dtypes: float64(4), int64(2), object(3)\n",
      "memory usage: 27.3+ MB\n"
     ]
    }
   ],
   "source": [
    "sells.info()"
   ]
  },
  {
   "cell_type": "code",
   "execution_count": 12,
   "metadata": {
    "scrolled": true
   },
   "outputs": [],
   "source": [
    "(sells[sells['floor']>52]).count() ##se pueden dropear 289 edificios q poseen mas de 52pisos lo cual no es posible para ningun edificio en buenos aires,ya que el mas alto posee 52 pisos.\n",
    "sells = sells[sells['floor']<52]\n",
    "\n",
    "sells.drop(inplace=True, labels='property_type', axis= 1)\n",
    "sells.drop(inplace=True, labels='place_with_parent_names', axis= 1)\n"
   ]
  },
  {
   "cell_type": "code",
   "execution_count": 13,
   "metadata": {
    "scrolled": true
   },
   "outputs": [
    {
     "data": {
      "text/html": [
       "<div>\n",
       "<table border=\"1\" class=\"dataframe\">\n",
       "  <thead>\n",
       "    <tr style=\"text-align: right;\">\n",
       "      <th></th>\n",
       "      <th>created_on</th>\n",
       "      <th>price_aprox_usd</th>\n",
       "      <th>surface_in_m2</th>\n",
       "      <th>floor</th>\n",
       "      <th>rooms</th>\n",
       "      <th>id_place_with_parent_names</th>\n",
       "      <th>id_property_type</th>\n",
       "    </tr>\n",
       "  </thead>\n",
       "  <tbody>\n",
       "    <tr>\n",
       "      <th>0</th>\n",
       "      <td>2013-07-01</td>\n",
       "      <td>98000</td>\n",
       "      <td>47</td>\n",
       "      <td>1</td>\n",
       "      <td>2</td>\n",
       "      <td>0</td>\n",
       "      <td>0</td>\n",
       "    </tr>\n",
       "    <tr>\n",
       "      <th>1</th>\n",
       "      <td>2013-07-01</td>\n",
       "      <td>330000</td>\n",
       "      <td>468</td>\n",
       "      <td>0</td>\n",
       "      <td>5</td>\n",
       "      <td>1</td>\n",
       "      <td>1</td>\n",
       "    </tr>\n",
       "    <tr>\n",
       "      <th>2</th>\n",
       "      <td>2013-07-01</td>\n",
       "      <td>56900</td>\n",
       "      <td>30</td>\n",
       "      <td>0</td>\n",
       "      <td>2</td>\n",
       "      <td>2</td>\n",
       "      <td>0</td>\n",
       "    </tr>\n",
       "    <tr>\n",
       "      <th>3</th>\n",
       "      <td>2013-07-01</td>\n",
       "      <td>44000</td>\n",
       "      <td>55</td>\n",
       "      <td>0</td>\n",
       "      <td>3</td>\n",
       "      <td>2</td>\n",
       "      <td>0</td>\n",
       "    </tr>\n",
       "    <tr>\n",
       "      <th>4</th>\n",
       "      <td>2013-07-01</td>\n",
       "      <td>58500</td>\n",
       "      <td>26</td>\n",
       "      <td>0</td>\n",
       "      <td>1</td>\n",
       "      <td>3</td>\n",
       "      <td>0</td>\n",
       "    </tr>\n",
       "  </tbody>\n",
       "</table>\n",
       "</div>"
      ],
      "text/plain": [
       "   created_on  price_aprox_usd  surface_in_m2  floor  rooms  \\\n",
       "0  2013-07-01            98000             47      1      2   \n",
       "1  2013-07-01           330000            468      0      5   \n",
       "2  2013-07-01            56900             30      0      2   \n",
       "3  2013-07-01            44000             55      0      3   \n",
       "4  2013-07-01            58500             26      0      1   \n",
       "\n",
       "   id_place_with_parent_names  id_property_type  \n",
       "0                           0                 0  \n",
       "1                           1                 1  \n",
       "2                           2                 0  \n",
       "3                           2                 0  \n",
       "4                           3                 0  "
      ]
     },
     "execution_count": 13,
     "metadata": {},
     "output_type": "execute_result"
    }
   ],
   "source": [
    "sells.head()"
   ]
  },
  {
   "cell_type": "code",
   "execution_count": null,
   "metadata": {
    "collapsed": true
   },
   "outputs": [],
   "source": []
  },
  {
   "cell_type": "code",
   "execution_count": null,
   "metadata": {
    "collapsed": true
   },
   "outputs": [],
   "source": []
  },
  {
   "cell_type": "code",
   "execution_count": null,
   "metadata": {},
   "outputs": [],
   "source": []
  },
  {
   "cell_type": "code",
   "execution_count": 14,
   "metadata": {},
   "outputs": [],
   "source": [
    "sells['created_on'] = sells['created_on'].str.replace('-','')"
   ]
  },
  {
   "cell_type": "code",
   "execution_count": 15,
   "metadata": {
    "scrolled": true
   },
   "outputs": [
    {
     "name": "stdout",
     "output_type": "stream",
     "text": [
      "<class 'pandas.core.frame.DataFrame'>\n",
      "Int64Index: 358185 entries, 0 to 358473\n",
      "Data columns (total 7 columns):\n",
      "created_on                    358185 non-null object\n",
      "price_aprox_usd               358185 non-null float64\n",
      "surface_in_m2                 358185 non-null float64\n",
      "floor                         358185 non-null float64\n",
      "rooms                         358185 non-null float64\n",
      "id_place_with_parent_names    358185 non-null int64\n",
      "id_property_type              358185 non-null int64\n",
      "dtypes: float64(4), int64(2), object(1)\n",
      "memory usage: 21.9+ MB\n"
     ]
    }
   ],
   "source": [
    "sells.info()"
   ]
  },
  {
   "cell_type": "code",
   "execution_count": 16,
   "metadata": {
    "scrolled": false
   },
   "outputs": [
    {
     "name": "stdout",
     "output_type": "stream",
     "text": [
      "<class 'pandas.core.frame.DataFrame'>\n",
      "Int64Index: 358185 entries, 0 to 358473\n",
      "Data columns (total 7 columns):\n",
      "created_on                    358185 non-null object\n",
      "price_aprox_usd               358185 non-null float64\n",
      "surface_in_m2                 358185 non-null float64\n",
      "floor                         358185 non-null float64\n",
      "rooms                         358185 non-null float64\n",
      "id_place_with_parent_names    358185 non-null int64\n",
      "id_property_type              358185 non-null int64\n",
      "dtypes: float64(4), int64(2), object(1)\n",
      "memory usage: 21.9+ MB\n"
     ]
    }
   ],
   "source": [
    "sells.info()"
   ]
  },
  {
   "cell_type": "code",
   "execution_count": 17,
   "metadata": {},
   "outputs": [
    {
     "name": "stdout",
     "output_type": "stream",
     "text": [
      "<class 'pandas.core.frame.DataFrame'>\n",
      "Int64Index: 358185 entries, 0 to 358473\n",
      "Data columns (total 7 columns):\n",
      "created_on                    358185 non-null int64\n",
      "price_aprox_usd               358185 non-null float64\n",
      "surface_in_m2                 358185 non-null float64\n",
      "floor                         358185 non-null float64\n",
      "rooms                         358185 non-null float64\n",
      "id_place_with_parent_names    358185 non-null int64\n",
      "id_property_type              358185 non-null int64\n",
      "dtypes: float64(4), int64(3)\n",
      "memory usage: 21.9 MB\n"
     ]
    }
   ],
   "source": [
    "sells = sells.apply(pd.to_numeric)\n",
    "sells.info()"
   ]
  },
  {
   "cell_type": "code",
   "execution_count": 18,
   "metadata": {
    "collapsed": true
   },
   "outputs": [],
   "source": [
    "sells.to_csv('filterdata/sellsNumericos')"
   ]
  },
  {
   "cell_type": "code",
   "execution_count": null,
   "metadata": {
    "collapsed": true
   },
   "outputs": [],
   "source": []
  }
 ],
 "metadata": {
  "kernelspec": {
   "display_name": "Python 3",
   "language": "python",
   "name": "python3"
  },
  "language_info": {
   "codemirror_mode": {
    "name": "ipython",
    "version": 3
   },
   "file_extension": ".py",
   "mimetype": "text/x-python",
   "name": "python",
   "nbconvert_exporter": "python",
   "pygments_lexer": "ipython3",
   "version": "3.5.2"
  }
 },
 "nbformat": 4,
 "nbformat_minor": 2
}
